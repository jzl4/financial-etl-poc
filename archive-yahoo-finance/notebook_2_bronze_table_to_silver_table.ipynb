{
 "cells": [
  {
   "cell_type": "markdown",
   "id": "bc7b90f4",
   "metadata": {},
   "source": [
    "# Notebook 2 - Development work for ETL'ing data from bronze table tbl_api_payloads_yfinance_daily to silver table tbl_prices_daily_staging"
   ]
  },
  {
   "cell_type": "markdown",
   "id": "0bdd4832",
   "metadata": {},
   "source": [
    "### Setup"
   ]
  },
  {
   "cell_type": "code",
   "execution_count": null,
   "id": "357b39e0",
   "metadata": {},
   "outputs": [],
   "source": [
    "import sys\n",
    "import os\n",
    "from dotenv import load_dotenv\n",
    "\n",
    "# /home/ubuntu/financial-etl-poc/this_folder\n",
    "current_folder = os.path.dirname(os.path.abspath(\"__file__\"))\n",
    "# /home/ubuntu/financial-etl-poc/\n",
    "project_root_folder = os.path.abspath(os.path.join(current_folder, \"..\"))\n",
    "sys.path.append(project_root_folder)\n",
    "# For loading credentials from .env under financial-etl-poc\n",
    "dotenv_path = os.path.join(project_root_folder, \".env\")\n",
    "\n",
    "if project_root_folder not in sys.path:\n",
    "    sys.path.append(project_root_folder)\n",
    "\n",
    "from utils.db_utils import *\n",
    "from psycopg2.extras import execute_values  # Bulk insertion of Pandas dataframes\n",
    "from datetime import datetime, date, timezone"
   ]
  },
  {
   "cell_type": "code",
   "execution_count": 2,
   "id": "6de90eaa",
   "metadata": {},
   "outputs": [
    {
     "name": "stdout",
     "output_type": "stream",
     "text": [
      "✅ Connected successfully!\n"
     ]
    }
   ],
   "source": [
    "load_dotenv(dotenv_path)\n",
    "conn, cursor = connect_to_rds()"
   ]
  },
  {
   "cell_type": "markdown",
   "id": "fcf59f70",
   "metadata": {},
   "source": [
    "### Create a function for pulling data from tbl_api_payloads_yfinance_daily (extract part of ETL)"
   ]
  },
  {
   "cell_type": "code",
   "execution_count": 3,
   "id": "eea9215c",
   "metadata": {},
   "outputs": [],
   "source": [
    "def extract_raw_payloads_from_tbl_api_payloads_yfinance_daily(start_date: date, end_date: date, cursor: Cursor) -> pd.DataFrame:\n",
    "    \"\"\"\n",
    "    Extract the raw json payloads from bronze table tbl_api_payloads_yfinance_daily between start_date and end_date\n",
    "    \"\"\"\n",
    "\n",
    "    query = f\"\"\"\n",
    "    SELECT business_date, raw_payload\n",
    "    FROM tbl_api_payloads_yfinance_daily\n",
    "    WHERE business_date BETWEEN '{start_date}' and '{end_date}';\n",
    "    \"\"\"\n",
    "\n",
    "    df_api_payloads_yfinance_daily = sql_query_as_df(query, cursor)\n",
    "\n",
    "    if df_api_payloads_yfinance_daily.empty:\n",
    "        raise ValueError(f\"Querying for json payloads from bronze table tbl_api_payloads_yfinance_daily between {start_date} and {end_date} returned no rows\")\n",
    "\n",
    "    print(f\"Fetched {len(df_api_payloads_yfinance_daily)} rows from bronze table tbl_api_payloads_yfinance_daily for dates {start_date} to {end_date}\")\n",
    "    \n",
    "    return df_api_payloads_yfinance_daily"
   ]
  },
  {
   "cell_type": "code",
   "execution_count": 4,
   "id": "700d1928",
   "metadata": {},
   "outputs": [
    {
     "name": "stdout",
     "output_type": "stream",
     "text": [
      "Fetched 12 rows from bronze table tbl_api_payloads_yfinance_daily for dates 2025-04-01 to 2025-05-10\n"
     ]
    },
    {
     "data": {
      "text/html": [
       "<div>\n",
       "<style scoped>\n",
       "    .dataframe tbody tr th:only-of-type {\n",
       "        vertical-align: middle;\n",
       "    }\n",
       "\n",
       "    .dataframe tbody tr th {\n",
       "        vertical-align: top;\n",
       "    }\n",
       "\n",
       "    .dataframe thead th {\n",
       "        text-align: right;\n",
       "    }\n",
       "</style>\n",
       "<table border=\"1\" class=\"dataframe\">\n",
       "  <thead>\n",
       "    <tr style=\"text-align: right;\">\n",
       "      <th></th>\n",
       "      <th>business_date</th>\n",
       "      <th>raw_payload</th>\n",
       "    </tr>\n",
       "  </thead>\n",
       "  <tbody>\n",
       "    <tr>\n",
       "      <th>0</th>\n",
       "      <td>2025-04-01</td>\n",
       "      <td>{'data': [[557.450012207, 562.9400024414, 553....</td>\n",
       "    </tr>\n",
       "    <tr>\n",
       "      <th>1</th>\n",
       "      <td>2025-04-02</td>\n",
       "      <td>{'data': [[555.049987793, 567.4199829102, 554....</td>\n",
       "    </tr>\n",
       "    <tr>\n",
       "      <th>2</th>\n",
       "      <td>2025-04-03</td>\n",
       "      <td>{'data': [[545.1099853516, 547.9699707031, 536...</td>\n",
       "    </tr>\n",
       "    <tr>\n",
       "      <th>3</th>\n",
       "      <td>2025-04-04</td>\n",
       "      <td>{'data': [[523.6699829102, 525.8699951172, 505...</td>\n",
       "    </tr>\n",
       "    <tr>\n",
       "      <th>4</th>\n",
       "      <td>2025-04-07</td>\n",
       "      <td>{'data': [[489.1900024414, 523.1699829102, 481...</td>\n",
       "    </tr>\n",
       "    <tr>\n",
       "      <th>5</th>\n",
       "      <td>2025-04-08</td>\n",
       "      <td>{'data': [[521.8599853516, 524.9799804688, 489...</td>\n",
       "    </tr>\n",
       "    <tr>\n",
       "      <th>6</th>\n",
       "      <td>2025-04-09</td>\n",
       "      <td>{'data': [[493.4400024414, 548.6199951172, 493...</td>\n",
       "    </tr>\n",
       "    <tr>\n",
       "      <th>7</th>\n",
       "      <td>2025-04-10</td>\n",
       "      <td>{'data': [[532.1699829102, 533.5, 509.32000732...</td>\n",
       "    </tr>\n",
       "    <tr>\n",
       "      <th>8</th>\n",
       "      <td>2025-04-25</td>\n",
       "      <td>{'data': [[67.9199981689, 68.1299972534, 67.56...</td>\n",
       "    </tr>\n",
       "    <tr>\n",
       "      <th>9</th>\n",
       "      <td>2025-04-23</td>\n",
       "      <td>{'data': [[104.5199966431, 104.8000030518, 102...</td>\n",
       "    </tr>\n",
       "    <tr>\n",
       "      <th>10</th>\n",
       "      <td>2025-04-24</td>\n",
       "      <td>{'data': [[103.4800033569, 106.5400009155, 103...</td>\n",
       "    </tr>\n",
       "    <tr>\n",
       "      <th>11</th>\n",
       "      <td>2025-05-06</td>\n",
       "      <td>{'data': [[313.1199951172, 313.25, 311.4049987...</td>\n",
       "    </tr>\n",
       "  </tbody>\n",
       "</table>\n",
       "</div>"
      ],
      "text/plain": [
       "   business_date                                        raw_payload\n",
       "0     2025-04-01  {'data': [[557.450012207, 562.9400024414, 553....\n",
       "1     2025-04-02  {'data': [[555.049987793, 567.4199829102, 554....\n",
       "2     2025-04-03  {'data': [[545.1099853516, 547.9699707031, 536...\n",
       "3     2025-04-04  {'data': [[523.6699829102, 525.8699951172, 505...\n",
       "4     2025-04-07  {'data': [[489.1900024414, 523.1699829102, 481...\n",
       "5     2025-04-08  {'data': [[521.8599853516, 524.9799804688, 489...\n",
       "6     2025-04-09  {'data': [[493.4400024414, 548.6199951172, 493...\n",
       "7     2025-04-10  {'data': [[532.1699829102, 533.5, 509.32000732...\n",
       "8     2025-04-25  {'data': [[67.9199981689, 68.1299972534, 67.56...\n",
       "9     2025-04-23  {'data': [[104.5199966431, 104.8000030518, 102...\n",
       "10    2025-04-24  {'data': [[103.4800033569, 106.5400009155, 103...\n",
       "11    2025-05-06  {'data': [[313.1199951172, 313.25, 311.4049987..."
      ]
     },
     "execution_count": 4,
     "metadata": {},
     "output_type": "execute_result"
    }
   ],
   "source": [
    "# Test extract_raw_payloads_from_tbl_api_payloads_yfinance_daily\n",
    "start_date = date(2025, 4, 1)\n",
    "end_date = date(2025, 5, 10)\n",
    "df_api_payloads_yfinance_daily = extract_raw_payloads_from_tbl_api_payloads_yfinance_daily(start_date, end_date, cursor)\n",
    "df_api_payloads_yfinance_daily\n"
   ]
  },
  {
   "cell_type": "markdown",
   "id": "3eb5e7ae",
   "metadata": {},
   "source": [
    "### Exploration on how to recover multiIndex dataframe from json payload, and then flatten"
   ]
  },
  {
   "cell_type": "code",
   "execution_count": 5,
   "id": "c76c86e3",
   "metadata": {},
   "outputs": [
    {
     "data": {
      "text/plain": [
       "{'data': [[557.450012207,\n",
       "   562.9400024414,\n",
       "   553.6799926758,\n",
       "   560.9699707031,\n",
       "   54609600,\n",
       "   288.5400085449,\n",
       "   289.1300048828,\n",
       "   285.9100036621,\n",
       "   287.5700073242,\n",
       "   15923600,\n",
       "   467.299987793,\n",
       "   473.6300048828,\n",
       "   464.4200134277,\n",
       "   472.700012207,\n",
       "   41156200]],\n",
       " 'index': [1743465600000],\n",
       " 'columns': [['SPY', 'Open'],\n",
       "  ['SPY', 'High'],\n",
       "  ['SPY', 'Low'],\n",
       "  ['SPY', 'Close'],\n",
       "  ['SPY', 'Volume'],\n",
       "  ['GLD', 'Open'],\n",
       "  ['GLD', 'High'],\n",
       "  ['GLD', 'Low'],\n",
       "  ['GLD', 'Close'],\n",
       "  ['GLD', 'Volume'],\n",
       "  ['QQQ', 'Open'],\n",
       "  ['QQQ', 'High'],\n",
       "  ['QQQ', 'Low'],\n",
       "  ['QQQ', 'Close'],\n",
       "  ['QQQ', 'Volume']]}"
      ]
     },
     "execution_count": 5,
     "metadata": {},
     "output_type": "execute_result"
    }
   ],
   "source": [
    "# Each raw_payload is a dictionary, with keys: data, index, and columns.  Convert this back into a multi-index pandas dataframe\n",
    "raw_payload = df_api_payloads_yfinance_daily[\"raw_payload\"][0]\n",
    "raw_payload"
   ]
  },
  {
   "cell_type": "code",
   "execution_count": 6,
   "id": "daed2867",
   "metadata": {},
   "outputs": [
    {
     "data": {
      "text/plain": [
       "[[557.450012207,\n",
       "  562.9400024414,\n",
       "  553.6799926758,\n",
       "  560.9699707031,\n",
       "  54609600,\n",
       "  288.5400085449,\n",
       "  289.1300048828,\n",
       "  285.9100036621,\n",
       "  287.5700073242,\n",
       "  15923600,\n",
       "  467.299987793,\n",
       "  473.6300048828,\n",
       "  464.4200134277,\n",
       "  472.700012207,\n",
       "  41156200]]"
      ]
     },
     "execution_count": 6,
     "metadata": {},
     "output_type": "execute_result"
    }
   ],
   "source": [
    "data = raw_payload[\"data\"]\n",
    "data"
   ]
  },
  {
   "cell_type": "code",
   "execution_count": 7,
   "id": "d6ddf957",
   "metadata": {},
   "outputs": [
    {
     "data": {
      "text/plain": [
       "DatetimeIndex(['2025-04-01'], dtype='datetime64[ns]', freq=None)"
      ]
     },
     "execution_count": 7,
     "metadata": {},
     "output_type": "execute_result"
    }
   ],
   "source": [
    "index = pd.to_datetime(raw_payload[\"index\"], unit = \"ms\")\n",
    "index\n"
   ]
  },
  {
   "cell_type": "code",
   "execution_count": 8,
   "id": "68f4c41e",
   "metadata": {},
   "outputs": [
    {
     "data": {
      "text/plain": [
       "MultiIndex([('SPY',   'Open'),\n",
       "            ('SPY',   'High'),\n",
       "            ('SPY',    'Low'),\n",
       "            ('SPY',  'Close'),\n",
       "            ('SPY', 'Volume'),\n",
       "            ('GLD',   'Open'),\n",
       "            ('GLD',   'High'),\n",
       "            ('GLD',    'Low'),\n",
       "            ('GLD',  'Close'),\n",
       "            ('GLD', 'Volume'),\n",
       "            ('QQQ',   'Open'),\n",
       "            ('QQQ',   'High'),\n",
       "            ('QQQ',    'Low'),\n",
       "            ('QQQ',  'Close'),\n",
       "            ('QQQ', 'Volume')],\n",
       "           names=['Ticker', 'Field'])"
      ]
     },
     "execution_count": 8,
     "metadata": {},
     "output_type": "execute_result"
    }
   ],
   "source": [
    "columns = pd.MultiIndex.from_tuples(raw_payload[\"columns\"], names = [\"Ticker\", \"Field\"])\n",
    "columns"
   ]
  },
  {
   "cell_type": "code",
   "execution_count": 9,
   "id": "9e759c9b",
   "metadata": {},
   "outputs": [
    {
     "data": {
      "text/html": [
       "<div>\n",
       "<style scoped>\n",
       "    .dataframe tbody tr th:only-of-type {\n",
       "        vertical-align: middle;\n",
       "    }\n",
       "\n",
       "    .dataframe tbody tr th {\n",
       "        vertical-align: top;\n",
       "    }\n",
       "\n",
       "    .dataframe thead tr th {\n",
       "        text-align: left;\n",
       "    }\n",
       "</style>\n",
       "<table border=\"1\" class=\"dataframe\">\n",
       "  <thead>\n",
       "    <tr>\n",
       "      <th>Ticker</th>\n",
       "      <th colspan=\"5\" halign=\"left\">SPY</th>\n",
       "      <th colspan=\"5\" halign=\"left\">GLD</th>\n",
       "      <th colspan=\"5\" halign=\"left\">QQQ</th>\n",
       "    </tr>\n",
       "    <tr>\n",
       "      <th>Field</th>\n",
       "      <th>Open</th>\n",
       "      <th>High</th>\n",
       "      <th>Low</th>\n",
       "      <th>Close</th>\n",
       "      <th>Volume</th>\n",
       "      <th>Open</th>\n",
       "      <th>High</th>\n",
       "      <th>Low</th>\n",
       "      <th>Close</th>\n",
       "      <th>Volume</th>\n",
       "      <th>Open</th>\n",
       "      <th>High</th>\n",
       "      <th>Low</th>\n",
       "      <th>Close</th>\n",
       "      <th>Volume</th>\n",
       "    </tr>\n",
       "  </thead>\n",
       "  <tbody>\n",
       "    <tr>\n",
       "      <th>2025-04-01</th>\n",
       "      <td>557.450012</td>\n",
       "      <td>562.940002</td>\n",
       "      <td>553.679993</td>\n",
       "      <td>560.969971</td>\n",
       "      <td>54609600</td>\n",
       "      <td>288.540009</td>\n",
       "      <td>289.130005</td>\n",
       "      <td>285.910004</td>\n",
       "      <td>287.570007</td>\n",
       "      <td>15923600</td>\n",
       "      <td>467.299988</td>\n",
       "      <td>473.630005</td>\n",
       "      <td>464.420013</td>\n",
       "      <td>472.700012</td>\n",
       "      <td>41156200</td>\n",
       "    </tr>\n",
       "  </tbody>\n",
       "</table>\n",
       "</div>"
      ],
      "text/plain": [
       "Ticker             SPY                                                \\\n",
       "Field             Open        High         Low       Close    Volume   \n",
       "2025-04-01  557.450012  562.940002  553.679993  560.969971  54609600   \n",
       "\n",
       "Ticker             GLD                                                \\\n",
       "Field             Open        High         Low       Close    Volume   \n",
       "2025-04-01  288.540009  289.130005  285.910004  287.570007  15923600   \n",
       "\n",
       "Ticker             QQQ                                                \n",
       "Field             Open        High         Low       Close    Volume  \n",
       "2025-04-01  467.299988  473.630005  464.420013  472.700012  41156200  "
      ]
     },
     "execution_count": 9,
     "metadata": {},
     "output_type": "execute_result"
    }
   ],
   "source": [
    "# Create a Pandas dataframe from data, index, and columns\n",
    "df_payload = pd.DataFrame(\n",
    "    data = data,\n",
    "    index = index,\n",
    "    columns = columns\n",
    ")\n",
    "\n",
    "df_payload"
   ]
  },
  {
   "cell_type": "code",
   "execution_count": 10,
   "id": "9cd4b179",
   "metadata": {},
   "outputs": [
    {
     "data": {
      "text/html": [
       "<div>\n",
       "<style scoped>\n",
       "    .dataframe tbody tr th:only-of-type {\n",
       "        vertical-align: middle;\n",
       "    }\n",
       "\n",
       "    .dataframe tbody tr th {\n",
       "        vertical-align: top;\n",
       "    }\n",
       "\n",
       "    .dataframe thead th {\n",
       "        text-align: right;\n",
       "    }\n",
       "</style>\n",
       "<table border=\"1\" class=\"dataframe\">\n",
       "  <thead>\n",
       "    <tr style=\"text-align: right;\">\n",
       "      <th></th>\n",
       "      <th>Field</th>\n",
       "      <th>Open</th>\n",
       "      <th>High</th>\n",
       "      <th>Low</th>\n",
       "      <th>Close</th>\n",
       "      <th>Volume</th>\n",
       "    </tr>\n",
       "    <tr>\n",
       "      <th></th>\n",
       "      <th>Ticker</th>\n",
       "      <th></th>\n",
       "      <th></th>\n",
       "      <th></th>\n",
       "      <th></th>\n",
       "      <th></th>\n",
       "    </tr>\n",
       "  </thead>\n",
       "  <tbody>\n",
       "    <tr>\n",
       "      <th rowspan=\"3\" valign=\"top\">2025-04-01</th>\n",
       "      <th>SPY</th>\n",
       "      <td>557.450012</td>\n",
       "      <td>562.940002</td>\n",
       "      <td>553.679993</td>\n",
       "      <td>560.969971</td>\n",
       "      <td>54609600</td>\n",
       "    </tr>\n",
       "    <tr>\n",
       "      <th>GLD</th>\n",
       "      <td>288.540009</td>\n",
       "      <td>289.130005</td>\n",
       "      <td>285.910004</td>\n",
       "      <td>287.570007</td>\n",
       "      <td>15923600</td>\n",
       "    </tr>\n",
       "    <tr>\n",
       "      <th>QQQ</th>\n",
       "      <td>467.299988</td>\n",
       "      <td>473.630005</td>\n",
       "      <td>464.420013</td>\n",
       "      <td>472.700012</td>\n",
       "      <td>41156200</td>\n",
       "    </tr>\n",
       "  </tbody>\n",
       "</table>\n",
       "</div>"
      ],
      "text/plain": [
       "Field                    Open        High         Low       Close    Volume\n",
       "           Ticker                                                          \n",
       "2025-04-01 SPY     557.450012  562.940002  553.679993  560.969971  54609600\n",
       "           GLD     288.540009  289.130005  285.910004  287.570007  15923600\n",
       "           QQQ     467.299988  473.630005  464.420013  472.700012  41156200"
      ]
     },
     "execution_count": 10,
     "metadata": {},
     "output_type": "execute_result"
    }
   ],
   "source": [
    "df_payload.stack(level = \"Ticker\", future_stack = True)"
   ]
  },
  {
   "cell_type": "code",
   "execution_count": 21,
   "id": "0bcd133d",
   "metadata": {},
   "outputs": [
    {
     "data": {
      "text/html": [
       "<div>\n",
       "<style scoped>\n",
       "    .dataframe tbody tr th:only-of-type {\n",
       "        vertical-align: middle;\n",
       "    }\n",
       "\n",
       "    .dataframe tbody tr th {\n",
       "        vertical-align: top;\n",
       "    }\n",
       "\n",
       "    .dataframe thead th {\n",
       "        text-align: right;\n",
       "    }\n",
       "</style>\n",
       "<table border=\"1\" class=\"dataframe\">\n",
       "  <thead>\n",
       "    <tr style=\"text-align: right;\">\n",
       "      <th>Field</th>\n",
       "      <th>level_0</th>\n",
       "      <th>Ticker</th>\n",
       "      <th>Open</th>\n",
       "      <th>High</th>\n",
       "      <th>Low</th>\n",
       "      <th>Close</th>\n",
       "      <th>Volume</th>\n",
       "    </tr>\n",
       "  </thead>\n",
       "  <tbody>\n",
       "    <tr>\n",
       "      <th>0</th>\n",
       "      <td>2025-04-01</td>\n",
       "      <td>SPY</td>\n",
       "      <td>557.450012</td>\n",
       "      <td>562.940002</td>\n",
       "      <td>553.679993</td>\n",
       "      <td>560.969971</td>\n",
       "      <td>54609600</td>\n",
       "    </tr>\n",
       "    <tr>\n",
       "      <th>1</th>\n",
       "      <td>2025-04-01</td>\n",
       "      <td>GLD</td>\n",
       "      <td>288.540009</td>\n",
       "      <td>289.130005</td>\n",
       "      <td>285.910004</td>\n",
       "      <td>287.570007</td>\n",
       "      <td>15923600</td>\n",
       "    </tr>\n",
       "    <tr>\n",
       "      <th>2</th>\n",
       "      <td>2025-04-01</td>\n",
       "      <td>QQQ</td>\n",
       "      <td>467.299988</td>\n",
       "      <td>473.630005</td>\n",
       "      <td>464.420013</td>\n",
       "      <td>472.700012</td>\n",
       "      <td>41156200</td>\n",
       "    </tr>\n",
       "  </tbody>\n",
       "</table>\n",
       "</div>"
      ],
      "text/plain": [
       "Field    level_0 Ticker        Open        High         Low       Close  \\\n",
       "0     2025-04-01    SPY  557.450012  562.940002  553.679993  560.969971   \n",
       "1     2025-04-01    GLD  288.540009  289.130005  285.910004  287.570007   \n",
       "2     2025-04-01    QQQ  467.299988  473.630005  464.420013  472.700012   \n",
       "\n",
       "Field    Volume  \n",
       "0      54609600  \n",
       "1      15923600  \n",
       "2      41156200  "
      ]
     },
     "execution_count": 21,
     "metadata": {},
     "output_type": "execute_result"
    }
   ],
   "source": [
    "df_flattened = df_payload.stack(level = \"Ticker\", future_stack = True).reset_index()\n",
    "df_flattened"
   ]
  },
  {
   "cell_type": "code",
   "execution_count": 22,
   "id": "53914c0f",
   "metadata": {},
   "outputs": [
    {
     "data": {
      "text/html": [
       "<div>\n",
       "<style scoped>\n",
       "    .dataframe tbody tr th:only-of-type {\n",
       "        vertical-align: middle;\n",
       "    }\n",
       "\n",
       "    .dataframe tbody tr th {\n",
       "        vertical-align: top;\n",
       "    }\n",
       "\n",
       "    .dataframe thead th {\n",
       "        text-align: right;\n",
       "    }\n",
       "</style>\n",
       "<table border=\"1\" class=\"dataframe\">\n",
       "  <thead>\n",
       "    <tr style=\"text-align: right;\">\n",
       "      <th>Field</th>\n",
       "      <th>business_date</th>\n",
       "      <th>ticker</th>\n",
       "      <th>price_open</th>\n",
       "      <th>price_high</th>\n",
       "      <th>price_low</th>\n",
       "      <th>price_close</th>\n",
       "      <th>volume</th>\n",
       "    </tr>\n",
       "  </thead>\n",
       "  <tbody>\n",
       "    <tr>\n",
       "      <th>0</th>\n",
       "      <td>2025-04-01</td>\n",
       "      <td>SPY</td>\n",
       "      <td>557.450012</td>\n",
       "      <td>562.940002</td>\n",
       "      <td>553.679993</td>\n",
       "      <td>560.969971</td>\n",
       "      <td>54609600</td>\n",
       "    </tr>\n",
       "    <tr>\n",
       "      <th>1</th>\n",
       "      <td>2025-04-01</td>\n",
       "      <td>GLD</td>\n",
       "      <td>288.540009</td>\n",
       "      <td>289.130005</td>\n",
       "      <td>285.910004</td>\n",
       "      <td>287.570007</td>\n",
       "      <td>15923600</td>\n",
       "    </tr>\n",
       "    <tr>\n",
       "      <th>2</th>\n",
       "      <td>2025-04-01</td>\n",
       "      <td>QQQ</td>\n",
       "      <td>467.299988</td>\n",
       "      <td>473.630005</td>\n",
       "      <td>464.420013</td>\n",
       "      <td>472.700012</td>\n",
       "      <td>41156200</td>\n",
       "    </tr>\n",
       "  </tbody>\n",
       "</table>\n",
       "</div>"
      ],
      "text/plain": [
       "Field business_date ticker  price_open  price_high   price_low  price_close  \\\n",
       "0        2025-04-01    SPY  557.450012  562.940002  553.679993   560.969971   \n",
       "1        2025-04-01    GLD  288.540009  289.130005  285.910004   287.570007   \n",
       "2        2025-04-01    QQQ  467.299988  473.630005  464.420013   472.700012   \n",
       "\n",
       "Field    volume  \n",
       "0      54609600  \n",
       "1      15923600  \n",
       "2      41156200  "
      ]
     },
     "execution_count": 22,
     "metadata": {},
     "output_type": "execute_result"
    }
   ],
   "source": [
    "df_flattened = df_flattened.rename(columns = {\n",
    "    \"level_0\": \"business_date\",\n",
    "    \"Ticker\": \"ticker\",\n",
    "    \"Open\": \"price_open\",\n",
    "    \"High\": \"price_high\",\n",
    "    \"Low\": \"price_low\",\n",
    "    \"Close\": \"price_close\",\n",
    "    \"Volume\": \"volume\"\n",
    "})\n",
    "df_flattened"
   ]
  },
  {
   "cell_type": "markdown",
   "id": "b43c52c9",
   "metadata": {},
   "source": [
    "### Version 1: Formalizing into a function (for n = 1) in the case where we want to pass in a one-row dataframe"
   ]
  },
  {
   "cell_type": "code",
   "execution_count": 25,
   "id": "f113a385",
   "metadata": {},
   "outputs": [
    {
     "data": {
      "text/html": [
       "<div>\n",
       "<style scoped>\n",
       "    .dataframe tbody tr th:only-of-type {\n",
       "        vertical-align: middle;\n",
       "    }\n",
       "\n",
       "    .dataframe tbody tr th {\n",
       "        vertical-align: top;\n",
       "    }\n",
       "\n",
       "    .dataframe thead th {\n",
       "        text-align: right;\n",
       "    }\n",
       "</style>\n",
       "<table border=\"1\" class=\"dataframe\">\n",
       "  <thead>\n",
       "    <tr style=\"text-align: right;\">\n",
       "      <th></th>\n",
       "      <th>business_date</th>\n",
       "      <th>raw_payload</th>\n",
       "    </tr>\n",
       "  </thead>\n",
       "  <tbody>\n",
       "    <tr>\n",
       "      <th>0</th>\n",
       "      <td>2025-04-01</td>\n",
       "      <td>{'data': [[557.450012207, 562.9400024414, 553....</td>\n",
       "    </tr>\n",
       "  </tbody>\n",
       "</table>\n",
       "</div>"
      ],
      "text/plain": [
       "  business_date                                        raw_payload\n",
       "0    2025-04-01  {'data': [[557.450012207, 562.9400024414, 553...."
      ]
     },
     "execution_count": 25,
     "metadata": {},
     "output_type": "execute_result"
    }
   ],
   "source": [
    "# Test for a one-row dataframe\n",
    "row_api_payloads_yfinance_daily = df_api_payloads_yfinance_daily.iloc[[0]]\n",
    "row_api_payloads_yfinance_daily"
   ]
  },
  {
   "cell_type": "code",
   "execution_count": 26,
   "id": "4fbd4cd2",
   "metadata": {},
   "outputs": [],
   "source": [
    "# Test to see if this works for a single row (n = 1)\n",
    "def transform_raw_payload_to_row_keyed_on_ticker_and_business_date(row_api_payloads_yfinance_daily: pd.DataFrame) -> pd.DataFrame:\n",
    "\n",
    "    \"\"\"\n",
    "    Transforms a single raw_payload JSON (from yfinance) into a DataFrame keyed on ticker and business_date.\n",
    "    Validates that payload dates match the metadata business_date.\n",
    "    \"\"\"\n",
    "\n",
    "    if len(row_api_payloads_yfinance_daily) != 1:\n",
    "        raise ValueError(f\"Length of row_api_payloads_yfinance_daily is {len(row_api_payloads_yfinance_daily)} instead of 1. Def transform_raw_payload_to_row_keyed_on_ticker_and_business_date needs to be given a dataframe of one row to unroll\")\n",
    "\n",
    "    business_date_of_row = row_api_payloads_yfinance_daily[\"business_date\"].iloc[0]\n",
    "    raw_payload = row_api_payloads_yfinance_daily[\"raw_payload\"].iloc[0]\n",
    "\n",
    "    data = raw_payload[\"data\"]\n",
    "    index = pd.to_datetime(raw_payload[\"index\"], unit = \"ms\")\n",
    "    columns = pd.MultiIndex.from_tuples(raw_payload[\"columns\"], names = [\"Ticker\", \"Field\"])\n",
    "    df_multiIndex = pd.DataFrame(data = data, index = index, columns = columns)\n",
    "    df_yfinance_prices_daily_staging = df_multiIndex.stack(level = \"Ticker\").reset_index()\n",
    "    df_yfinance_prices_daily_staging = df_yfinance_prices_daily_staging.rename(columns = {\n",
    "        \"level_0\": \"business_date\",\n",
    "        \"Ticker\": \"ticker\",\n",
    "        \"Open\": \"price_open\",\n",
    "        \"High\": \"price_high\",\n",
    "        \"Low\": \"price_low\",\n",
    "        \"Close\": \"price_close\",\n",
    "        \"Volume\": \"volume\"\n",
    "    })\n",
    "\n",
    "    business_date_of_payload = df_yfinance_prices_daily_staging[\"business_date\"].unique()[0].date()\n",
    "    if business_date_of_row != business_date_of_payload:\n",
    "        raise ValueError(f\"Business_date column of row_api_payloads_yfinance_daily {business_date_of_row} does not match the business date of the raw json payload {business_date_of_payload}\")\n",
    "\n",
    "    return df_yfinance_prices_daily_staging\n"
   ]
  },
  {
   "cell_type": "code",
   "execution_count": 27,
   "id": "41cc42fe",
   "metadata": {},
   "outputs": [
    {
     "name": "stderr",
     "output_type": "stream",
     "text": [
      "/tmp/ipykernel_1415/2946411917.py:19: FutureWarning: The previous implementation of stack is deprecated and will be removed in a future version of pandas. See the What's New notes for pandas 2.1.0 for details. Specify future_stack=True to adopt the new implementation and silence this warning.\n",
      "  df_yfinance_prices_daily_staging = df_multiIndex.stack(level = \"Ticker\").reset_index()\n"
     ]
    },
    {
     "data": {
      "text/html": [
       "<div>\n",
       "<style scoped>\n",
       "    .dataframe tbody tr th:only-of-type {\n",
       "        vertical-align: middle;\n",
       "    }\n",
       "\n",
       "    .dataframe tbody tr th {\n",
       "        vertical-align: top;\n",
       "    }\n",
       "\n",
       "    .dataframe thead th {\n",
       "        text-align: right;\n",
       "    }\n",
       "</style>\n",
       "<table border=\"1\" class=\"dataframe\">\n",
       "  <thead>\n",
       "    <tr style=\"text-align: right;\">\n",
       "      <th>Field</th>\n",
       "      <th>business_date</th>\n",
       "      <th>ticker</th>\n",
       "      <th>price_open</th>\n",
       "      <th>price_high</th>\n",
       "      <th>price_low</th>\n",
       "      <th>price_close</th>\n",
       "      <th>volume</th>\n",
       "    </tr>\n",
       "  </thead>\n",
       "  <tbody>\n",
       "    <tr>\n",
       "      <th>0</th>\n",
       "      <td>2025-04-01</td>\n",
       "      <td>GLD</td>\n",
       "      <td>288.540009</td>\n",
       "      <td>289.130005</td>\n",
       "      <td>285.910004</td>\n",
       "      <td>287.570007</td>\n",
       "      <td>15923600</td>\n",
       "    </tr>\n",
       "    <tr>\n",
       "      <th>1</th>\n",
       "      <td>2025-04-01</td>\n",
       "      <td>QQQ</td>\n",
       "      <td>467.299988</td>\n",
       "      <td>473.630005</td>\n",
       "      <td>464.420013</td>\n",
       "      <td>472.700012</td>\n",
       "      <td>41156200</td>\n",
       "    </tr>\n",
       "    <tr>\n",
       "      <th>2</th>\n",
       "      <td>2025-04-01</td>\n",
       "      <td>SPY</td>\n",
       "      <td>557.450012</td>\n",
       "      <td>562.940002</td>\n",
       "      <td>553.679993</td>\n",
       "      <td>560.969971</td>\n",
       "      <td>54609600</td>\n",
       "    </tr>\n",
       "  </tbody>\n",
       "</table>\n",
       "</div>"
      ],
      "text/plain": [
       "Field business_date ticker  price_open  price_high   price_low  price_close  \\\n",
       "0        2025-04-01    GLD  288.540009  289.130005  285.910004   287.570007   \n",
       "1        2025-04-01    QQQ  467.299988  473.630005  464.420013   472.700012   \n",
       "2        2025-04-01    SPY  557.450012  562.940002  553.679993   560.969971   \n",
       "\n",
       "Field    volume  \n",
       "0      15923600  \n",
       "1      41156200  \n",
       "2      54609600  "
      ]
     },
     "execution_count": 27,
     "metadata": {},
     "output_type": "execute_result"
    }
   ],
   "source": [
    "df_yfinance_prices_daily_staging = transform_raw_payload_to_row_keyed_on_ticker_and_business_date(row_api_payloads_yfinance_daily)\n",
    "df_yfinance_prices_daily_staging"
   ]
  },
  {
   "cell_type": "markdown",
   "id": "2c6b44ad",
   "metadata": {},
   "source": [
    "### Version 2: Creating a function for the case where we pass in a series instead.  Will use series version with iterrows().  This is the transformation part of ETL"
   ]
  },
  {
   "cell_type": "code",
   "execution_count": 29,
   "id": "e268546d",
   "metadata": {},
   "outputs": [
    {
     "data": {
      "text/plain": [
       "business_date                                           2025-04-01\n",
       "raw_payload      {'data': [[557.450012207, 562.9400024414, 553....\n",
       "Name: 0, dtype: object"
      ]
     },
     "execution_count": 29,
     "metadata": {},
     "output_type": "execute_result"
    }
   ],
   "source": [
    "# Test for a series, representing one row of df_api_payloads_yfinance_daily\n",
    "row_api_payloads_yfinance_daily = df_api_payloads_yfinance_daily.iloc[0]\n",
    "row_api_payloads_yfinance_daily"
   ]
  },
  {
   "cell_type": "code",
   "execution_count": null,
   "id": "73d47905",
   "metadata": {},
   "outputs": [],
   "source": [
    "# Test to see if this works for a single row (n = 1)\n",
    "def transform_raw_payload_to_row_keyed_on_ticker_and_business_date(row_api_payloads_yfinance_daily: pd.Series) -> pd.DataFrame:\n",
    "\n",
    "    \"\"\"\n",
    "    Transforms a single raw_payload JSON (from yfinance) into a DataFrame keyed on ticker and business_date.\n",
    "    Validates that payload dates match the metadata business_date.\n",
    "    \"\"\"\n",
    "\n",
    "    business_date_of_row = row_api_payloads_yfinance_daily[\"business_date\"]\n",
    "    raw_payload = row_api_payloads_yfinance_daily[\"raw_payload\"]\n",
    "\n",
    "    data = raw_payload[\"data\"]\n",
    "    index = pd.to_datetime(raw_payload[\"index\"], unit = \"ms\")\n",
    "    columns = pd.MultiIndex.from_tuples(raw_payload[\"columns\"], names = [\"Ticker\", \"Field\"])\n",
    "    df_multiIndex = pd.DataFrame(data = data, index = index, columns = columns)\n",
    "    df_yfinance_prices_daily_staging = df_multiIndex.stack(level = \"Ticker\").reset_index()\n",
    "    df_yfinance_prices_daily_staging = df_yfinance_prices_daily_staging.rename(columns = {\n",
    "        \"level_0\": \"business_date\",\n",
    "        \"Ticker\": \"ticker\",\n",
    "        \"Open\": \"price_open\",\n",
    "        \"High\": \"price_high\",\n",
    "        \"Low\": \"price_low\",\n",
    "        \"Close\": \"price_close\",\n",
    "        \"Volume\": \"volume\"\n",
    "    })\n",
    "\n",
    "    business_date_of_payload = df_yfinance_prices_daily_staging[\"business_date\"].unique()[0].date()\n",
    "    if business_date_of_row != business_date_of_payload:\n",
    "        raise ValueError(f\"Business_date column of row_api_payloads_yfinance_daily {business_date_of_row} does not match the business date of the raw json payload {business_date_of_payload}\")\n",
    "    \n",
    "    # TODO: Should I add a check for NAs, to check if any of the prices or volumes for any tickers are NULL?\n",
    "\n",
    "    return df_yfinance_prices_daily_staging\n"
   ]
  },
  {
   "cell_type": "code",
   "execution_count": 31,
   "id": "7562b1a7",
   "metadata": {},
   "outputs": [
    {
     "name": "stderr",
     "output_type": "stream",
     "text": [
      "/tmp/ipykernel_1415/3247836009.py:16: FutureWarning: The previous implementation of stack is deprecated and will be removed in a future version of pandas. See the What's New notes for pandas 2.1.0 for details. Specify future_stack=True to adopt the new implementation and silence this warning.\n",
      "  df_yfinance_prices_daily_staging = df_multiIndex.stack(level = \"Ticker\").reset_index()\n"
     ]
    },
    {
     "data": {
      "text/html": [
       "<div>\n",
       "<style scoped>\n",
       "    .dataframe tbody tr th:only-of-type {\n",
       "        vertical-align: middle;\n",
       "    }\n",
       "\n",
       "    .dataframe tbody tr th {\n",
       "        vertical-align: top;\n",
       "    }\n",
       "\n",
       "    .dataframe thead th {\n",
       "        text-align: right;\n",
       "    }\n",
       "</style>\n",
       "<table border=\"1\" class=\"dataframe\">\n",
       "  <thead>\n",
       "    <tr style=\"text-align: right;\">\n",
       "      <th>Field</th>\n",
       "      <th>business_date</th>\n",
       "      <th>ticker</th>\n",
       "      <th>price_open</th>\n",
       "      <th>price_high</th>\n",
       "      <th>price_low</th>\n",
       "      <th>price_close</th>\n",
       "      <th>volume</th>\n",
       "    </tr>\n",
       "  </thead>\n",
       "  <tbody>\n",
       "    <tr>\n",
       "      <th>0</th>\n",
       "      <td>2025-04-01</td>\n",
       "      <td>GLD</td>\n",
       "      <td>288.540009</td>\n",
       "      <td>289.130005</td>\n",
       "      <td>285.910004</td>\n",
       "      <td>287.570007</td>\n",
       "      <td>15923600</td>\n",
       "    </tr>\n",
       "    <tr>\n",
       "      <th>1</th>\n",
       "      <td>2025-04-01</td>\n",
       "      <td>QQQ</td>\n",
       "      <td>467.299988</td>\n",
       "      <td>473.630005</td>\n",
       "      <td>464.420013</td>\n",
       "      <td>472.700012</td>\n",
       "      <td>41156200</td>\n",
       "    </tr>\n",
       "    <tr>\n",
       "      <th>2</th>\n",
       "      <td>2025-04-01</td>\n",
       "      <td>SPY</td>\n",
       "      <td>557.450012</td>\n",
       "      <td>562.940002</td>\n",
       "      <td>553.679993</td>\n",
       "      <td>560.969971</td>\n",
       "      <td>54609600</td>\n",
       "    </tr>\n",
       "  </tbody>\n",
       "</table>\n",
       "</div>"
      ],
      "text/plain": [
       "Field business_date ticker  price_open  price_high   price_low  price_close  \\\n",
       "0        2025-04-01    GLD  288.540009  289.130005  285.910004   287.570007   \n",
       "1        2025-04-01    QQQ  467.299988  473.630005  464.420013   472.700012   \n",
       "2        2025-04-01    SPY  557.450012  562.940002  553.679993   560.969971   \n",
       "\n",
       "Field    volume  \n",
       "0      15923600  \n",
       "1      41156200  \n",
       "2      54609600  "
      ]
     },
     "execution_count": 31,
     "metadata": {},
     "output_type": "execute_result"
    }
   ],
   "source": [
    "df_yfinance_prices_daily_staging = transform_raw_payload_to_row_keyed_on_ticker_and_business_date(row_api_payloads_yfinance_daily)\n",
    "df_yfinance_prices_daily_staging"
   ]
  },
  {
   "cell_type": "markdown",
   "id": "94edc622",
   "metadata": {},
   "source": [
    "### Create function insert_into_yfinance_prices_staging_by_date (load part of ETL)"
   ]
  },
  {
   "cell_type": "code",
   "execution_count": 14,
   "id": "5faf8f66",
   "metadata": {},
   "outputs": [
    {
     "data": {
      "text/html": [
       "<div>\n",
       "<style scoped>\n",
       "    .dataframe tbody tr th:only-of-type {\n",
       "        vertical-align: middle;\n",
       "    }\n",
       "\n",
       "    .dataframe tbody tr th {\n",
       "        vertical-align: top;\n",
       "    }\n",
       "\n",
       "    .dataframe thead th {\n",
       "        text-align: right;\n",
       "    }\n",
       "</style>\n",
       "<table border=\"1\" class=\"dataframe\">\n",
       "  <thead>\n",
       "    <tr style=\"text-align: right;\">\n",
       "      <th></th>\n",
       "      <th>ticker</th>\n",
       "      <th>business_date</th>\n",
       "      <th>price_open</th>\n",
       "      <th>price_low</th>\n",
       "      <th>price_high</th>\n",
       "      <th>price_close</th>\n",
       "      <th>volume</th>\n",
       "      <th>created_timestamp</th>\n",
       "    </tr>\n",
       "  </thead>\n",
       "  <tbody>\n",
       "  </tbody>\n",
       "</table>\n",
       "</div>"
      ],
      "text/plain": [
       "Empty DataFrame\n",
       "Columns: [ticker, business_date, price_open, price_low, price_high, price_close, volume, created_timestamp]\n",
       "Index: []"
      ]
     },
     "execution_count": 14,
     "metadata": {},
     "output_type": "execute_result"
    }
   ],
   "source": [
    "# We need to convert that payload from bronze table into the following format for silver table\n",
    "query = \"\"\"\n",
    "SELECT * FROM tbl_yfinance_prices_daily_staging\n",
    "LIMIT 3;\n",
    "\"\"\"\n",
    "\n",
    "df_silver = sql_query_as_df(query, cursor)\n",
    "df_silver.head(n = 3)"
   ]
  },
  {
   "cell_type": "code",
   "execution_count": null,
   "id": "58595cd7",
   "metadata": {},
   "outputs": [
    {
     "data": {
      "text/plain": [
       "[('GLD',\n",
       "  Timestamp('2025-04-01 00:00:00'),\n",
       "  288.5400085449,\n",
       "  285.9100036621,\n",
       "  289.1300048828,\n",
       "  287.5700073242,\n",
       "  15923600,\n",
       "  datetime.datetime(2025, 5, 18, 14, 12, 25, 983968)),\n",
       " ('QQQ',\n",
       "  Timestamp('2025-04-01 00:00:00'),\n",
       "  467.299987793,\n",
       "  464.4200134277,\n",
       "  473.6300048828,\n",
       "  472.700012207,\n",
       "  41156200,\n",
       "  datetime.datetime(2025, 5, 18, 14, 12, 25, 983973)),\n",
       " ('SPY',\n",
       "  Timestamp('2025-04-01 00:00:00'),\n",
       "  557.450012207,\n",
       "  553.6799926758,\n",
       "  562.9400024414,\n",
       "  560.9699707031,\n",
       "  54609600,\n",
       "  datetime.datetime(2025, 5, 18, 14, 12, 25, 983975))]"
      ]
     },
     "execution_count": 33,
     "metadata": {},
     "output_type": "execute_result"
    }
   ],
   "source": [
    "column_order = [\"ticker\", \"business_date\", \"price_open\", \"price_low\", \"price_high\", \"price_close\", \"volume\"]\n",
    "df_yfinance_prices_daily_staging = df_yfinance_prices_daily_staging[column_order]\n",
    "\n",
    "list_of_tuples_to_insert = [\n",
    "    (*row, datetime.now(timezone.utc)) for row in df_yfinance_prices_daily_staging.itertuples(index = False, name = None)\n",
    "]\n",
    "list_of_tuples_to_insert"
   ]
  },
  {
   "cell_type": "code",
   "execution_count": null,
   "id": "8e1aeafd",
   "metadata": {},
   "outputs": [],
   "source": [
    "def insert_into_yfinance_prices_staging_by_date(\n",
    "    df_yfinance_prices_daily_staging: pd.DataFrame,\n",
    "    cursor: Cursor, \n",
    "    conn: Connection    \n",
    "):\n",
    "    \"\"\"\n",
    "    Inserts unrolled json payload, in the form of dataframe, into silver table df_yfinance_prices_daily_staging\n",
    "    \"\"\"\n",
    "\n",
    "    column_order = [\"ticker\", \"business_date\", \"price_open\", \"price_low\", \"price_high\", \"price_close\", \"volume\"]\n",
    "    df_yfinance_prices_daily_staging = df_yfinance_prices_daily_staging[column_order]\n",
    "\n",
    "    list_of_tuples_to_insert = [\n",
    "        (*row, datetime.now(timezone.utc)) for row in df_yfinance_prices_daily_staging.itertuples(index = False, name = None)\n",
    "    ]\n",
    "\n",
    "    # TODO: There is a possibility where we would want to run this driver explicitly to override existing price/volumes for a given (ticker, business_date) to correct a wrong json payload, so we need to change \"do nothing\" to instead prompt the user \"What you are writing conflicts with existing data, do you want to override or skip?\"\n",
    "    insert_query = \"\"\"\n",
    "        INSERT INTO tbl_yfinance_prices_daily_staging (\n",
    "            ticker, business_date, price_open, price_low, price_high, price_close, volume, created_timestamp\n",
    "        )\n",
    "        VALUES %s\n",
    "        ON CONFLICT (ticker, business_date) DO NOTHING;\n",
    "    \"\"\"\n",
    "\n",
    "    execute_values(cursor, insert_query, list_of_tuples_to_insert)\n",
    "    conn.commit()\n",
    "\n",
    "    # TODO: Formalize this print statement using Python's logging functionality instead\n",
    "    if list_of_tuples_to_insert:\n",
    "        print(f\"✅ Inserted {len(list_of_tuples_to_insert)} rows into tbl_yfinance_prices_daily_staging\")\n",
    "    else:\n",
    "        print(\"⚠️ No rows to insert into tbl_yfinance_prices_daily_staging\")"
   ]
  },
  {
   "cell_type": "code",
   "execution_count": null,
   "id": "9b18d7a3",
   "metadata": {},
   "outputs": [],
   "source": [
    "# Test new function\n",
    "insert_into_yfinance_prices_staging_by_date(df_yfinance_prices_daily_staging, cursor, conn)"
   ]
  },
  {
   "cell_type": "code",
   "execution_count": null,
   "id": "14a53474",
   "metadata": {},
   "outputs": [
    {
     "data": {
      "text/html": [
       "<div>\n",
       "<style scoped>\n",
       "    .dataframe tbody tr th:only-of-type {\n",
       "        vertical-align: middle;\n",
       "    }\n",
       "\n",
       "    .dataframe tbody tr th {\n",
       "        vertical-align: top;\n",
       "    }\n",
       "\n",
       "    .dataframe thead th {\n",
       "        text-align: right;\n",
       "    }\n",
       "</style>\n",
       "<table border=\"1\" class=\"dataframe\">\n",
       "  <thead>\n",
       "    <tr style=\"text-align: right;\">\n",
       "      <th></th>\n",
       "      <th>ticker</th>\n",
       "      <th>business_date</th>\n",
       "      <th>price_open</th>\n",
       "      <th>price_low</th>\n",
       "      <th>price_high</th>\n",
       "      <th>price_close</th>\n",
       "      <th>volume</th>\n",
       "      <th>created_timestamp</th>\n",
       "    </tr>\n",
       "  </thead>\n",
       "  <tbody>\n",
       "    <tr>\n",
       "      <th>0</th>\n",
       "      <td>GLD</td>\n",
       "      <td>2025-04-01</td>\n",
       "      <td>288.5400085449</td>\n",
       "      <td>285.9100036621</td>\n",
       "      <td>289.1300048828</td>\n",
       "      <td>287.5700073242</td>\n",
       "      <td>15923600</td>\n",
       "      <td>2025-05-18 14:33:23.780097+00:00</td>\n",
       "    </tr>\n",
       "    <tr>\n",
       "      <th>1</th>\n",
       "      <td>QQQ</td>\n",
       "      <td>2025-04-01</td>\n",
       "      <td>467.299987793</td>\n",
       "      <td>464.4200134277</td>\n",
       "      <td>473.6300048828</td>\n",
       "      <td>472.700012207</td>\n",
       "      <td>41156200</td>\n",
       "      <td>2025-05-18 14:33:23.780105+00:00</td>\n",
       "    </tr>\n",
       "    <tr>\n",
       "      <th>2</th>\n",
       "      <td>SPY</td>\n",
       "      <td>2025-04-01</td>\n",
       "      <td>557.450012207</td>\n",
       "      <td>553.6799926758</td>\n",
       "      <td>562.9400024414</td>\n",
       "      <td>560.9699707031</td>\n",
       "      <td>54609600</td>\n",
       "      <td>2025-05-18 14:33:23.780107+00:00</td>\n",
       "    </tr>\n",
       "  </tbody>\n",
       "</table>\n",
       "</div>"
      ],
      "text/plain": [
       "  ticker business_date      price_open       price_low      price_high  \\\n",
       "0    GLD    2025-04-01  288.5400085449  285.9100036621  289.1300048828   \n",
       "1    QQQ    2025-04-01   467.299987793  464.4200134277  473.6300048828   \n",
       "2    SPY    2025-04-01   557.450012207  553.6799926758  562.9400024414   \n",
       "\n",
       "      price_close    volume                created_timestamp  \n",
       "0  287.5700073242  15923600 2025-05-18 14:33:23.780097+00:00  \n",
       "1   472.700012207  41156200 2025-05-18 14:33:23.780105+00:00  \n",
       "2  560.9699707031  54609600 2025-05-18 14:33:23.780107+00:00  "
      ]
     },
     "execution_count": 42,
     "metadata": {},
     "output_type": "execute_result"
    }
   ],
   "source": [
    "# Verify that it worked\n",
    "query = \"\"\"\n",
    "SELECT * from tbl_yfinance_prices_daily_staging\n",
    "\"\"\"\n",
    "\n",
    "result = sql_query_as_df(query, cursor)\n",
    "result"
   ]
  }
 ],
 "metadata": {
  "kernelspec": {
   "display_name": "Python 3",
   "language": "python",
   "name": "python3"
  },
  "language_info": {
   "codemirror_mode": {
    "name": "ipython",
    "version": 3
   },
   "file_extension": ".py",
   "mimetype": "text/x-python",
   "name": "python",
   "nbconvert_exporter": "python",
   "pygments_lexer": "ipython3",
   "version": "3.10.12"
  }
 },
 "nbformat": 4,
 "nbformat_minor": 5
}
