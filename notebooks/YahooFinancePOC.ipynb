{
 "cells": [
  {
   "cell_type": "code",
   "execution_count": 1,
   "id": "c948857c-3730-464f-be97-fd40edf22407",
   "metadata": {},
   "outputs": [],
   "source": [
    "# Essential libraries\n",
    "import yfinance as yf"
   ]
  },
  {
   "cell_type": "code",
   "execution_count": 2,
   "id": "b595cdda-ee6a-4cb0-8d5b-2ef57adb833e",
   "metadata": {},
   "outputs": [
    {
     "name": "stdout",
     "output_type": "stream",
     "text": [
      "YF.download() has changed argument auto_adjust default to True\n"
     ]
    },
    {
     "name": "stderr",
     "output_type": "stream",
     "text": [
      "[*********************100%***********************]  1 of 1 completed\n"
     ]
    }
   ],
   "source": [
    "df = yf.download(\"SPY\", period = \"5d\", interval = \"1d\")"
   ]
  },
  {
   "cell_type": "code",
   "execution_count": 3,
   "id": "c5d619d3-6d59-48e5-bdd0-0fbdc547781d",
   "metadata": {},
   "outputs": [
    {
     "data": {
      "text/html": [
       "<div>\n",
       "<style scoped>\n",
       "    .dataframe tbody tr th:only-of-type {\n",
       "        vertical-align: middle;\n",
       "    }\n",
       "\n",
       "    .dataframe tbody tr th {\n",
       "        vertical-align: top;\n",
       "    }\n",
       "\n",
       "    .dataframe thead tr th {\n",
       "        text-align: left;\n",
       "    }\n",
       "\n",
       "    .dataframe thead tr:last-of-type th {\n",
       "        text-align: right;\n",
       "    }\n",
       "</style>\n",
       "<table border=\"1\" class=\"dataframe\">\n",
       "  <thead>\n",
       "    <tr>\n",
       "      <th>Price</th>\n",
       "      <th>Close</th>\n",
       "      <th>High</th>\n",
       "      <th>Low</th>\n",
       "      <th>Open</th>\n",
       "      <th>Volume</th>\n",
       "    </tr>\n",
       "    <tr>\n",
       "      <th>Ticker</th>\n",
       "      <th>SPY</th>\n",
       "      <th>SPY</th>\n",
       "      <th>SPY</th>\n",
       "      <th>SPY</th>\n",
       "      <th>SPY</th>\n",
       "    </tr>\n",
       "    <tr>\n",
       "      <th>Date</th>\n",
       "      <th></th>\n",
       "      <th></th>\n",
       "      <th></th>\n",
       "      <th></th>\n",
       "      <th></th>\n",
       "    </tr>\n",
       "  </thead>\n",
       "  <tbody>\n",
       "    <tr>\n",
       "      <th>2025-03-31</th>\n",
       "      <td>559.390015</td>\n",
       "      <td>560.710022</td>\n",
       "      <td>546.869995</td>\n",
       "      <td>549.830017</td>\n",
       "      <td>95328200</td>\n",
       "    </tr>\n",
       "    <tr>\n",
       "      <th>2025-04-01</th>\n",
       "      <td>560.969971</td>\n",
       "      <td>562.940002</td>\n",
       "      <td>553.679993</td>\n",
       "      <td>557.450012</td>\n",
       "      <td>54609600</td>\n",
       "    </tr>\n",
       "    <tr>\n",
       "      <th>2025-04-02</th>\n",
       "      <td>564.520020</td>\n",
       "      <td>567.419983</td>\n",
       "      <td>554.809998</td>\n",
       "      <td>555.049988</td>\n",
       "      <td>76014500</td>\n",
       "    </tr>\n",
       "    <tr>\n",
       "      <th>2025-04-03</th>\n",
       "      <td>536.700012</td>\n",
       "      <td>547.969971</td>\n",
       "      <td>536.700012</td>\n",
       "      <td>545.109985</td>\n",
       "      <td>125986000</td>\n",
       "    </tr>\n",
       "    <tr>\n",
       "      <th>2025-04-04</th>\n",
       "      <td>505.279999</td>\n",
       "      <td>525.869995</td>\n",
       "      <td>505.059998</td>\n",
       "      <td>523.669983</td>\n",
       "      <td>216189500</td>\n",
       "    </tr>\n",
       "  </tbody>\n",
       "</table>\n",
       "</div>"
      ],
      "text/plain": [
       "Price            Close        High         Low        Open     Volume\n",
       "Ticker             SPY         SPY         SPY         SPY        SPY\n",
       "Date                                                                 \n",
       "2025-03-31  559.390015  560.710022  546.869995  549.830017   95328200\n",
       "2025-04-01  560.969971  562.940002  553.679993  557.450012   54609600\n",
       "2025-04-02  564.520020  567.419983  554.809998  555.049988   76014500\n",
       "2025-04-03  536.700012  547.969971  536.700012  545.109985  125986000\n",
       "2025-04-04  505.279999  525.869995  505.059998  523.669983  216189500"
      ]
     },
     "execution_count": 3,
     "metadata": {},
     "output_type": "execute_result"
    }
   ],
   "source": [
    "df"
   ]
  },
  {
   "cell_type": "code",
   "execution_count": null,
   "id": "ad70ec68-a337-4986-86a9-d84159af5767",
   "metadata": {},
   "outputs": [],
   "source": []
  }
 ],
 "metadata": {
  "kernelspec": {
   "display_name": "Python 3 (ipykernel)",
   "language": "python",
   "name": "python3"
  },
  "language_info": {
   "codemirror_mode": {
    "name": "ipython",
    "version": 3
   },
   "file_extension": ".py",
   "mimetype": "text/x-python",
   "name": "python",
   "nbconvert_exporter": "python",
   "pygments_lexer": "ipython3",
   "version": "3.10.12"
  }
 },
 "nbformat": 4,
 "nbformat_minor": 5
}
