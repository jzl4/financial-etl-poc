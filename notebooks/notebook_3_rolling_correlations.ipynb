{
 "cells": [
  {
   "cell_type": "markdown",
   "id": "008a1c1b",
   "metadata": {},
   "source": [
    "### Developing infrastructure for calculating rolling correlations over diff periods of time for combinations of asset pairs: (asset 1, asset 2, corr_window, business_date)"
   ]
  },
  {
   "cell_type": "code",
   "execution_count": 5,
   "id": "c915b8ab",
   "metadata": {},
   "outputs": [
    {
     "name": "stdout",
     "output_type": "stream",
     "text": [
      "✅ Connected successfully!\n"
     ]
    }
   ],
   "source": [
    "import os\n",
    "import sys\n",
    "\n",
    "import pandas as pd\n",
    "from datetime import date, datetime\n",
    "from dateutil.relativedelta import relativedelta\n",
    "from typing import Optional, Set\n",
    "\n",
    "# Required to import other modules from this project, in folders such as utils/ or notebooks/\n",
    "current_folder = os.getcwd()\n",
    "project_root_folder = os.path.abspath(os.path.join(current_folder, \"..\"))\n",
    "sys.path.append(project_root_folder)\n",
    "# Import functionalities from other modules in this project\n",
    "from utils.db_utils import *\n",
    "\n",
    "# Load .env file for AWS RDS login credentials\n",
    "from dotenv import load_dotenv\n",
    "dotenv_path = os.path.join(project_root_folder, \".env\")\n",
    "load_dotenv(dotenv_path)\n",
    "\n",
    "# Global variables\n",
    "conn, cursor = connect_to_rds()"
   ]
  },
  {
   "cell_type": "code",
   "execution_count": 70,
   "id": "4bce0bef",
   "metadata": {},
   "outputs": [],
   "source": [
    "import matplotlib.pyplot as plt\n",
    "\n",
    "def plot_rolling_correlation(df_corr: pd.DataFrame):\n",
    "    \"\"\"\n",
    "    Given a DataFrame with columns ['asset_1', 'asset_2', 'n_months', 'end_date', 'correlation'],\n",
    "    this function creates a time series plot of the rolling correlation.\n",
    "    \"\"\"\n",
    "    if df_corr.empty:\n",
    "        print(\"DataFrame is empty. Nothing to plot.\")\n",
    "        return\n",
    "\n",
    "    # Extract metadata for plot title\n",
    "    asset_1 = df_corr[\"asset_1\"].iloc[0]\n",
    "    asset_2 = df_corr[\"asset_2\"].iloc[0]\n",
    "    n_months = df_corr[\"n_months\"].iloc[0]\n",
    "\n",
    "    # Sort by date in case it isn't sorted\n",
    "    df_corr_sorted = df_corr.sort_values(by=\"end_date\")\n",
    "\n",
    "    # Plot\n",
    "    plt.figure(figsize=(12, 6))\n",
    "    plt.plot(df_corr_sorted[\"end_date\"], df_corr_sorted[\"correlation\"], marker=\"o\", linestyle=\"-\")\n",
    "    plt.title(f\"Rolling {n_months}-month correlation between {asset_1} and {asset_2}\")\n",
    "    plt.xlabel(\"End Date\")\n",
    "    plt.ylabel(\"Correlation\")\n",
    "    plt.grid(True)\n",
    "    plt.xticks(rotation=45)\n",
    "    plt.tight_layout()\n",
    "    plt.show()"
   ]
  },
  {
   "cell_type": "markdown",
   "id": "1ae26077",
   "metadata": {},
   "source": [
    "### Generate unique pairs of assets. I might not need all of these, though"
   ]
  },
  {
   "cell_type": "code",
   "execution_count": 4,
   "id": "fb92b0a2",
   "metadata": {},
   "outputs": [],
   "source": [
    "dates_query = \"\"\"\n",
    "select ticker from tbl_active_tickers\n",
    "where is_active = TRUE;\n",
    "\"\"\"\n",
    "\n",
    "df_active_tickers = sql_query_as_df(dates_query, cursor)"
   ]
  },
  {
   "cell_type": "code",
   "execution_count": 5,
   "id": "5012aa4a",
   "metadata": {},
   "outputs": [],
   "source": [
    "# Dataframe -> series -> np array -> list\n",
    "active_tickers = df_active_tickers[\"ticker\"].values.tolist()"
   ]
  },
  {
   "cell_type": "code",
   "execution_count": 6,
   "id": "6e71190e",
   "metadata": {},
   "outputs": [],
   "source": [
    "from itertools import combinations"
   ]
  },
  {
   "cell_type": "code",
   "execution_count": 7,
   "id": "f84870b6",
   "metadata": {},
   "outputs": [
    {
     "data": {
      "text/plain": [
       "[('GLD', 'SPY'),\n",
       " ('NVDA', 'SPY'),\n",
       " ('SPY', 'TSLA'),\n",
       " ('SPY', 'TLT'),\n",
       " ('SLV', 'SPY'),\n",
       " ('GLD', 'NVDA'),\n",
       " ('GLD', 'TSLA'),\n",
       " ('GLD', 'TLT'),\n",
       " ('GLD', 'SLV'),\n",
       " ('NVDA', 'TSLA'),\n",
       " ('NVDA', 'TLT'),\n",
       " ('NVDA', 'SLV'),\n",
       " ('TLT', 'TSLA'),\n",
       " ('SLV', 'TSLA'),\n",
       " ('SLV', 'TLT')]"
      ]
     },
     "execution_count": 7,
     "metadata": {},
     "output_type": "execute_result"
    }
   ],
   "source": [
    "# Get all unique combinations of (asset_1, asset_2) pairs\n",
    "asset_pairs_unsorted = list(combinations(active_tickers, 2))\n",
    "asset_pairs_sorted = [tuple(sorted((asset_1, asset_2))) for (asset_1, asset_2) in asset_pairs_unsorted]\n",
    "asset_pairs_sorted"
   ]
  },
  {
   "cell_type": "markdown",
   "id": "1b435c8d",
   "metadata": {},
   "source": [
    "### Rolling correlation calculation function now"
   ]
  },
  {
   "cell_type": "code",
   "execution_count": 72,
   "id": "11717f71",
   "metadata": {},
   "outputs": [],
   "source": [
    "# Inputs for test data\n",
    "asset_1 = \"NVDA\"\n",
    "asset_2 = \"TSLA\"\n",
    "min_end_date_str = \"2020-01-01\"\n",
    "max_end_date_str = \"2025-07-01\"\n",
    "n_months = 3\n",
    "\n",
    "# Convert test inputs\n",
    "date_str_format = \"%Y-%m-%d\"\n",
    "min_end_date = datetime.strptime(min_end_date_str, date_str_format).date()\n",
    "max_end_date = datetime.strptime(max_end_date_str, date_str_format).date()\n",
    "\n",
    "min_start_date = min_end_date - relativedelta(months = n_months)"
   ]
  },
  {
   "cell_type": "code",
   "execution_count": 75,
   "id": "066627e1",
   "metadata": {},
   "outputs": [],
   "source": [
    "def get_daily_asset_returns(asset_1: str, asset_2: str, min_start_date: date, max_end_date: date) -> pd.DataFrame:\n",
    "\n",
    "    returns_query = f\"\"\"\n",
    "    select\n",
    "        asset_1.business_date,\n",
    "        asset_1.adj_close_pct_chg as asset_1_returns,\n",
    "        asset_2.adj_close_pct_chg as asset_2_returns\n",
    "    from tbl_daily_prod asset_1 join tbl_daily_prod asset_2\n",
    "        on asset_1.business_date = asset_2.business_date\n",
    "    where\n",
    "        asset_1.ticker = '{asset_1}' and asset_1.business_date between '{min_start_date}' and '{max_end_date}'\n",
    "        and asset_2.ticker = '{asset_2}' and asset_2.business_date between '{min_start_date}' and '{max_end_date}'\n",
    "    order by asset_1.business_date;\n",
    "    \"\"\"\n",
    "\n",
    "    conn, cursor = connect_to_rds()\n",
    "    df_daily_returns = sql_query_as_df(returns_query, cursor)\n",
    "\n",
    "    if df_daily_returns.empty:\n",
    "        print(f\"Error: Returns data for {asset_1} and {asset_2} between {min_start_date} and {max_end_date} is empty in tbl_daily_prod\")\n",
    "        sys.exit(1)\n",
    "\n",
    "    min_returns_date = min(df_daily_returns[\"business_date\"])\n",
    "    max_returns_date = max(df_daily_returns[\"business_date\"])\n",
    "\n",
    "    if min_returns_date > min_start_date:\n",
    "        print(f\"Warning: Your input requires returns data going back to {min_start_date}, but returns data only goes back to {min_returns_date}\")\n",
    "    \n",
    "    if max_returns_date > max_end_date:\n",
    "        print(f\"Warning: Your input requires returns data going up to {max_end_date}, but returns data only goes up to {max_end_date}\")\n",
    "    \n",
    "    conn.close()\n",
    "\n",
    "    return asset_1, asset_2, df_daily_returns"
   ]
  },
  {
   "cell_type": "code",
   "execution_count": 76,
   "id": "3df876ae",
   "metadata": {},
   "outputs": [
    {
     "name": "stdout",
     "output_type": "stream",
     "text": [
      "✅ Connected successfully!\n",
      "Warning: Your input requires returns data going back to 2019-10-01, but returns data only goes back to 2020-01-02\n"
     ]
    }
   ],
   "source": [
    "# Test get_daily_asset_returns\n",
    "asset_1, asset_2, df_daily_returns = get_daily_asset_returns(asset_1, asset_2, min_start_date, max_end_date)"
   ]
  },
  {
   "cell_type": "code",
   "execution_count": 77,
   "id": "5036eeec",
   "metadata": {},
   "outputs": [
    {
     "data": {
      "text/html": [
       "<div>\n",
       "<style scoped>\n",
       "    .dataframe tbody tr th:only-of-type {\n",
       "        vertical-align: middle;\n",
       "    }\n",
       "\n",
       "    .dataframe tbody tr th {\n",
       "        vertical-align: top;\n",
       "    }\n",
       "\n",
       "    .dataframe thead th {\n",
       "        text-align: right;\n",
       "    }\n",
       "</style>\n",
       "<table border=\"1\" class=\"dataframe\">\n",
       "  <thead>\n",
       "    <tr style=\"text-align: right;\">\n",
       "      <th></th>\n",
       "      <th>business_date</th>\n",
       "      <th>asset_1_returns</th>\n",
       "      <th>asset_2_returns</th>\n",
       "    </tr>\n",
       "  </thead>\n",
       "  <tbody>\n",
       "    <tr>\n",
       "      <th>0</th>\n",
       "      <td>2020-01-02</td>\n",
       "      <td>NaN</td>\n",
       "      <td>NaN</td>\n",
       "    </tr>\n",
       "    <tr>\n",
       "      <th>1</th>\n",
       "      <td>2020-01-03</td>\n",
       "      <td>-1.632722</td>\n",
       "      <td>2.963325</td>\n",
       "    </tr>\n",
       "    <tr>\n",
       "      <th>2</th>\n",
       "      <td>2020-01-06</td>\n",
       "      <td>0.427923</td>\n",
       "      <td>1.925464</td>\n",
       "    </tr>\n",
       "    <tr>\n",
       "      <th>3</th>\n",
       "      <td>2020-01-07</td>\n",
       "      <td>1.235259</td>\n",
       "      <td>3.880055</td>\n",
       "    </tr>\n",
       "    <tr>\n",
       "      <th>4</th>\n",
       "      <td>2020-01-08</td>\n",
       "      <td>0.191318</td>\n",
       "      <td>4.920479</td>\n",
       "    </tr>\n",
       "  </tbody>\n",
       "</table>\n",
       "</div>"
      ],
      "text/plain": [
       "  business_date  asset_1_returns  asset_2_returns\n",
       "0    2020-01-02              NaN              NaN\n",
       "1    2020-01-03        -1.632722         2.963325\n",
       "2    2020-01-06         0.427923         1.925464\n",
       "3    2020-01-07         1.235259         3.880055\n",
       "4    2020-01-08         0.191318         4.920479"
      ]
     },
     "execution_count": 77,
     "metadata": {},
     "output_type": "execute_result"
    }
   ],
   "source": [
    "df_daily_returns.head(n = 5)"
   ]
  },
  {
   "cell_type": "code",
   "execution_count": 78,
   "id": "0c6d36c8",
   "metadata": {},
   "outputs": [
    {
     "data": {
      "text/html": [
       "<div>\n",
       "<style scoped>\n",
       "    .dataframe tbody tr th:only-of-type {\n",
       "        vertical-align: middle;\n",
       "    }\n",
       "\n",
       "    .dataframe tbody tr th {\n",
       "        vertical-align: top;\n",
       "    }\n",
       "\n",
       "    .dataframe thead th {\n",
       "        text-align: right;\n",
       "    }\n",
       "</style>\n",
       "<table border=\"1\" class=\"dataframe\">\n",
       "  <thead>\n",
       "    <tr style=\"text-align: right;\">\n",
       "      <th></th>\n",
       "      <th>business_date</th>\n",
       "      <th>asset_1_returns</th>\n",
       "      <th>asset_2_returns</th>\n",
       "    </tr>\n",
       "  </thead>\n",
       "  <tbody>\n",
       "    <tr>\n",
       "      <th>1369</th>\n",
       "      <td>2025-06-13</td>\n",
       "      <td>-2.089655</td>\n",
       "      <td>1.942904</td>\n",
       "    </tr>\n",
       "    <tr>\n",
       "      <th>1370</th>\n",
       "      <td>2025-06-16</td>\n",
       "      <td>1.915898</td>\n",
       "      <td>1.174265</td>\n",
       "    </tr>\n",
       "    <tr>\n",
       "      <th>1371</th>\n",
       "      <td>2025-06-17</td>\n",
       "      <td>-0.393946</td>\n",
       "      <td>-3.882964</td>\n",
       "    </tr>\n",
       "    <tr>\n",
       "      <th>1372</th>\n",
       "      <td>2025-06-18</td>\n",
       "      <td>0.943658</td>\n",
       "      <td>1.801802</td>\n",
       "    </tr>\n",
       "    <tr>\n",
       "      <th>1373</th>\n",
       "      <td>2025-06-20</td>\n",
       "      <td>-1.120429</td>\n",
       "      <td>0.034156</td>\n",
       "    </tr>\n",
       "  </tbody>\n",
       "</table>\n",
       "</div>"
      ],
      "text/plain": [
       "     business_date  asset_1_returns  asset_2_returns\n",
       "1369    2025-06-13        -2.089655         1.942904\n",
       "1370    2025-06-16         1.915898         1.174265\n",
       "1371    2025-06-17        -0.393946        -3.882964\n",
       "1372    2025-06-18         0.943658         1.801802\n",
       "1373    2025-06-20        -1.120429         0.034156"
      ]
     },
     "execution_count": 78,
     "metadata": {},
     "output_type": "execute_result"
    }
   ],
   "source": [
    "df_daily_returns.tail(n = 5)"
   ]
  },
  {
   "cell_type": "code",
   "execution_count": 79,
   "id": "a86294e0",
   "metadata": {},
   "outputs": [],
   "source": [
    "def calc_rolling_correlation(asset_1: str, asset_2: str, df_daily_returns: pd.DataFrame, n_months: int) -> pd.DataFrame:\n",
    "   \n",
    "    # First verify that the min_business_date and max_business_date are separated by more than n_months.  If not, crash the program\n",
    "\n",
    "    # Now we loop backwards from most recent to most distance past\n",
    "    # df_returns has 3 columns: business_date, asset_1_returns, asset_2_returns\n",
    "    business_dates = df_daily_returns[\"business_date\"]\n",
    "    min_business_date = min(business_dates)\n",
    "\n",
    "    # CHECK\n",
    "    # for business_date in business_dates:\n",
    "    #    print(f\"business_date: {business_date}\")\n",
    "\n",
    "    business_dates_to_correlations = []\n",
    "\n",
    "    for end_date in business_dates:\n",
    "\n",
    "        # print(f\"end_date: {end_date}\")\n",
    "\n",
    "        # For a given end_date, attempt to get the start_date of the correlation calculation.  If it is earlier than the oldest date, continue to the next end_date\n",
    "        n_months_before_end_date = end_date - relativedelta(months = n_months)\n",
    "        # print(f\"n_months_before_end_date: {n_months_before_end_date}\")\n",
    "\n",
    "        if n_months_before_end_date >= min_business_date:\n",
    "\n",
    "            start_date = max([d for d in business_dates if d <= n_months_before_end_date])\n",
    "\n",
    "            df_between_start_end_date = df_daily_returns.loc[\n",
    "                (start_date <= df_daily_returns[\"business_date\"]) & (df_daily_returns[\"business_date\"] <= end_date)\n",
    "            ]\n",
    "\n",
    "            corr = df_between_start_end_date[\"asset_1_returns\"].corr(df_between_start_end_date[\"asset_2_returns\"])\n",
    "\n",
    "            # print(f\"start_date: {start_date}\")\n",
    "            # print(f\"correlation: {corr}\")\n",
    "            # print(\"\\n\")\n",
    "            \n",
    "            business_date_to_correlation = {\n",
    "                \"asset_1\": asset_1,\n",
    "                \"asset_2\": asset_2,\n",
    "                \"n_months\": n_months,\n",
    "                \"end_date\": end_date,\n",
    "                \"correlation\": corr\n",
    "            }\n",
    "\n",
    "            business_dates_to_correlations.append(business_date_to_correlation)\n",
    "\n",
    "        else:\n",
    "            # print(f\"n_months_before_end_date is too far back: {n_months_before_end_date}. Skipping\")\n",
    "            # print(\"\\n\")\n",
    "            continue\n",
    "    \n",
    "    # TODO: If I will just directly insert into the PostgreSQL database after this, there is no need to convert into a Pandas dataframe, because I will just convert into a list of dict before insertion\n",
    "    df_correlation_time_series = pd.DataFrame(business_dates_to_correlations)\n",
    "\n",
    "    return df_correlation_time_series"
   ]
  },
  {
   "cell_type": "code",
   "execution_count": 81,
   "id": "0140bfa7",
   "metadata": {},
   "outputs": [],
   "source": [
    "df_correlation_time_series = calc_rolling_correlation(asset_1, asset_2, df_daily_returns, n_months)"
   ]
  },
  {
   "cell_type": "code",
   "execution_count": 82,
   "id": "e23d0b42",
   "metadata": {},
   "outputs": [
    {
     "data": {
      "text/html": [
       "<div>\n",
       "<style scoped>\n",
       "    .dataframe tbody tr th:only-of-type {\n",
       "        vertical-align: middle;\n",
       "    }\n",
       "\n",
       "    .dataframe tbody tr th {\n",
       "        vertical-align: top;\n",
       "    }\n",
       "\n",
       "    .dataframe thead th {\n",
       "        text-align: right;\n",
       "    }\n",
       "</style>\n",
       "<table border=\"1\" class=\"dataframe\">\n",
       "  <thead>\n",
       "    <tr style=\"text-align: right;\">\n",
       "      <th></th>\n",
       "      <th>asset_1</th>\n",
       "      <th>asset_2</th>\n",
       "      <th>n_months</th>\n",
       "      <th>end_date</th>\n",
       "      <th>correlation</th>\n",
       "    </tr>\n",
       "  </thead>\n",
       "  <tbody>\n",
       "    <tr>\n",
       "      <th>0</th>\n",
       "      <td>NVDA</td>\n",
       "      <td>TSLA</td>\n",
       "      <td>3</td>\n",
       "      <td>2020-04-02</td>\n",
       "      <td>0.538361</td>\n",
       "    </tr>\n",
       "    <tr>\n",
       "      <th>1</th>\n",
       "      <td>NVDA</td>\n",
       "      <td>TSLA</td>\n",
       "      <td>3</td>\n",
       "      <td>2020-04-03</td>\n",
       "      <td>0.523566</td>\n",
       "    </tr>\n",
       "    <tr>\n",
       "      <th>2</th>\n",
       "      <td>NVDA</td>\n",
       "      <td>TSLA</td>\n",
       "      <td>3</td>\n",
       "      <td>2020-04-06</td>\n",
       "      <td>0.535719</td>\n",
       "    </tr>\n",
       "    <tr>\n",
       "      <th>3</th>\n",
       "      <td>NVDA</td>\n",
       "      <td>TSLA</td>\n",
       "      <td>3</td>\n",
       "      <td>2020-04-07</td>\n",
       "      <td>0.524675</td>\n",
       "    </tr>\n",
       "    <tr>\n",
       "      <th>4</th>\n",
       "      <td>NVDA</td>\n",
       "      <td>TSLA</td>\n",
       "      <td>3</td>\n",
       "      <td>2020-04-08</td>\n",
       "      <td>0.523548</td>\n",
       "    </tr>\n",
       "    <tr>\n",
       "      <th>...</th>\n",
       "      <td>...</td>\n",
       "      <td>...</td>\n",
       "      <td>...</td>\n",
       "      <td>...</td>\n",
       "      <td>...</td>\n",
       "    </tr>\n",
       "    <tr>\n",
       "      <th>1306</th>\n",
       "      <td>NVDA</td>\n",
       "      <td>TSLA</td>\n",
       "      <td>3</td>\n",
       "      <td>2025-06-13</td>\n",
       "      <td>0.777317</td>\n",
       "    </tr>\n",
       "    <tr>\n",
       "      <th>1307</th>\n",
       "      <td>NVDA</td>\n",
       "      <td>TSLA</td>\n",
       "      <td>3</td>\n",
       "      <td>2025-06-16</td>\n",
       "      <td>0.778314</td>\n",
       "    </tr>\n",
       "    <tr>\n",
       "      <th>1308</th>\n",
       "      <td>NVDA</td>\n",
       "      <td>TSLA</td>\n",
       "      <td>3</td>\n",
       "      <td>2025-06-17</td>\n",
       "      <td>0.776543</td>\n",
       "    </tr>\n",
       "    <tr>\n",
       "      <th>1309</th>\n",
       "      <td>NVDA</td>\n",
       "      <td>TSLA</td>\n",
       "      <td>3</td>\n",
       "      <td>2025-06-18</td>\n",
       "      <td>0.775816</td>\n",
       "    </tr>\n",
       "    <tr>\n",
       "      <th>1310</th>\n",
       "      <td>NVDA</td>\n",
       "      <td>TSLA</td>\n",
       "      <td>3</td>\n",
       "      <td>2025-06-20</td>\n",
       "      <td>0.771243</td>\n",
       "    </tr>\n",
       "  </tbody>\n",
       "</table>\n",
       "<p>1311 rows × 5 columns</p>\n",
       "</div>"
      ],
      "text/plain": [
       "     asset_1 asset_2  n_months    end_date  correlation\n",
       "0       NVDA    TSLA         3  2020-04-02     0.538361\n",
       "1       NVDA    TSLA         3  2020-04-03     0.523566\n",
       "2       NVDA    TSLA         3  2020-04-06     0.535719\n",
       "3       NVDA    TSLA         3  2020-04-07     0.524675\n",
       "4       NVDA    TSLA         3  2020-04-08     0.523548\n",
       "...      ...     ...       ...         ...          ...\n",
       "1306    NVDA    TSLA         3  2025-06-13     0.777317\n",
       "1307    NVDA    TSLA         3  2025-06-16     0.778314\n",
       "1308    NVDA    TSLA         3  2025-06-17     0.776543\n",
       "1309    NVDA    TSLA         3  2025-06-18     0.775816\n",
       "1310    NVDA    TSLA         3  2025-06-20     0.771243\n",
       "\n",
       "[1311 rows x 5 columns]"
      ]
     },
     "execution_count": 82,
     "metadata": {},
     "output_type": "execute_result"
    }
   ],
   "source": [
    "df_correlation_time_series"
   ]
  },
  {
   "cell_type": "code",
   "execution_count": 83,
   "id": "0a129386",
   "metadata": {},
   "outputs": [
    {
     "data": {
      "image/png": "[encoded data removed]",
      "text/plain": [
       "<Figure size 1200x600 with 1 Axes>"
      ]
     },
     "metadata": {},
     "output_type": "display_data"
    }
   ],
   "source": [
    "plot_rolling_correlation(df_correlation_time_series)"
   ]
  },
  {
   "cell_type": "code",
   "execution_count": null,
   "id": "10ea54ab",
   "metadata": {},
   "outputs": [],
   "source": []
  }
 ],
 "metadata": {
  "kernelspec": {
   "display_name": "Python 3",
   "language": "python",
   "name": "python3"
  },
  "language_info": {
   "codemirror_mode": {
    "name": "ipython",
    "version": 3
   },
   "file_extension": ".py",
   "mimetype": "text/x-python",
   "name": "python",
   "nbconvert_exporter": "python",
   "pygments_lexer": "ipython3",
   "version": "3.10.12"
  }
 },
 "nbformat": 4,
 "nbformat_minor": 5
}
