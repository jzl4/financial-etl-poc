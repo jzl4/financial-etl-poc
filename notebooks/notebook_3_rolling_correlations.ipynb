{
 "cells": [
  {
   "cell_type": "markdown",
   "id": "008a1c1b",
   "metadata": {},
   "source": [
    "### Developing infrastructure for calculating rolling correlations over diff periods of time for combinations of asset pairs: (asset 1, asset 2, corr_window, business_date)"
   ]
  },
  {
   "cell_type": "code",
   "execution_count": 32,
   "id": "c915b8ab",
   "metadata": {},
   "outputs": [
    {
     "name": "stdout",
     "output_type": "stream",
     "text": [
      "✅ Connected successfully!\n"
     ]
    }
   ],
   "source": [
    "import os\n",
    "import sys\n",
    "\n",
    "import pandas as pd\n",
    "from datetime import date\n",
    "from dateutil.relativedelta import relativedelta\n",
    "from typing import Optional\n",
    "\n",
    "# Required to import other modules from this project, in folders such as utils/ or notebooks/\n",
    "current_folder = os.getcwd()\n",
    "project_root_folder = os.path.abspath(os.path.join(current_folder, \"..\"))\n",
    "sys.path.append(project_root_folder)\n",
    "# Import functionalities from other modules in this project\n",
    "from utils.db_utils import *\n",
    "\n",
    "# Load .env file for AWS RDS login credentials\n",
    "from dotenv import load_dotenv\n",
    "dotenv_path = os.path.join(project_root_folder, \".env\")\n",
    "load_dotenv(dotenv_path)\n",
    "\n",
    "# Global variables\n",
    "conn, cursor = connect_to_rds()"
   ]
  },
  {
   "cell_type": "markdown",
   "id": "1ae26077",
   "metadata": {},
   "source": [
    "### Generate unique pairs of assets. I might not need all of these, though"
   ]
  },
  {
   "cell_type": "code",
   "execution_count": 24,
   "id": "fb92b0a2",
   "metadata": {},
   "outputs": [],
   "source": [
    "query = \"\"\"\n",
    "select ticker from tbl_active_tickers\n",
    "where is_active = TRUE;\n",
    "\"\"\"\n",
    "\n",
    "df_active_tickers = sql_query_as_df(query, cursor)"
   ]
  },
  {
   "cell_type": "code",
   "execution_count": 25,
   "id": "5012aa4a",
   "metadata": {},
   "outputs": [],
   "source": [
    "# Dataframe -> series -> np array -> list\n",
    "active_tickers = df_active_tickers[\"ticker\"].values.tolist()"
   ]
  },
  {
   "cell_type": "code",
   "execution_count": 26,
   "id": "6e71190e",
   "metadata": {},
   "outputs": [],
   "source": [
    "from itertools import combinations"
   ]
  },
  {
   "cell_type": "code",
   "execution_count": 28,
   "id": "f84870b6",
   "metadata": {},
   "outputs": [
    {
     "data": {
      "text/plain": [
       "[('SPY', 'GLD'),\n",
       " ('SPY', 'NVDA'),\n",
       " ('SPY', 'TSLA'),\n",
       " ('SPY', 'TLT'),\n",
       " ('SPY', 'SLV'),\n",
       " ('GLD', 'NVDA'),\n",
       " ('GLD', 'TSLA'),\n",
       " ('GLD', 'TLT'),\n",
       " ('GLD', 'SLV'),\n",
       " ('NVDA', 'TSLA'),\n",
       " ('NVDA', 'TLT'),\n",
       " ('NVDA', 'SLV'),\n",
       " ('TSLA', 'TLT'),\n",
       " ('TSLA', 'SLV'),\n",
       " ('TLT', 'SLV')]"
      ]
     },
     "execution_count": 28,
     "metadata": {},
     "output_type": "execute_result"
    }
   ],
   "source": [
    "asset_pairs = list(combinations(active_tickers, 2))\n",
    "asset_pairs"
   ]
  },
  {
   "cell_type": "markdown",
   "id": "2c13d09e",
   "metadata": {},
   "source": [
    "### Function to calculate rolling correlation given (asset 1, asset 2, roll_corr_window, business_date). Default business_date should be most recent business_date.  Should rolling correlation window be passed in as \"1M\", \"3M\", and \"6M\"?"
   ]
  },
  {
   "cell_type": "code",
   "execution_count": null,
   "id": "029d274e",
   "metadata": {},
   "outputs": [],
   "source": [
    "def calc_return_correlation(asset_1: str, asset_2: str, roll_corr_window: str, user_input_business_date_str: Optional[str]):\n",
    "\n",
    "    # Get distinct business_date common to both asset_1 and asset_2\n",
    "    query = f\"\"\"\n",
    "    (\n",
    "        select business_date\n",
    "        from tbl_daily_prod\n",
    "        where ticker = '{asset_1}'\n",
    "    )\n",
    "    intersect\n",
    "    (\n",
    "        select business_date\n",
    "        from tbl_daily_prod\n",
    "        where ticker = '{asset_2}'\n",
    "    )\n",
    "    order by business_date;\n",
    "    \"\"\"\n",
    "\n",
    "    df_business_dates = sql_query_as_df(query, cursor)\n",
    "    business_dates_common_to_both_assets = set(pd.to_datetime(df_business_dates[\"business_date\"]))\n",
    "\n",
    "    if user_input_business_date_str:\n",
    "        user_input_business_date = pd.to_datetime(user_input_business_date_str)\n",
    "    else:\n",
    "        user_input_business_date = None\n",
    "\n",
    "    # If the desired business_date from user is not provided, or if doesn't exist in the list of valid business_date, use max(business_dates)\n",
    "    if (user_input_business_date is None) or (user_input_business_date not in business_dates_common_to_both_assets):\n",
    "        end_date = max(business_dates_common_to_both_assets)\n",
    "        print(f\"User did not provide business_date or provided date not in business_dates of database, so defaulting to max(business_dates): {end_date}\")\n",
    "    else:\n",
    "        end_date = user_input_business_date\n",
    "\n",
    "    # I need date operations: given end_date (date), I can find 1 month or 3 month prior\n",
    "    # TODO: Need to spend more time on exception handling with: if/try/raise/except and what combinations make sense together\n",
    "    roll_corr_window_map = {\"1M\": 1, \"3M\": 3, \"6M\": 6}\n",
    "    try:\n",
    "        n_months = roll_corr_window_map[roll_corr_window]\n",
    "    except KeyError:\n",
    "        valid_keys = list(roll_corr_window_map.keys())\n",
    "        print(f\"User input {roll_corr_window} is not a valid input. Needs to be among: {valid_keys}\")\n",
    "\n",
    "    n_months_before_end_date = end_date - relativedelta(months = n_months)\n",
    "\n",
    "    # TODO: If n_months_before_end_date does not fall within the list of business_dates_common_to_both_assets, do I go up or down, to the next business_date or to the prev business_date?\n",
    "\n",
    "    #  Finally, I get the time series of daily returns from both asset 1 and 2 between start_date and end_date (by querying the prod table tbl_daily_prod), calculate correlation, and return that number\n",
    "    "
   ]
  },
  {
   "cell_type": "code",
   "execution_count": 33,
   "id": "9fbc95ea",
   "metadata": {},
   "outputs": [],
   "source": [
    "# TODO: Should I create a vectorized version of this, for generating a time series / history of rolling correlations?  Something named: calc_rolling_return_correlation or calc_return_correlation_time_series"
   ]
  },
  {
   "cell_type": "code",
   "execution_count": null,
   "id": "08315502",
   "metadata": {},
   "outputs": [],
   "source": []
  }
 ],
 "metadata": {
  "kernelspec": {
   "display_name": "Python 3",
   "language": "python",
   "name": "python3"
  },
  "language_info": {
   "codemirror_mode": {
    "name": "ipython",
    "version": 3
   },
   "file_extension": ".py",
   "mimetype": "text/x-python",
   "name": "python",
   "nbconvert_exporter": "python",
   "pygments_lexer": "ipython3",
   "version": "3.10.12"
  }
 },
 "nbformat": 4,
 "nbformat_minor": 5
}
