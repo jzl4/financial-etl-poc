{
 "cells": [
  {
   "cell_type": "markdown",
   "id": "008a1c1b",
   "metadata": {},
   "source": [
    "### Developing infrastructure for calculating rolling correlations over diff periods of time for combinations of asset pairs: (asset 1, asset 2, corr_window, business_date)"
   ]
  },
  {
   "cell_type": "code",
   "execution_count": 4,
   "id": "c915b8ab",
   "metadata": {},
   "outputs": [
    {
     "name": "stdout",
     "output_type": "stream",
     "text": [
      "✅ Connected successfully!\n"
     ]
    }
   ],
   "source": [
    "import os\n",
    "import sys\n",
    "\n",
    "import pandas as pd\n",
    "from datetime import date\n",
    "from dateutil.relativedelta import relativedelta\n",
    "from typing import Optional, Set\n",
    "\n",
    "# Required to import other modules from this project, in folders such as utils/ or notebooks/\n",
    "current_folder = os.getcwd()\n",
    "project_root_folder = os.path.abspath(os.path.join(current_folder, \"..\"))\n",
    "sys.path.append(project_root_folder)\n",
    "# Import functionalities from other modules in this project\n",
    "from utils.db_utils import *\n",
    "\n",
    "# Load .env file for AWS RDS login credentials\n",
    "from dotenv import load_dotenv\n",
    "dotenv_path = os.path.join(project_root_folder, \".env\")\n",
    "load_dotenv(dotenv_path)\n",
    "\n",
    "# Global variables\n",
    "conn, cursor = connect_to_rds()"
   ]
  },
  {
   "cell_type": "markdown",
   "id": "1ae26077",
   "metadata": {},
   "source": [
    "### Generate unique pairs of assets. I might not need all of these, though"
   ]
  },
  {
   "cell_type": "code",
   "execution_count": 2,
   "id": "fb92b0a2",
   "metadata": {},
   "outputs": [],
   "source": [
    "dates_query = \"\"\"\n",
    "select ticker from tbl_active_tickers\n",
    "where is_active = TRUE;\n",
    "\"\"\"\n",
    "\n",
    "df_active_tickers = sql_query_as_df(dates_query, cursor)"
   ]
  },
  {
   "cell_type": "code",
   "execution_count": 3,
   "id": "5012aa4a",
   "metadata": {},
   "outputs": [],
   "source": [
    "# Dataframe -> series -> np array -> list\n",
    "active_tickers = df_active_tickers[\"ticker\"].values.tolist()"
   ]
  },
  {
   "cell_type": "code",
   "execution_count": 5,
   "id": "6e71190e",
   "metadata": {},
   "outputs": [],
   "source": [
    "from itertools import combinations"
   ]
  },
  {
   "cell_type": "code",
   "execution_count": null,
   "id": "f84870b6",
   "metadata": {},
   "outputs": [
    {
     "data": {
      "text/plain": [
       "[('GLD', 'SPY'),\n",
       " ('NVDA', 'SPY'),\n",
       " ('SPY', 'TSLA'),\n",
       " ('SPY', 'TLT'),\n",
       " ('SLV', 'SPY'),\n",
       " ('GLD', 'NVDA'),\n",
       " ('GLD', 'TSLA'),\n",
       " ('GLD', 'TLT'),\n",
       " ('GLD', 'SLV'),\n",
       " ('NVDA', 'TSLA'),\n",
       " ('NVDA', 'TLT'),\n",
       " ('NVDA', 'SLV'),\n",
       " ('TLT', 'TSLA'),\n",
       " ('SLV', 'TSLA'),\n",
       " ('SLV', 'TLT')]"
      ]
     },
     "execution_count": 14,
     "metadata": {},
     "output_type": "execute_result"
    }
   ],
   "source": [
    "# Get all unique combinations of (asset_1, asset_2) pairs\n",
    "asset_pairs_unsorted = list(combinations(active_tickers, 2))\n",
    "asset_pairs_sorted = [tuple(sorted((asset_1, asset_2))) for (asset_1, asset_2) in asset_pairs_unsorted]\n",
    "asset_pairs_sorted"
   ]
  },
  {
   "cell_type": "markdown",
   "id": "2c13d09e",
   "metadata": {},
   "source": [
    "### Function to calculate rolling correlation given (asset 1, asset 2, roll_corr_window, business_date). Default business_date should be most recent business_date.  Should rolling correlation window be passed in as \"1M\", \"3M\", and \"6M\"?"
   ]
  },
  {
   "cell_type": "code",
   "execution_count": 22,
   "id": "55a81ecb",
   "metadata": {},
   "outputs": [],
   "source": [
    "def get_intersection_of_business_dates_for_asset_pair(asset_1: str, asset_2: str, cursor: Cursor) -> Set[date]:\n",
    "    \"\"\"\n",
    "    Given a pair of (asset_1, asset_2), return the set of business_date for which price/volume data is available for both (intersection of valid business_date for these 2 assets).  For example, if TSLA has price/volume on (date_1, date_2, date_3) and NVDA has price/volume on (date_2, date_3, date_4), this will return a set of dates (date_2, date_3) only\n",
    "    \"\"\"\n",
    "\n",
    "    dates_query = f\"\"\"\n",
    "    (\n",
    "        select business_date\n",
    "        from tbl_daily_prod\n",
    "        where ticker = '{asset_1}'\n",
    "    )\n",
    "    intersect\n",
    "    (\n",
    "        select business_date\n",
    "        from tbl_daily_prod\n",
    "        where ticker = '{asset_2}'\n",
    "    )\n",
    "    order by business_date;\n",
    "    \"\"\"\n",
    "\n",
    "    df_business_dates = sql_query_as_df(dates_query, cursor)\n",
    "\n",
    "    business_dates_common_to_both_assets = set(pd.to_datetime(df_business_dates[\"business_date\"]))\n",
    "\n",
    "    if not business_dates_common_to_both_assets:\n",
    "        raise ValueError(f\"No business dates in common between {asset_1} and {asset_2}\")\n",
    "    \n",
    "    return business_dates_common_to_both_assets"
   ]
  },
  {
   "cell_type": "code",
   "execution_count": 23,
   "id": "1cbe1928",
   "metadata": {},
   "outputs": [],
   "source": [
    "def convert_business_date_from_str_to_date_or_none(user_input_business_date_str: Optional[str]) -> Optional[date]:\n",
    "    \"\"\"\n",
    "    Attempt to convert an input from user from string into date.  Needs to be in YYYY-MM-DD or other acceptable format.  Can also be None, in which case, we will handle no user input by getting set of valid business_date downstream\n",
    "    \"\"\"\n",
    "    \n",
    "    if user_input_business_date_str:\n",
    "        try:\n",
    "            user_input_business_date = pd.to_datetime(user_input_business_date_str)\n",
    "        except ValueError:\n",
    "            print(f\"Error: User's input {user_input_business_date_str} cannot be converted into a valid date. Needs to be YYYY-MM-DD format\")            \n",
    "            sys.exit(1)\n",
    "    else:\n",
    "        user_input_business_date = None\n",
    "\n",
    "    return user_input_business_date"
   ]
  },
  {
   "cell_type": "code",
   "execution_count": 24,
   "id": "fbbe0de7",
   "metadata": {},
   "outputs": [],
   "source": [
    "def get_end_date_for_asset_pair(user_input_business_date: Optional[date], business_dates_common_to_both_assets: Set[date]) -> date:\n",
    "    \"\"\"\n",
    "    Given an user input date, which could be none (not provided), and a set of valid business_date between both assets, get the end_date of the rolling correlation calculation.  If user does not provide an end_date, or the end_date provided by the user is not among the set of valid business_date between these 2 assets, return the max business_date instead. For example, if (asset_1, asset_2) both have price/volume on (date_1, date_2), and user gives date_3 or None, this method will return end_date = date_2\n",
    "    \"\"\"\n",
    "\n",
    "    if (user_input_business_date is None) or (user_input_business_date not in business_dates_common_to_both_assets):\n",
    "        end_date = max(business_dates_common_to_both_assets)\n",
    "        print(f\"User did not provide business_date or provided date not in business_dates of database, so defaulting to max(business_dates_common_to_both_assets): {end_date}\")\n",
    "    else:\n",
    "        end_date = user_input_business_date\n",
    "    \n",
    "    return end_date"
   ]
  },
  {
   "cell_type": "code",
   "execution_count": 25,
   "id": "8a731f8f",
   "metadata": {},
   "outputs": [],
   "source": [
    "def get_start_date_for_asset_pair(end_date: date, roll_corr_window: str, business_dates_common_to_both_assets: Set[date]) -> date:\n",
    "    \"\"\"\n",
    "    Get n months before end_date. Get the max business_date that is less than or equal to n_months_before_end_date, and set that as start_date (in case n_months_before_end_date isn't in business_dates_common_to_both_assets)\n",
    "    \"\"\"\n",
    "\n",
    "    # TODO: If time permits, I should be able to parse strings such as \"12M\" or \"1Y\" into integers automatically, instead of relying on a static mapping (where I would have to list out potentially infinite combinations)\n",
    "    # Convert user input (str) into integer number of months\n",
    "    roll_corr_window_map = {\"1M\": 1, \"3M\": 3, \"6M\": 6, \"12M\": 12, \"1Y\": 12}\n",
    "\n",
    "    # Needs to be one of these keys, such as \"1M\", \"3M\", etc.\n",
    "    if roll_corr_window not in roll_corr_window_map:\n",
    "        valid_keys = list(roll_corr_window_map.keys())\n",
    "        raise ValueError(f\"User input {roll_corr_window} is not a valid input. Needs to be among: {valid_keys}\")\n",
    "    n_months = roll_corr_window_map[roll_corr_window]\n",
    "\n",
    "    # Get n months before the end_date, and try to find the closest date among business_dates_common_to_both_assets, and set that to start_date\n",
    "    n_months_before_end_date = end_date - relativedelta(months = n_months)\n",
    "    if n_months_before_end_date < min(business_dates_common_to_both_assets):\n",
    "        raise ValueError(f\"Database doesn't have enough historical returns data to calculate {roll_corr_window} of correlation\")\n",
    "    start_date = max([d for d in business_dates_common_to_both_assets if d <= n_months_before_end_date])\n",
    "\n",
    "    return start_date"
   ]
  },
  {
   "cell_type": "code",
   "execution_count": null,
   "id": "faee7cee",
   "metadata": {},
   "outputs": [],
   "source": [
    "def get_asset_1_and_asset_2_returns_and_calc_corr(asset_1: str, asset_2: str, start_date: date, end_date: date, cursor: Cursor) -> float:\n",
    "    \"\"\"\n",
    "    Access prod table tbl_daily_prod, to get returns of asset_1 and asset_2 between start_date and end_date. Then calculate the correlation\n",
    "    \"\"\"\n",
    "\n",
    "    returns_query = f\"\"\"\n",
    "    select\n",
    "        asset_1.adj_close_pct_chg as asset_1_returns,\n",
    "        asset_2.adj_close_pct_chg as asset_2_returns\n",
    "    from tbl_daily_prod asset_1 join tbl_daily_prod asset_2\n",
    "        on asset_1.business_date = asset_2.business_date\n",
    "    where\n",
    "        asset_1.ticker = '{asset_1}' and asset_1.business_date between '{start_date}' and '{end_date}'\n",
    "        and asset_2.ticker = '{asset_2}' and asset_2.business_date between '{start_date}' and '{end_date}'\n",
    "    order by asset_1.business_date;\n",
    "    \"\"\"\n",
    "    df_returns = sql_query_as_df(returns_query, cursor)\n",
    "\n",
    "    asset_1_2_corr = df_returns[\"asset_1_returns\"].corr(df_returns[\"asset_2_returns\"])\n",
    "\n",
    "    return asset_1_2_corr"
   ]
  },
  {
   "cell_type": "code",
   "execution_count": null,
   "id": "029d274e",
   "metadata": {},
   "outputs": [],
   "source": [
    "def calc_return_correlation(asset_1: str, asset_2: str, roll_corr_window: str, cursor: Cursor, user_input_business_date_str: Optional[str] = None):\n",
    "    \"\"\"\n",
    "    Calculate the correlation of daily returns between asset_1 and asset_2 over a window of time. Optionally pass in the end_date; if none is provided, function will retrieve the latest business_date shared between the two assets\n",
    "    Example: asset_1 = \"SPY\", asset_2 = \"TLT\", roll_corr_window = \"3M\" calculates the 3 month correlation between SPY & TLT between 3 months ago to the latest business_date\n",
    "    Example: asset_1 = \"SPY\", asset_2 = \"GLD\", roll_corr_window = \"6M\", user_input_business_date_str = \"2025-06-01\" calculates the 6 month correlation between SPY & GLD during the period between 2025-06-01 and 6 months prior\n",
    "    \"\"\"\n",
    "\n",
    "    # Get the set of valid business_date common to both asset_1 and asset_2\n",
    "    business_dates_common_to_both_assets = get_intersection_of_business_dates_for_asset_pair(asset_1, asset_2, cursor)\n",
    "\n",
    "    # Attempt to convert user's input of business_date from string into date\n",
    "    user_input_business_date = convert_business_date_from_str_to_date_or_none(user_input_business_date_str)\n",
    "\n",
    "    # Get the latest possible common business_date between asset_1 and asset_2\n",
    "    end_date = get_end_date_for_asset_pair(user_input_business_date, business_dates_common_to_both_assets)\n",
    "\n",
    "    # Get n months before end_date. Get the max business_date that is less than or equal to n_months_before_end_date, and set that as start_date (in case n_months_before_end_date isn't in business_dates_common_to_both_assets)\n",
    "    start_date = get_start_date_for_asset_pair(end_date, roll_corr_window, business_dates_common_to_both_assets)\n",
    "\n",
    "    # Get both series of daily returns from asset_1 and asset_2 between start_date and end_date, and calculate the correlation\n",
    "    asset_1_2_corr = get_asset_1_and_asset_2_returns_and_calc_corr(asset_1, asset_2, start_date, end_date, cursor)\n",
    "\n",
    "    return asset_1_2_corr"
   ]
  },
  {
   "cell_type": "code",
   "execution_count": null,
   "id": "1f26ac56",
   "metadata": {},
   "outputs": [
    {
     "name": "stdout",
     "output_type": "stream",
     "text": [
      "User did not provide business_date or provided date not in business_dates of database, so defaulting to max(business_dates_common_to_both_assets): 2025-06-20 00:00:00\n"
     ]
    },
    {
     "data": {
      "text/plain": [
       "np.float64(0.7909642739810769)"
      ]
     },
     "execution_count": 30,
     "metadata": {},
     "output_type": "execute_result"
    }
   ],
   "source": [
    "# Example 1\n",
    "asset_1 = \"TSLA\"\n",
    "asset_2 = \"SPY\"\n",
    "roll_corr_window = \"3M\"\n",
    "calc_return_correlation(asset_1, asset_2, roll_corr_window, cursor)"
   ]
  },
  {
   "cell_type": "code",
   "execution_count": 36,
   "id": "1a6aa2b9",
   "metadata": {},
   "outputs": [
    {
     "data": {
      "text/plain": [
       "np.float64(-0.5783829029460327)"
      ]
     },
     "execution_count": 36,
     "metadata": {},
     "output_type": "execute_result"
    }
   ],
   "source": [
    "# Example 2\n",
    "asset_1 = \"GLD\"\n",
    "asset_2 = \"SPY\"\n",
    "roll_corr_window = \"1M\"\n",
    "user_input_business_date_str = \"2025-06-03\"\n",
    "calc_return_correlation(asset_1, asset_2, roll_corr_window, cursor, user_input_business_date_str)"
   ]
  },
  {
   "cell_type": "markdown",
   "id": "261165cf",
   "metadata": {},
   "source": [
    "### Create a loop over calc_return_correlation to get a time series of rolling correlations"
   ]
  },
  {
   "cell_type": "code",
   "execution_count": 12,
   "id": "a6e8c522",
   "metadata": {},
   "outputs": [],
   "source": [
    "def convert_corr_window_from_str_to_months(roll_corr_window: str) -> int:\n",
    "    \"\"\"\n",
    "    Convert strings such as \"3M\" or \"1Y\" into number of months, such as 3 or 12\n",
    "    \"\"\"\n",
    "    # TODO: If time permits, I should be able to parse strings such as \"12M\" or \"1Y\" into integers automatically, instead of relying on a static mapping (where I would have to list out potentially infinite combinations)\n",
    "    # Convert user input (str) into integer number of months\n",
    "    roll_corr_window_map = {\"1M\": 1, \"3M\": 3, \"6M\": 6, \"12M\": 12, \"1Y\": 12, \"2Y\": 24}\n",
    "\n",
    "    # Needs to be one of these keys, such as \"1M\", \"3M\", etc.\n",
    "    if roll_corr_window not in roll_corr_window_map:\n",
    "        valid_keys = list(roll_corr_window_map.keys())\n",
    "        raise ValueError(f\"User input {roll_corr_window} is not a valid input for rolling window. Needs to be among: {valid_keys}\")\n",
    "    n_months = roll_corr_window_map[roll_corr_window]\n",
    "\n",
    "    return n_months"
   ]
  },
  {
   "cell_type": "code",
   "execution_count": 13,
   "id": "e235c320",
   "metadata": {},
   "outputs": [],
   "source": [
    "def convert_business_date_from_str_to_date_or_none(user_input_business_date_str: Optional[str]) -> Optional[date]:\n",
    "    \"\"\"\n",
    "    Attempt to convert an input from user from string into date.  Needs to be in YYYY-MM-DD or other acceptable format.  Can also be None, in which case, we will handle no user input by getting set of valid business_date downstream\n",
    "    \"\"\"\n",
    "    \n",
    "    if user_input_business_date_str:\n",
    "        try:\n",
    "            user_input_business_date = pd.to_datetime(user_input_business_date_str)\n",
    "        except ValueError:\n",
    "            raise ValueError(f\"Error: User's input {user_input_business_date_str} cannot be converted into a valid date. Needs to be YYYY-MM-DD format\")            \n",
    "    else:\n",
    "        user_input_business_date = None\n",
    "\n",
    "    return user_input_business_date"
   ]
  },
  {
   "cell_type": "code",
   "execution_count": 14,
   "id": "08315502",
   "metadata": {},
   "outputs": [],
   "source": [
    "def get_intersection_of_business_dates_for_asset_pair(asset_1: str, asset_2: str, cursor: Cursor) -> Set[date]:\n",
    "    \"\"\"\n",
    "    Given a pair of (asset_1, asset_2), return the set of business_date for which price/volume data is available for both (intersection of valid business_date for these 2 assets).  For example, if TSLA has price/volume on (date_1, date_2, date_3) and NVDA has price/volume on (date_2, date_3, date_4), this will return a set of dates (date_2, date_3) only\n",
    "    \"\"\"\n",
    "\n",
    "    dates_query = f\"\"\"\n",
    "    (\n",
    "        select business_date\n",
    "        from tbl_daily_prod\n",
    "        where ticker = '{asset_1}'\n",
    "    )\n",
    "    intersect\n",
    "    (\n",
    "        select business_date\n",
    "        from tbl_daily_prod\n",
    "        where ticker = '{asset_2}'\n",
    "    )\n",
    "    order by business_date;\n",
    "    \"\"\"\n",
    "\n",
    "    df_business_dates = sql_query_as_df(dates_query, cursor)\n",
    "\n",
    "    business_dates_common_to_both_assets = set(pd.to_datetime(df_business_dates[\"business_date\"]))\n",
    "\n",
    "    if not business_dates_common_to_both_assets:\n",
    "        raise ValueError(f\"No business dates in common between {asset_1} and {asset_2}\")\n",
    "    \n",
    "    return business_dates_common_to_both_assets"
   ]
  },
  {
   "cell_type": "code",
   "execution_count": 15,
   "id": "6b5c0216",
   "metadata": {},
   "outputs": [],
   "source": [
    "def get_min_start_date_for_asset_pair(business_dates_common_to_both_assets: Set[date], n_months: int):\n",
    "    \"\"\"\n",
    "    Given a given set of business dates, get the minimum date that is n_months more than the min business_date\n",
    "    \"\"\"\n",
    "    min_business_date = min(business_dates_common_to_both_assets)\n",
    "    max_business_date = max(business_dates_common_to_both_assets)\n",
    "    n_months_after_min_business_date = min_business_date + relativedelta(months = n_months)\n",
    "    if n_months_after_min_business_date > max_business_date:\n",
    "        raise ValueError(f\"Database doesn't have enough historical returns data to calculate {n_months} months of correlation\")\n",
    "    min_start_date = min([d for d in business_dates_common_to_both_assets if d >= n_months_after_min_business_date])\n",
    "\n",
    "    return min_start_date   "
   ]
  },
  {
   "cell_type": "code",
   "execution_count": 16,
   "id": "04cdf427",
   "metadata": {},
   "outputs": [],
   "source": [
    "def get_end_date_for_asset_pair(user_input_business_date: Optional[date], business_dates_common_to_both_assets: Set[date]) -> date:\n",
    "    \"\"\"\n",
    "    Given an user input date, which could be none (not provided), and a set of valid business_date between both assets, get the end_date of the rolling correlation calculation.  If user does not provide an end_date, or the end_date provided by the user is not among the set of valid business_date between these 2 assets, return the max business_date instead. For example, if (asset_1, asset_2) both have price/volume on (date_1, date_2), and user gives date_3 or None, this method will return end_date = date_2\n",
    "    \"\"\"\n",
    "\n",
    "    if (user_input_business_date is None) or (user_input_business_date not in business_dates_common_to_both_assets):\n",
    "        end_date = max(business_dates_common_to_both_assets)\n",
    "        print(f\"User did not provide business_date or provided date not in business_dates of database, so defaulting to max(business_dates_common_to_both_assets): {end_date}\")\n",
    "    else:\n",
    "        end_date = user_input_business_date\n",
    "    \n",
    "    return end_date"
   ]
  },
  {
   "cell_type": "code",
   "execution_count": 17,
   "id": "31c72b47",
   "metadata": {},
   "outputs": [],
   "source": [
    "def get_start_date_for_asset_pair(end_date: date, n_months: int, business_dates_common_to_both_assets: Set[date]) -> date:\n",
    "    \"\"\"\n",
    "    Get n months before end_date. Get the max business_date that is less than or equal to n_months_before_end_date, and set that as start_date (in case n_months_before_end_date isn't in business_dates_common_to_both_assets)\n",
    "    \"\"\"\n",
    "\n",
    "    # Get n months before the end_date, and try to find the closest date among business_dates_common_to_both_assets, and set that to start_date\n",
    "    n_months_before_end_date = end_date - relativedelta(months = n_months)\n",
    "    if n_months_before_end_date < min(business_dates_common_to_both_assets):\n",
    "        raise ValueError(f\"Database doesn't have enough historical returns data to calculate {n_months} months of correlation\")\n",
    "    start_date = max([d for d in business_dates_common_to_both_assets if d <= n_months_before_end_date])\n",
    "\n",
    "    return start_date"
   ]
  },
  {
   "cell_type": "code",
   "execution_count": 22,
   "id": "39eb9131",
   "metadata": {},
   "outputs": [],
   "source": [
    "def get_asset_1_and_asset_2_returns_and_calc_corr(asset_1: str, asset_2: str, start_date: date, end_date: date, cursor: Cursor) -> float:\n",
    "    \"\"\"\n",
    "    Access prod table tbl_daily_prod, to get returns of asset_1 and asset_2 between start_date and end_date. Then calculate the correlation\n",
    "    \"\"\"\n",
    "\n",
    "    returns_query = f\"\"\"\n",
    "    select\n",
    "        asset_1.adj_close_pct_chg as asset_1_returns,\n",
    "        asset_2.adj_close_pct_chg as asset_2_returns\n",
    "    from tbl_daily_prod asset_1 join tbl_daily_prod asset_2\n",
    "        on asset_1.business_date = asset_2.business_date\n",
    "    where\n",
    "        asset_1.ticker = '{asset_1}' and asset_1.business_date between '{start_date}' and '{end_date}'\n",
    "        and asset_2.ticker = '{asset_2}' and asset_2.business_date between '{start_date}' and '{end_date}'\n",
    "    order by asset_1.business_date;\n",
    "    \"\"\"\n",
    "    df_returns = sql_query_as_df(returns_query, cursor)\n",
    "\n",
    "    asset_1_2_corr = df_returns[\"asset_1_returns\"].corr(df_returns[\"asset_2_returns\"])\n",
    "\n",
    "    return asset_1_2_corr"
   ]
  },
  {
   "cell_type": "code",
   "execution_count": 18,
   "id": "88a8220e",
   "metadata": {},
   "outputs": [],
   "source": [
    "def calc_return_correlation(asset_1: str, asset_2: str, business_dates_common_to_both_assets: Set[date], roll_corr_window: str, cursor: Cursor, end_date: date):\n",
    "    \"\"\"\n",
    "    Calculate the correlation of daily returns between asset_1 and asset_2 over a window of time. Optionally pass in the end_date; if none is provided, function will retrieve the latest business_date shared between the two assets\n",
    "    Example: asset_1 = \"SPY\", asset_2 = \"TLT\", roll_corr_window = \"3M\" calculates the 3 month correlation between SPY & TLT between 3 months ago to the latest business_date\n",
    "    Example: asset_1 = \"SPY\", asset_2 = \"GLD\", roll_corr_window = \"6M\", user_input_business_date_str = \"2025-06-01\" calculates the 6 month correlation between SPY & GLD during the period between 2025-06-01 and 6 months prior\n",
    "    \"\"\"\n",
    "    n_months = convert_corr_window_from_str_to_months(roll_corr_window)\n",
    "\n",
    "    # Get n months before end_date. Get the max business_date that is less than or equal to n_months_before_end_date, and set that as start_date (in case n_months_before_end_date isn't in business_dates_common_to_both_assets)\n",
    "    start_date = get_start_date_for_asset_pair(end_date, n_months, business_dates_common_to_both_assets)\n",
    "\n",
    "    # Get both series of daily returns from asset_1 and asset_2 between start_date and end_date, and calculate the correlation\n",
    "    asset_1_2_corr = get_asset_1_and_asset_2_returns_and_calc_corr(asset_1, asset_2, start_date, end_date, cursor)\n",
    "\n",
    "    return asset_1_2_corr"
   ]
  },
  {
   "cell_type": "code",
   "execution_count": 19,
   "id": "7ddd1953",
   "metadata": {},
   "outputs": [],
   "source": [
    "def calc_rolling_return_correlation(asset_1: str, asset_2: str, roll_corr_window: str, cursor: Cursor, user_input_business_date_str: Optional[str] = None):\n",
    "\n",
    "    try:\n",
    "        n_months = convert_corr_window_from_str_to_months(roll_corr_window)\n",
    "        user_input_business_date = convert_business_date_from_str_to_date_or_none(user_input_business_date_str) \n",
    "    except ValueError as e:\n",
    "        print(f\"Unable to parse user input: {e}\")\n",
    "        sys.exit(1)   \n",
    "\n",
    "    try:\n",
    "        business_dates_common_to_both_assets = get_intersection_of_business_dates_for_asset_pair(asset_1, asset_2, cursor)\n",
    "        min_end_date = get_min_start_date_for_asset_pair(business_dates_common_to_both_assets, n_months)\n",
    "        max_end_date = get_end_date_for_asset_pair(user_input_business_date, business_dates_common_to_both_assets)\n",
    "    except ValueError as e:\n",
    "        print(f\"Failure encountered in date math calculations: {e}\")\n",
    "        sys.exit(1)\n",
    "\n",
    "    sorted_business_dates = sorted(business_dates_common_to_both_assets)\n",
    "    end_dates = [end_date for end_date in sorted_business_dates if min_end_date <= end_date <= max_end_date]\n",
    "    correlation_rows = []\n",
    "\n",
    "    # Loop within business_dates_common_to_both_assets, from min_end_date and max_end_date\n",
    "    for end_date in end_dates:\n",
    "        try:\n",
    "            corr = calc_return_correlation(asset_1, asset_2, business_dates_common_to_both_assets, roll_corr_window, cursor, end_date)\n",
    "            row_corr = {\n",
    "                \"asset_1\": asset_1,\n",
    "                \"asset_2\": asset_2,\n",
    "                \"roll_corr_window\": roll_corr_window,\n",
    "                \"end_date\": end_date,\n",
    "                \"correlation\": corr\n",
    "            }\n",
    "            correlation_rows.append(row_corr)\n",
    "        except Exception as e:\n",
    "            print(f\"Skipping date {end_date} due to error: {e}\")\n",
    "            continue\n",
    "    \n",
    "    df_corr = pd.DataFrame(correlation_rows)\n",
    "\n",
    "    return df_corr    "
   ]
  },
  {
   "cell_type": "code",
   "execution_count": 27,
   "id": "99794b7c",
   "metadata": {},
   "outputs": [],
   "source": [
    "import matplotlib.pyplot as plt\n",
    "\n",
    "def plot_rolling_correlation(df_corr: pd.DataFrame):\n",
    "    \"\"\"\n",
    "    Given a DataFrame with columns ['asset_1', 'asset_2', 'roll_corr_window', 'end_date', 'correlation'],\n",
    "    this function creates a time series plot of the rolling correlation.\n",
    "    \"\"\"\n",
    "    if df_corr.empty:\n",
    "        print(\"DataFrame is empty. Nothing to plot.\")\n",
    "        return\n",
    "\n",
    "    # Extract metadata for plot title\n",
    "    asset_1 = df_corr['asset_1'].iloc[0]\n",
    "    asset_2 = df_corr['asset_2'].iloc[0]\n",
    "    roll_corr_window = df_corr['roll_corr_window'].iloc[0]\n",
    "\n",
    "    # Sort by date in case it isn't sorted\n",
    "    df_corr_sorted = df_corr.sort_values(by=\"end_date\")\n",
    "\n",
    "    # Plot\n",
    "    plt.figure(figsize=(12, 6))\n",
    "    plt.plot(df_corr_sorted[\"end_date\"], df_corr_sorted[\"correlation\"], marker=\"o\", linestyle=\"-\")\n",
    "    plt.title(f\"Rolling {roll_corr_window} Correlation between {asset_1} and {asset_2}\")\n",
    "    plt.xlabel(\"End Date\")\n",
    "    plt.ylabel(\"Correlation\")\n",
    "    plt.grid(True)\n",
    "    plt.xticks(rotation=45)\n",
    "    plt.tight_layout()\n",
    "    plt.show()"
   ]
  },
  {
   "cell_type": "code",
   "execution_count": 24,
   "id": "e89966a2",
   "metadata": {},
   "outputs": [
    {
     "name": "stdout",
     "output_type": "stream",
     "text": [
      "User did not provide business_date or provided date not in business_dates of database, so defaulting to max(business_dates_common_to_both_assets): 2025-06-20 00:00:00\n"
     ]
    }
   ],
   "source": [
    "# Test it out now\n",
    "nvda_tsla_correlation = calc_rolling_return_correlation(\n",
    "    asset_1 = \"NVDA\",\n",
    "    asset_2 = \"TSLA\",\n",
    "    roll_corr_window = \"3M\",\n",
    "    cursor = cursor\n",
    ")"
   ]
  },
  {
   "cell_type": "code",
   "execution_count": 28,
   "id": "24920a31",
   "metadata": {},
   "outputs": [
    {
     "data": {
      "image/png": "[encoded data removed]",
      "text/plain": [
       "<Figure size 1200x600 with 1 Axes>"
      ]
     },
     "metadata": {},
     "output_type": "display_data"
    }
   ],
   "source": [
    "# Should I plot this?\n",
    "plot_rolling_correlation(nvda_tsla_correlation)"
   ]
  },
  {
   "cell_type": "code",
   "execution_count": 29,
   "id": "f62120a8",
   "metadata": {},
   "outputs": [],
   "source": [
    "# TODO: Then we need to write this to a SQL table with these 5 columns, keyed on (asset_1, asset_2, roll_corr_window, end_date), mapping to a correlation"
   ]
  },
  {
   "cell_type": "code",
   "execution_count": null,
   "id": "10ea54ab",
   "metadata": {},
   "outputs": [],
   "source": []
  }
 ],
 "metadata": {
  "kernelspec": {
   "display_name": "Python 3",
   "language": "python",
   "name": "python3"
  },
  "language_info": {
   "codemirror_mode": {
    "name": "ipython",
    "version": 3
   },
   "file_extension": ".py",
   "mimetype": "text/x-python",
   "name": "python",
   "nbconvert_exporter": "python",
   "pygments_lexer": "ipython3",
   "version": "3.10.12"
  }
 },
 "nbformat": 4,
 "nbformat_minor": 5
}
