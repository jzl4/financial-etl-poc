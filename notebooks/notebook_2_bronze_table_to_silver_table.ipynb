{
 "cells": [
  {
   "cell_type": "markdown",
   "id": "bc7b90f4",
   "metadata": {},
   "source": [
    "# Notebook 2 - Development work for ETL'ing data from bronze table tbl_api_payloads_yfinance_daily to silver table tbl_prices_daily_staging"
   ]
  },
  {
   "cell_type": "markdown",
   "id": "0bdd4832",
   "metadata": {},
   "source": [
    "### Setup"
   ]
  },
  {
   "cell_type": "code",
   "execution_count": 10,
   "id": "357b39e0",
   "metadata": {},
   "outputs": [],
   "source": [
    "import sys\n",
    "import os\n",
    "from dotenv import load_dotenv\n",
    "\n",
    "# /home/ubuntu/financial-etl-poc/this_folder\n",
    "current_folder = os.path.dirname(os.path.abspath(\"__file__\"))\n",
    "# /home/ubuntu/financial-etl-poc/\n",
    "project_root_folder = os.path.abspath(os.path.join(current_folder, \"..\"))\n",
    "sys.path.append(project_root_folder)\n",
    "# For loading credentials from .env under financial-etl-poc\n",
    "dotenv_path = os.path.join(project_root_folder, \".env\")\n",
    "\n",
    "if project_root_folder not in sys.path:\n",
    "    sys.path.append(project_root_folder)\n",
    "\n",
    "from utils.db_utils import *"
   ]
  },
  {
   "cell_type": "code",
   "execution_count": 11,
   "id": "6de90eaa",
   "metadata": {},
   "outputs": [
    {
     "name": "stdout",
     "output_type": "stream",
     "text": [
      "✅ Connected successfully!\n"
     ]
    }
   ],
   "source": [
    "load_dotenv(dotenv_path)\n",
    "conn, cursor = connect_to_rds()"
   ]
  },
  {
   "cell_type": "markdown",
   "id": "3eb5e7ae",
   "metadata": {},
   "source": [
    "### Exploration on how to recover multiIndex dataframe from json payload, and then flatten"
   ]
  },
  {
   "cell_type": "code",
   "execution_count": 13,
   "id": "d67baa53",
   "metadata": {},
   "outputs": [
    {
     "data": {
      "text/html": [
       "<div>\n",
       "<style scoped>\n",
       "    .dataframe tbody tr th:only-of-type {\n",
       "        vertical-align: middle;\n",
       "    }\n",
       "\n",
       "    .dataframe tbody tr th {\n",
       "        vertical-align: top;\n",
       "    }\n",
       "\n",
       "    .dataframe thead th {\n",
       "        text-align: right;\n",
       "    }\n",
       "</style>\n",
       "<table border=\"1\" class=\"dataframe\">\n",
       "  <thead>\n",
       "    <tr style=\"text-align: right;\">\n",
       "      <th></th>\n",
       "      <th>business_date</th>\n",
       "      <th>ingestion_timestamp</th>\n",
       "      <th>raw_payload</th>\n",
       "    </tr>\n",
       "  </thead>\n",
       "  <tbody>\n",
       "    <tr>\n",
       "      <th>0</th>\n",
       "      <td>2025-04-01</td>\n",
       "      <td>2025-04-17 18:25:52.444728+00:00</td>\n",
       "      <td>{'data': [[557.450012207, 562.9400024414, 553....</td>\n",
       "    </tr>\n",
       "    <tr>\n",
       "      <th>1</th>\n",
       "      <td>2025-04-02</td>\n",
       "      <td>2025-04-17 18:25:52.444728+00:00</td>\n",
       "      <td>{'data': [[555.049987793, 567.4199829102, 554....</td>\n",
       "    </tr>\n",
       "    <tr>\n",
       "      <th>2</th>\n",
       "      <td>2025-04-03</td>\n",
       "      <td>2025-04-17 18:25:52.444728+00:00</td>\n",
       "      <td>{'data': [[545.1099853516, 547.9699707031, 536...</td>\n",
       "    </tr>\n",
       "  </tbody>\n",
       "</table>\n",
       "</div>"
      ],
      "text/plain": [
       "  business_date              ingestion_timestamp  \\\n",
       "0    2025-04-01 2025-04-17 18:25:52.444728+00:00   \n",
       "1    2025-04-02 2025-04-17 18:25:52.444728+00:00   \n",
       "2    2025-04-03 2025-04-17 18:25:52.444728+00:00   \n",
       "\n",
       "                                         raw_payload  \n",
       "0  {'data': [[557.450012207, 562.9400024414, 553....  \n",
       "1  {'data': [[555.049987793, 567.4199829102, 554....  \n",
       "2  {'data': [[545.1099853516, 547.9699707031, 536...  "
      ]
     },
     "execution_count": 13,
     "metadata": {},
     "output_type": "execute_result"
    }
   ],
   "source": [
    "query = \"\"\"\n",
    "SELECT * FROM tbl_api_payloads_yfinance_daily\n",
    "LIMIT 3;\n",
    "\"\"\"\n",
    "\n",
    "df_bronze = sql_query_as_df(query, cursor)\n",
    "df_bronze.head(n = 3)"
   ]
  },
  {
   "cell_type": "code",
   "execution_count": null,
   "id": "c76c86e3",
   "metadata": {},
   "outputs": [
    {
     "data": {
      "text/plain": [
       "{'data': [[557.450012207,\n",
       "   562.9400024414,\n",
       "   553.6799926758,\n",
       "   560.9699707031,\n",
       "   54609600,\n",
       "   288.5400085449,\n",
       "   289.1300048828,\n",
       "   285.9100036621,\n",
       "   287.5700073242,\n",
       "   15923600,\n",
       "   467.299987793,\n",
       "   473.6300048828,\n",
       "   464.4200134277,\n",
       "   472.700012207,\n",
       "   41156200]],\n",
       " 'index': [1743465600000],\n",
       " 'columns': [['SPY', 'Open'],\n",
       "  ['SPY', 'High'],\n",
       "  ['SPY', 'Low'],\n",
       "  ['SPY', 'Close'],\n",
       "  ['SPY', 'Volume'],\n",
       "  ['GLD', 'Open'],\n",
       "  ['GLD', 'High'],\n",
       "  ['GLD', 'Low'],\n",
       "  ['GLD', 'Close'],\n",
       "  ['GLD', 'Volume'],\n",
       "  ['QQQ', 'Open'],\n",
       "  ['QQQ', 'High'],\n",
       "  ['QQQ', 'Low'],\n",
       "  ['QQQ', 'Close'],\n",
       "  ['QQQ', 'Volume']]}"
      ]
     },
     "execution_count": 19,
     "metadata": {},
     "output_type": "execute_result"
    }
   ],
   "source": [
    "# Each raw_payload is a dictionary, with keys: data, index, and columns.  Convert this back into a multi-index pandas dataframe\n",
    "raw_payload = df_bronze[\"raw_payload\"][0]\n",
    "raw_payload"
   ]
  },
  {
   "cell_type": "code",
   "execution_count": null,
   "id": "60c56697",
   "metadata": {},
   "outputs": [
    {
     "data": {
      "text/html": [
       "<div>\n",
       "<style scoped>\n",
       "    .dataframe tbody tr th:only-of-type {\n",
       "        vertical-align: middle;\n",
       "    }\n",
       "\n",
       "    .dataframe tbody tr th {\n",
       "        vertical-align: top;\n",
       "    }\n",
       "\n",
       "    .dataframe thead th {\n",
       "        text-align: right;\n",
       "    }\n",
       "</style>\n",
       "<table border=\"1\" class=\"dataframe\">\n",
       "  <thead>\n",
       "    <tr style=\"text-align: right;\">\n",
       "      <th></th>\n",
       "      <th>ticker</th>\n",
       "      <th>business_date</th>\n",
       "      <th>price_open</th>\n",
       "      <th>price_low</th>\n",
       "      <th>price_high</th>\n",
       "      <th>price_close</th>\n",
       "      <th>volume</th>\n",
       "      <th>created_timestamp</th>\n",
       "    </tr>\n",
       "  </thead>\n",
       "  <tbody>\n",
       "  </tbody>\n",
       "</table>\n",
       "</div>"
      ],
      "text/plain": [
       "Empty DataFrame\n",
       "Columns: [ticker, business_date, price_open, price_low, price_high, price_close, volume, created_timestamp]\n",
       "Index: []"
      ]
     },
     "execution_count": 51,
     "metadata": {},
     "output_type": "execute_result"
    }
   ],
   "source": [
    "# We need to convert that payload from bronze table into the following format for silver table\n",
    "query = \"\"\"\n",
    "SELECT * FROM tbl_yfinance_prices_daily_staging\n",
    "LIMIT 3;\n",
    "\"\"\"\n",
    "\n",
    "df_silver = sql_query_as_df(query, cursor)\n",
    "df_silver.head(n = 3)"
   ]
  },
  {
   "cell_type": "code",
   "execution_count": 27,
   "id": "daed2867",
   "metadata": {},
   "outputs": [
    {
     "data": {
      "text/plain": [
       "[[557.450012207,\n",
       "  562.9400024414,\n",
       "  553.6799926758,\n",
       "  560.9699707031,\n",
       "  54609600,\n",
       "  288.5400085449,\n",
       "  289.1300048828,\n",
       "  285.9100036621,\n",
       "  287.5700073242,\n",
       "  15923600,\n",
       "  467.299987793,\n",
       "  473.6300048828,\n",
       "  464.4200134277,\n",
       "  472.700012207,\n",
       "  41156200]]"
      ]
     },
     "execution_count": 27,
     "metadata": {},
     "output_type": "execute_result"
    }
   ],
   "source": [
    "data = raw_payload[\"data\"]\n",
    "data"
   ]
  },
  {
   "cell_type": "code",
   "execution_count": 28,
   "id": "d6ddf957",
   "metadata": {},
   "outputs": [
    {
     "data": {
      "text/plain": [
       "DatetimeIndex(['2025-04-01'], dtype='datetime64[ns]', freq=None)"
      ]
     },
     "execution_count": 28,
     "metadata": {},
     "output_type": "execute_result"
    }
   ],
   "source": [
    "index = pd.to_datetime(raw_payload[\"index\"], unit = \"ms\")\n",
    "index\n"
   ]
  },
  {
   "cell_type": "code",
   "execution_count": 29,
   "id": "68f4c41e",
   "metadata": {},
   "outputs": [
    {
     "data": {
      "text/plain": [
       "MultiIndex([('SPY',   'Open'),\n",
       "            ('SPY',   'High'),\n",
       "            ('SPY',    'Low'),\n",
       "            ('SPY',  'Close'),\n",
       "            ('SPY', 'Volume'),\n",
       "            ('GLD',   'Open'),\n",
       "            ('GLD',   'High'),\n",
       "            ('GLD',    'Low'),\n",
       "            ('GLD',  'Close'),\n",
       "            ('GLD', 'Volume'),\n",
       "            ('QQQ',   'Open'),\n",
       "            ('QQQ',   'High'),\n",
       "            ('QQQ',    'Low'),\n",
       "            ('QQQ',  'Close'),\n",
       "            ('QQQ', 'Volume')],\n",
       "           names=['Ticker', 'Field'])"
      ]
     },
     "execution_count": 29,
     "metadata": {},
     "output_type": "execute_result"
    }
   ],
   "source": [
    "columns = pd.MultiIndex.from_tuples(raw_payload[\"columns\"], names = [\"Ticker\", \"Field\"])\n",
    "columns"
   ]
  },
  {
   "cell_type": "code",
   "execution_count": 38,
   "id": "9e759c9b",
   "metadata": {},
   "outputs": [
    {
     "data": {
      "text/html": [
       "<div>\n",
       "<style scoped>\n",
       "    .dataframe tbody tr th:only-of-type {\n",
       "        vertical-align: middle;\n",
       "    }\n",
       "\n",
       "    .dataframe tbody tr th {\n",
       "        vertical-align: top;\n",
       "    }\n",
       "\n",
       "    .dataframe thead tr th {\n",
       "        text-align: left;\n",
       "    }\n",
       "</style>\n",
       "<table border=\"1\" class=\"dataframe\">\n",
       "  <thead>\n",
       "    <tr>\n",
       "      <th>Ticker</th>\n",
       "      <th colspan=\"5\" halign=\"left\">SPY</th>\n",
       "      <th colspan=\"5\" halign=\"left\">GLD</th>\n",
       "      <th colspan=\"5\" halign=\"left\">QQQ</th>\n",
       "    </tr>\n",
       "    <tr>\n",
       "      <th>Field</th>\n",
       "      <th>Open</th>\n",
       "      <th>High</th>\n",
       "      <th>Low</th>\n",
       "      <th>Close</th>\n",
       "      <th>Volume</th>\n",
       "      <th>Open</th>\n",
       "      <th>High</th>\n",
       "      <th>Low</th>\n",
       "      <th>Close</th>\n",
       "      <th>Volume</th>\n",
       "      <th>Open</th>\n",
       "      <th>High</th>\n",
       "      <th>Low</th>\n",
       "      <th>Close</th>\n",
       "      <th>Volume</th>\n",
       "    </tr>\n",
       "  </thead>\n",
       "  <tbody>\n",
       "    <tr>\n",
       "      <th>2025-04-01</th>\n",
       "      <td>557.450012</td>\n",
       "      <td>562.940002</td>\n",
       "      <td>553.679993</td>\n",
       "      <td>560.969971</td>\n",
       "      <td>54609600</td>\n",
       "      <td>288.540009</td>\n",
       "      <td>289.130005</td>\n",
       "      <td>285.910004</td>\n",
       "      <td>287.570007</td>\n",
       "      <td>15923600</td>\n",
       "      <td>467.299988</td>\n",
       "      <td>473.630005</td>\n",
       "      <td>464.420013</td>\n",
       "      <td>472.700012</td>\n",
       "      <td>41156200</td>\n",
       "    </tr>\n",
       "  </tbody>\n",
       "</table>\n",
       "</div>"
      ],
      "text/plain": [
       "Ticker             SPY                                                \\\n",
       "Field             Open        High         Low       Close    Volume   \n",
       "2025-04-01  557.450012  562.940002  553.679993  560.969971  54609600   \n",
       "\n",
       "Ticker             GLD                                                \\\n",
       "Field             Open        High         Low       Close    Volume   \n",
       "2025-04-01  288.540009  289.130005  285.910004  287.570007  15923600   \n",
       "\n",
       "Ticker             QQQ                                                \n",
       "Field             Open        High         Low       Close    Volume  \n",
       "2025-04-01  467.299988  473.630005  464.420013  472.700012  41156200  "
      ]
     },
     "execution_count": 38,
     "metadata": {},
     "output_type": "execute_result"
    }
   ],
   "source": [
    "# Create a Pandas dataframe from data, index, and columns\n",
    "df_payload = pd.DataFrame(\n",
    "    data = data,\n",
    "    index = index,\n",
    "    columns = columns\n",
    ")\n",
    "\n",
    "df_payload"
   ]
  },
  {
   "cell_type": "code",
   "execution_count": 46,
   "id": "9cd4b179",
   "metadata": {},
   "outputs": [
    {
     "data": {
      "text/html": [
       "<div>\n",
       "<style scoped>\n",
       "    .dataframe tbody tr th:only-of-type {\n",
       "        vertical-align: middle;\n",
       "    }\n",
       "\n",
       "    .dataframe tbody tr th {\n",
       "        vertical-align: top;\n",
       "    }\n",
       "\n",
       "    .dataframe thead th {\n",
       "        text-align: right;\n",
       "    }\n",
       "</style>\n",
       "<table border=\"1\" class=\"dataframe\">\n",
       "  <thead>\n",
       "    <tr style=\"text-align: right;\">\n",
       "      <th></th>\n",
       "      <th>Field</th>\n",
       "      <th>Open</th>\n",
       "      <th>High</th>\n",
       "      <th>Low</th>\n",
       "      <th>Close</th>\n",
       "      <th>Volume</th>\n",
       "    </tr>\n",
       "    <tr>\n",
       "      <th></th>\n",
       "      <th>Ticker</th>\n",
       "      <th></th>\n",
       "      <th></th>\n",
       "      <th></th>\n",
       "      <th></th>\n",
       "      <th></th>\n",
       "    </tr>\n",
       "  </thead>\n",
       "  <tbody>\n",
       "    <tr>\n",
       "      <th rowspan=\"3\" valign=\"top\">2025-04-01</th>\n",
       "      <th>SPY</th>\n",
       "      <td>557.450012</td>\n",
       "      <td>562.940002</td>\n",
       "      <td>553.679993</td>\n",
       "      <td>560.969971</td>\n",
       "      <td>54609600</td>\n",
       "    </tr>\n",
       "    <tr>\n",
       "      <th>GLD</th>\n",
       "      <td>288.540009</td>\n",
       "      <td>289.130005</td>\n",
       "      <td>285.910004</td>\n",
       "      <td>287.570007</td>\n",
       "      <td>15923600</td>\n",
       "    </tr>\n",
       "    <tr>\n",
       "      <th>QQQ</th>\n",
       "      <td>467.299988</td>\n",
       "      <td>473.630005</td>\n",
       "      <td>464.420013</td>\n",
       "      <td>472.700012</td>\n",
       "      <td>41156200</td>\n",
       "    </tr>\n",
       "  </tbody>\n",
       "</table>\n",
       "</div>"
      ],
      "text/plain": [
       "Field                    Open        High         Low       Close    Volume\n",
       "           Ticker                                                          \n",
       "2025-04-01 SPY     557.450012  562.940002  553.679993  560.969971  54609600\n",
       "           GLD     288.540009  289.130005  285.910004  287.570007  15923600\n",
       "           QQQ     467.299988  473.630005  464.420013  472.700012  41156200"
      ]
     },
     "execution_count": 46,
     "metadata": {},
     "output_type": "execute_result"
    }
   ],
   "source": [
    "df_payload.stack(level = \"Ticker\", future_stack = True)"
   ]
  },
  {
   "cell_type": "code",
   "execution_count": 49,
   "id": "0bcd133d",
   "metadata": {},
   "outputs": [
    {
     "data": {
      "text/html": [
       "<div>\n",
       "<style scoped>\n",
       "    .dataframe tbody tr th:only-of-type {\n",
       "        vertical-align: middle;\n",
       "    }\n",
       "\n",
       "    .dataframe tbody tr th {\n",
       "        vertical-align: top;\n",
       "    }\n",
       "\n",
       "    .dataframe thead th {\n",
       "        text-align: right;\n",
       "    }\n",
       "</style>\n",
       "<table border=\"1\" class=\"dataframe\">\n",
       "  <thead>\n",
       "    <tr style=\"text-align: right;\">\n",
       "      <th>Field</th>\n",
       "      <th>level_0</th>\n",
       "      <th>Ticker</th>\n",
       "      <th>Open</th>\n",
       "      <th>High</th>\n",
       "      <th>Low</th>\n",
       "      <th>Close</th>\n",
       "      <th>Volume</th>\n",
       "    </tr>\n",
       "  </thead>\n",
       "  <tbody>\n",
       "    <tr>\n",
       "      <th>0</th>\n",
       "      <td>2025-04-01</td>\n",
       "      <td>SPY</td>\n",
       "      <td>557.450012</td>\n",
       "      <td>562.940002</td>\n",
       "      <td>553.679993</td>\n",
       "      <td>560.969971</td>\n",
       "      <td>54609600</td>\n",
       "    </tr>\n",
       "    <tr>\n",
       "      <th>1</th>\n",
       "      <td>2025-04-01</td>\n",
       "      <td>GLD</td>\n",
       "      <td>288.540009</td>\n",
       "      <td>289.130005</td>\n",
       "      <td>285.910004</td>\n",
       "      <td>287.570007</td>\n",
       "      <td>15923600</td>\n",
       "    </tr>\n",
       "    <tr>\n",
       "      <th>2</th>\n",
       "      <td>2025-04-01</td>\n",
       "      <td>QQQ</td>\n",
       "      <td>467.299988</td>\n",
       "      <td>473.630005</td>\n",
       "      <td>464.420013</td>\n",
       "      <td>472.700012</td>\n",
       "      <td>41156200</td>\n",
       "    </tr>\n",
       "  </tbody>\n",
       "</table>\n",
       "</div>"
      ],
      "text/plain": [
       "Field    level_0 Ticker        Open        High         Low       Close  \\\n",
       "0     2025-04-01    SPY  557.450012  562.940002  553.679993  560.969971   \n",
       "1     2025-04-01    GLD  288.540009  289.130005  285.910004  287.570007   \n",
       "2     2025-04-01    QQQ  467.299988  473.630005  464.420013  472.700012   \n",
       "\n",
       "Field    Volume  \n",
       "0      54609600  \n",
       "1      15923600  \n",
       "2      41156200  "
      ]
     },
     "execution_count": 49,
     "metadata": {},
     "output_type": "execute_result"
    }
   ],
   "source": [
    "df_flattened = df_payload.stack(level = \"Ticker\", future_stack = True).reset_index()\n",
    "df_flattened"
   ]
  },
  {
   "cell_type": "markdown",
   "id": "b43c52c9",
   "metadata": {},
   "source": [
    "### Formalizing into a function (for n = 1)"
   ]
  },
  {
   "cell_type": "code",
   "execution_count": 80,
   "id": "8853772d",
   "metadata": {},
   "outputs": [
    {
     "data": {
      "text/plain": [
       "dict"
      ]
     },
     "execution_count": 80,
     "metadata": {},
     "output_type": "execute_result"
    }
   ],
   "source": [
    "raw_payload = df_bronze[\"raw_payload\"][0]\n",
    "type(raw_payload)"
   ]
  },
  {
   "cell_type": "code",
   "execution_count": 84,
   "id": "4fbd4cd2",
   "metadata": {},
   "outputs": [
    {
     "name": "stderr",
     "output_type": "stream",
     "text": [
      "/tmp/ipykernel_7846/3006036180.py:8: FutureWarning: The previous implementation of stack is deprecated and will be removed in a future version of pandas. See the What's New notes for pandas 2.1.0 for details. Specify future_stack=True to adopt the new implementation and silence this warning.\n",
      "  df_flattened = df_multiIndex.stack(level = \"Ticker\").reset_index()\n"
     ]
    },
    {
     "data": {
      "text/html": [
       "<div>\n",
       "<style scoped>\n",
       "    .dataframe tbody tr th:only-of-type {\n",
       "        vertical-align: middle;\n",
       "    }\n",
       "\n",
       "    .dataframe tbody tr th {\n",
       "        vertical-align: top;\n",
       "    }\n",
       "\n",
       "    .dataframe thead th {\n",
       "        text-align: right;\n",
       "    }\n",
       "</style>\n",
       "<table border=\"1\" class=\"dataframe\">\n",
       "  <thead>\n",
       "    <tr style=\"text-align: right;\">\n",
       "      <th></th>\n",
       "      <th>business_date</th>\n",
       "      <th>ticker</th>\n",
       "      <th>price_open</th>\n",
       "      <th>price_high</th>\n",
       "      <th>price_low</th>\n",
       "      <th>price_close</th>\n",
       "      <th>volume</th>\n",
       "    </tr>\n",
       "  </thead>\n",
       "  <tbody>\n",
       "    <tr>\n",
       "      <th>0</th>\n",
       "      <td>2025-04-01</td>\n",
       "      <td>GLD</td>\n",
       "      <td>288.540009</td>\n",
       "      <td>289.130005</td>\n",
       "      <td>285.910004</td>\n",
       "      <td>287.570007</td>\n",
       "      <td>15923600</td>\n",
       "    </tr>\n",
       "    <tr>\n",
       "      <th>1</th>\n",
       "      <td>2025-04-01</td>\n",
       "      <td>QQQ</td>\n",
       "      <td>467.299988</td>\n",
       "      <td>473.630005</td>\n",
       "      <td>464.420013</td>\n",
       "      <td>472.700012</td>\n",
       "      <td>41156200</td>\n",
       "    </tr>\n",
       "    <tr>\n",
       "      <th>2</th>\n",
       "      <td>2025-04-01</td>\n",
       "      <td>SPY</td>\n",
       "      <td>557.450012</td>\n",
       "      <td>562.940002</td>\n",
       "      <td>553.679993</td>\n",
       "      <td>560.969971</td>\n",
       "      <td>54609600</td>\n",
       "    </tr>\n",
       "  </tbody>\n",
       "</table>\n",
       "</div>"
      ],
      "text/plain": [
       "  business_date ticker  price_open  price_high   price_low  price_close  \\\n",
       "0    2025-04-01    GLD  288.540009  289.130005  285.910004   287.570007   \n",
       "1    2025-04-01    QQQ  467.299988  473.630005  464.420013   472.700012   \n",
       "2    2025-04-01    SPY  557.450012  562.940002  553.679993   560.969971   \n",
       "\n",
       "     volume  \n",
       "0  15923600  \n",
       "1  41156200  \n",
       "2  54609600  "
      ]
     },
     "execution_count": 84,
     "metadata": {},
     "output_type": "execute_result"
    }
   ],
   "source": [
    "# Test to see if this works for a single row (n = 1)\n",
    "def transform_raw_payload_to_row_keyed_on_ticker_and_business_date(raw_payload: dict) -> pd.DataFrame:\n",
    "\n",
    "    data = raw_payload[\"data\"]\n",
    "    index = pd.to_datetime(raw_payload[\"index\"], unit = \"ms\")\n",
    "    columns = pd.MultiIndex.from_tuples(raw_payload[\"columns\"], names = [\"Ticker\", \"Field\"])\n",
    "    df_multiIndex = pd.DataFrame(data = data, index = index, columns = columns)\n",
    "    df_flattened = df_multiIndex.stack(level = \"Ticker\").reset_index()\n",
    "    df_flattened.columns = [\"business_date\", \"ticker\", \"price_open\", \"price_high\", \"price_low\", \"price_close\", \"volume\"]\n",
    "\n",
    "    return df_flattened\n",
    "\n",
    "raw_payload = df_bronze[\"raw_payload\"][0]\n",
    "df_flattened = transform_raw_payload_to_row_keyed_on_ticker_and_business_date(raw_payload)\n",
    "df_flattened\n"
   ]
  },
  {
   "cell_type": "code",
   "execution_count": 71,
   "id": "5faf8f66",
   "metadata": {},
   "outputs": [
    {
     "data": {
      "text/html": [
       "<div>\n",
       "<style scoped>\n",
       "    .dataframe tbody tr th:only-of-type {\n",
       "        vertical-align: middle;\n",
       "    }\n",
       "\n",
       "    .dataframe tbody tr th {\n",
       "        vertical-align: top;\n",
       "    }\n",
       "\n",
       "    .dataframe thead th {\n",
       "        text-align: right;\n",
       "    }\n",
       "</style>\n",
       "<table border=\"1\" class=\"dataframe\">\n",
       "  <thead>\n",
       "    <tr style=\"text-align: right;\">\n",
       "      <th></th>\n",
       "      <th>ticker</th>\n",
       "      <th>business_date</th>\n",
       "      <th>price_open</th>\n",
       "      <th>price_low</th>\n",
       "      <th>price_high</th>\n",
       "      <th>price_close</th>\n",
       "      <th>volume</th>\n",
       "      <th>created_timestamp</th>\n",
       "    </tr>\n",
       "  </thead>\n",
       "  <tbody>\n",
       "  </tbody>\n",
       "</table>\n",
       "</div>"
      ],
      "text/plain": [
       "Empty DataFrame\n",
       "Columns: [ticker, business_date, price_open, price_low, price_high, price_close, volume, created_timestamp]\n",
       "Index: []"
      ]
     },
     "execution_count": 71,
     "metadata": {},
     "output_type": "execute_result"
    }
   ],
   "source": [
    "# We need to convert that payload from bronze table into the following format for silver table\n",
    "query = \"\"\"\n",
    "SELECT * FROM tbl_yfinance_prices_daily_staging\n",
    "LIMIT 3;\n",
    "\"\"\"\n",
    "\n",
    "df_silver = sql_query_as_df(query, cursor)\n",
    "df_silver.head(n = 3)"
   ]
  },
  {
   "cell_type": "code",
   "execution_count": null,
   "id": "8e1aeafd",
   "metadata": {},
   "outputs": [],
   "source": [
    "def insert_into_yfinance_prices_staging_by_date(\n",
    "    df_api_payloads_yfinance_daily: pd.DataFrame,\n",
    "    cursor: Cursor, \n",
    "    conn: Connection    \n",
    "):\n",
    "    \"\"\"\n",
    "    df_bronze is a DataFrame extracted from tbl_api_payloads_yfinance_daily, with columns:\n",
    "        business_date, ingest_timestamp, raw_payload\n",
    "    Transform the schema of this data and insert into tbl_yfinance_prices_daily_staging, with columms:\n",
    "        ticker, business_date, price_open, price_low, price_high, price_close, volume, created_timestamp\n",
    "    \"\"\"\n",
    "\n",
    "    list_of_df_flattened = []\n",
    "\n",
    "    for _, row in df_api_payloads_yfinance_daily.iterrows():\n",
    "\n",
    "        business_date = row[\"business_date\"]\n",
    "        raw_payload = row[\"raw_payload\"]\n",
    "\n",
    "        df_flattened = transform_raw_payload_to_row_keyed_on_ticker_and_business_date(raw_payload)\n",
    "        list_of_df_flattened.append(df_flattened)\n",
    "    \n",
    "    # TODO: Handle case if list_of_df_flattened is empty\n",
    "\n",
    "    df_yfinance_prices_daily_staging = pd.concat(list_of_df_flattened)\n",
    "\n",
    "    # TODO: Create created_timestamp\n",
    "    # TODO: Re-order columns to match those of tbl_yfinance_prices_daily_staging\n",
    "    # TODO: Cursor execute insertion of df_yfinance_prices_daily_staging into tbl_yfinance_prices_daily_staging\n",
    "    # TODO: Sanity-checks, for example, does the \"business_date\" from df_bronze match the \"index\" (date in ms) from the json_payload column? If not, how to handle?\n",
    "    # TODO: Sanity-check that dimensions of the payload are rectangular, i.e. - same number of tickers per row, same number of fields per row, etc.\n",
    "    conn.commit()"
   ]
  },
  {
   "cell_type": "code",
   "execution_count": null,
   "id": "9b18d7a3",
   "metadata": {},
   "outputs": [],
   "source": []
  }
 ],
 "metadata": {
  "kernelspec": {
   "display_name": "Python 3",
   "language": "python",
   "name": "python3"
  },
  "language_info": {
   "codemirror_mode": {
    "name": "ipython",
    "version": 3
   },
   "file_extension": ".py",
   "mimetype": "text/x-python",
   "name": "python",
   "nbconvert_exporter": "python",
   "pygments_lexer": "ipython3",
   "version": "3.10.12"
  }
 },
 "nbformat": 4,
 "nbformat_minor": 5
}
