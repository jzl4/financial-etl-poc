{
 "cells": [
  {
   "cell_type": "markdown",
   "id": "918f6692",
   "metadata": {},
   "source": [
    "### Test trivial case, to see if I can access Tiingo's Restful API"
   ]
  },
  {
   "cell_type": "markdown",
   "id": "dc2b381c",
   "metadata": {},
   "source": [
    "### Tiingo Documentation:\n",
    "- Data rate limits for free tier: https://www.tiingo.com/about/pricing\n",
    "- How to get end-of-day prices: https://www.tiingo.com/documentation/end-of-day"
   ]
  },
  {
   "cell_type": "code",
   "execution_count": 1,
   "id": "1544a2e9",
   "metadata": {},
   "outputs": [
    {
     "data": {
      "text/plain": [
       "True"
      ]
     },
     "execution_count": 1,
     "metadata": {},
     "output_type": "execute_result"
    }
   ],
   "source": [
    "# Standard library imports\n",
    "import sys\n",
    "import os\n",
    "\n",
    "import pandas as pd\n",
    "import numpy as np\n",
    "\n",
    "from datetime import datetime, date\n",
    "from typing import List, Set, Dict, Any\n",
    "\n",
    "from dotenv import load_dotenv\n",
    "import requests\n",
    "\n",
    "# /home/ubuntu/financial-etl-poc/this_folder\n",
    "current_folder = os.getcwd()\n",
    "\n",
    "# /home/ubuntu/financial-etl-poc/\n",
    "project_root_folder = os.path.abspath(os.path.join(current_folder, \"..\"))\n",
    "sys.path.append(project_root_folder)\n",
    "\n",
    "# For loading credentials from .env under financial-etl-poc\n",
    "dotenv_path = os.path.join(project_root_folder, \".env\")\n",
    "load_dotenv(dotenv_path)"
   ]
  },
  {
   "cell_type": "code",
   "execution_count": 2,
   "id": "4d2e184d",
   "metadata": {},
   "outputs": [
    {
     "data": {
      "text/plain": [
       "{'message': 'You successfully sent a request'}"
      ]
     },
     "execution_count": 2,
     "metadata": {},
     "output_type": "execute_result"
    }
   ],
   "source": [
    "tiingo_api_token = os.getenv(\"tiingo_api_token\")\n",
    "tiingo_url = f\"https://api.tiingo.com/api/test?token={tiingo_api_token}\"\n",
    "\n",
    "headers = {'Content-Type': 'application/json'}\n",
    "requestResponse = requests.get(tiingo_url, headers = headers)\n",
    "requestResponse.json()"
   ]
  },
  {
   "cell_type": "markdown",
   "id": "a0c52ced",
   "metadata": {},
   "source": [
    "### Test non-trivial case for one stock and a few dates"
   ]
  },
  {
   "cell_type": "code",
   "execution_count": 3,
   "id": "d3033f2b",
   "metadata": {},
   "outputs": [],
   "source": [
    "# Test to see how Tiingo handles dividends and stock splits\n",
    "# Nvidia was $120.89 on 2024-06-07 after adjustment. This was before a 10:1 stock split and a few dividend payments\n",
    "\n",
    "start_date = \"2024-06-07\"\n",
    "end_date = \"2024-06-07\"\n",
    "ticker = \"NVDA\"\n",
    "freq = \"daily\"\n",
    "format = \"json\"\n",
    "\n",
    "url = f\"https://api.tiingo.com/tiingo/daily/{ticker}/prices?startDate={start_date}&endDate={end_date}&resampleFreq={freq}&format={format}&token={tiingo_api_token}\"\n",
    "\n",
    "params = {\n",
    "    \"startDate\": start_date,\n",
    "    \"endDate\": end_date,\n",
    "    \"format\": \"csv\",\n",
    "    \"resampleFreq\": \"daily\"\n",
    "}\n",
    "\n",
    "headers = {'Content-Type': 'application/json'}\n",
    "\n",
    "response = requests.get(url, headers=headers)"
   ]
  },
  {
   "cell_type": "code",
   "execution_count": 4,
   "id": "e14f8923",
   "metadata": {},
   "outputs": [
    {
     "data": {
      "text/plain": [
       "[{'date': '2024-06-07T00:00:00.000Z',\n",
       "  'close': 1208.88,\n",
       "  'high': 1216.9171,\n",
       "  'low': 1180.22,\n",
       "  'open': 1197.7,\n",
       "  'volume': 41238580,\n",
       "  'adjClose': 120.849084499,\n",
       "  'adjHigh': 121.6525357738,\n",
       "  'adjLow': 117.9840071036,\n",
       "  'adjOpen': 119.7314443985,\n",
       "  'adjVolume': 412385800,\n",
       "  'divCash': 0.0,\n",
       "  'splitFactor': 1.0}]"
      ]
     },
     "execution_count": 4,
     "metadata": {},
     "output_type": "execute_result"
    }
   ],
   "source": [
    "# Returns a list of dictionaries\n",
    "response.json()"
   ]
  },
  {
   "cell_type": "code",
   "execution_count": 5,
   "id": "e2cc5e3f",
   "metadata": {},
   "outputs": [],
   "source": [
    "# Cleaner version\n",
    "start_date = \"2024-06-07\"\n",
    "end_date = \"2024-06-12\"\n",
    "ticker = \"NVDA\"\n",
    "\n",
    "url = f\"https://api.tiingo.com/tiingo/daily/{ticker}/prices\"\n",
    "\n",
    "params = {\n",
    "    \"startDate\": start_date,\n",
    "    \"endDate\": end_date,\n",
    "    \"resampleFreq\": \"daily\",\n",
    "    \"format\": \"json\",\n",
    "    \"token\": tiingo_api_token\n",
    "}\n",
    "\n",
    "headers = {'Content-Type': 'application/json'}\n",
    "\n",
    "response = requests.get(url, headers=headers, params=params)\n",
    "response.raise_for_status()  # always good for catching HTTP errors"
   ]
  },
  {
   "cell_type": "code",
   "execution_count": 6,
   "id": "fd8b8f86",
   "metadata": {},
   "outputs": [
    {
     "data": {
      "text/plain": [
       "[{'date': '2024-06-07T00:00:00.000Z',\n",
       "  'close': 1208.88,\n",
       "  'high': 1216.9171,\n",
       "  'low': 1180.22,\n",
       "  'open': 1197.7,\n",
       "  'volume': 41238580,\n",
       "  'adjClose': 120.849084499,\n",
       "  'adjHigh': 121.6525357738,\n",
       "  'adjLow': 117.9840071036,\n",
       "  'adjOpen': 119.7314443985,\n",
       "  'adjVolume': 412385800,\n",
       "  'divCash': 0.0,\n",
       "  'splitFactor': 1.0},\n",
       " {'date': '2024-06-10T00:00:00.000Z',\n",
       "  'close': 121.79,\n",
       "  'high': 123.1,\n",
       "  'low': 117.01,\n",
       "  'open': 120.37,\n",
       "  'volume': 308134791,\n",
       "  'adjClose': 121.7507941329,\n",
       "  'adjHigh': 123.060372426,\n",
       "  'adjLow': 116.9723328803,\n",
       "  'adjOpen': 120.3312512503,\n",
       "  'adjVolume': 308134791,\n",
       "  'divCash': 0.0,\n",
       "  'splitFactor': 10.0}]"
      ]
     },
     "execution_count": 6,
     "metadata": {},
     "output_type": "execute_result"
    }
   ],
   "source": [
    "# Returns a list of dictionaries\n",
    "response.json()[0:2]"
   ]
  },
  {
   "cell_type": "markdown",
   "id": "085f8f5d",
   "metadata": {},
   "source": [
    "### Function to pull closing price data for a single stock on a single date"
   ]
  },
  {
   "cell_type": "code",
   "execution_count": 7,
   "id": "a6f3954d",
   "metadata": {},
   "outputs": [],
   "source": [
    "def download_tiingo_closing_prices(business_date: date, ticker: str) -> dict:\n",
    "    \"\"\"\n",
    "    Downloads closing prices from Tiingo for one date and one ticker, and returns result as dict\n",
    "    \"\"\"\n",
    "\n",
    "    url = f\"https://api.tiingo.com/tiingo/daily/{ticker}/prices\"\n",
    "\n",
    "    headers = {'Content-Type': 'application/json'}\n",
    "\n",
    "    params = {\n",
    "        \"startDate\": business_date,\n",
    "        \"endDate\": business_date,\n",
    "        \"resampleFreq\": \"daily\",\n",
    "        \"format\": \"json\",\n",
    "        \"token\": tiingo_api_token\n",
    "    }\n",
    "\n",
    "    response = requests.get(url, headers=headers, params=params)\n",
    "    response.raise_for_status()  # always good for catching HTTP errors\n",
    "    return response.json()[0]"
   ]
  },
  {
   "cell_type": "code",
   "execution_count": 8,
   "id": "82e411be",
   "metadata": {},
   "outputs": [
    {
     "data": {
      "text/plain": [
       "{'date': '2025-05-20T00:00:00.000Z',\n",
       " 'close': 206.86,\n",
       " 'high': 208.47,\n",
       " 'low': 205.03,\n",
       " 'open': 207.67,\n",
       " 'volume': 42496635,\n",
       " 'adjClose': 206.86,\n",
       " 'adjHigh': 208.47,\n",
       " 'adjLow': 205.03,\n",
       " 'adjOpen': 207.67,\n",
       " 'adjVolume': 42496635,\n",
       " 'divCash': 0.0,\n",
       " 'splitFactor': 1.0}"
      ]
     },
     "execution_count": 8,
     "metadata": {},
     "output_type": "execute_result"
    }
   ],
   "source": [
    "# Test\n",
    "business_date = datetime(year = 2025, month = 5, day = 20)\n",
    "ticker =  \"AAPL\"\n",
    "dict_one_date_and_one_ticker = download_tiingo_closing_prices(business_date, ticker)\n",
    "dict_one_date_and_one_ticker"
   ]
  },
  {
   "cell_type": "markdown",
   "id": "c4a99b6f",
   "metadata": {},
   "source": [
    "### Function to pull closing price data for multiple stocks over multiple dates"
   ]
  },
  {
   "cell_type": "code",
   "execution_count": 9,
   "id": "42f8d04b",
   "metadata": {},
   "outputs": [],
   "source": [
    "def download_tiingo_closing_prices(start_date: date, end_date: date, tickers: List[str]) -> pd.DataFrame:\n",
    "    \"\"\"\n",
    "    Downloads closing prices from Tiingo between start_date and end_date for list of tickers, and returns result as DataFrame\n",
    "    \"\"\"\n",
    "\n",
    "    dfs = []\n",
    "\n",
    "    for ticker in tickers:\n",
    "        url = f\"https://api.tiingo.com/tiingo/daily/{ticker}/prices\"\n",
    "\n",
    "        headers = {'Content-Type': 'application/json'}\n",
    "\n",
    "        params = {\n",
    "            \"startDate\": start_date,\n",
    "            \"endDate\": end_date,\n",
    "            \"resampleFreq\": \"daily\",\n",
    "            \"format\": \"json\",\n",
    "            \"token\": tiingo_api_token\n",
    "        }\n",
    "\n",
    "        response = requests.get(url, headers=headers, params=params)\n",
    "        response.raise_for_status()  # always good for catching HTTP errors\n",
    "\n",
    "        # response.json is a list of dict, where each dict is price/volume/ratio data for one business_date\n",
    "        df_payloads_for_one_ticker_between_start_end_dates = pd.DataFrame(response.json())\n",
    "        df_payloads_for_one_ticker_between_start_end_dates[\"ticker\"] = ticker\n",
    "\n",
    "        dfs.append(df_payloads_for_one_ticker_between_start_end_dates)\n",
    "    \n",
    "    df = pd.concat(dfs, axis = 0)\n",
    "\n",
    "    return df\n",
    "    # output dataframe should have columns (ticker, business_date, raw_json_payload/dict)"
   ]
  },
  {
   "cell_type": "code",
   "execution_count": 10,
   "id": "2c23479f",
   "metadata": {},
   "outputs": [
    {
     "data": {
      "text/html": [
       "<div>\n",
       "<style scoped>\n",
       "    .dataframe tbody tr th:only-of-type {\n",
       "        vertical-align: middle;\n",
       "    }\n",
       "\n",
       "    .dataframe tbody tr th {\n",
       "        vertical-align: top;\n",
       "    }\n",
       "\n",
       "    .dataframe thead th {\n",
       "        text-align: right;\n",
       "    }\n",
       "</style>\n",
       "<table border=\"1\" class=\"dataframe\">\n",
       "  <thead>\n",
       "    <tr style=\"text-align: right;\">\n",
       "      <th></th>\n",
       "      <th>date</th>\n",
       "      <th>close</th>\n",
       "      <th>high</th>\n",
       "      <th>low</th>\n",
       "      <th>open</th>\n",
       "      <th>volume</th>\n",
       "      <th>adjClose</th>\n",
       "      <th>adjHigh</th>\n",
       "      <th>adjLow</th>\n",
       "      <th>adjOpen</th>\n",
       "      <th>adjVolume</th>\n",
       "      <th>divCash</th>\n",
       "      <th>splitFactor</th>\n",
       "      <th>ticker</th>\n",
       "    </tr>\n",
       "  </thead>\n",
       "  <tbody>\n",
       "    <tr>\n",
       "      <th>0</th>\n",
       "      <td>2025-05-16T00:00:00.000Z</td>\n",
       "      <td>211.26</td>\n",
       "      <td>212.57</td>\n",
       "      <td>209.77</td>\n",
       "      <td>212.36</td>\n",
       "      <td>54737850</td>\n",
       "      <td>211.26</td>\n",
       "      <td>212.57</td>\n",
       "      <td>209.77</td>\n",
       "      <td>212.36</td>\n",
       "      <td>54737850</td>\n",
       "      <td>0.0</td>\n",
       "      <td>1.0</td>\n",
       "      <td>AAPL</td>\n",
       "    </tr>\n",
       "    <tr>\n",
       "      <th>1</th>\n",
       "      <td>2025-05-19T00:00:00.000Z</td>\n",
       "      <td>208.78</td>\n",
       "      <td>209.48</td>\n",
       "      <td>204.26</td>\n",
       "      <td>207.91</td>\n",
       "      <td>46140527</td>\n",
       "      <td>208.78</td>\n",
       "      <td>209.48</td>\n",
       "      <td>204.26</td>\n",
       "      <td>207.91</td>\n",
       "      <td>46140527</td>\n",
       "      <td>0.0</td>\n",
       "      <td>1.0</td>\n",
       "      <td>AAPL</td>\n",
       "    </tr>\n",
       "    <tr>\n",
       "      <th>0</th>\n",
       "      <td>2025-05-16T00:00:00.000Z</td>\n",
       "      <td>594.20</td>\n",
       "      <td>594.50</td>\n",
       "      <td>589.28</td>\n",
       "      <td>591.25</td>\n",
       "      <td>76052101</td>\n",
       "      <td>594.20</td>\n",
       "      <td>594.50</td>\n",
       "      <td>589.28</td>\n",
       "      <td>591.25</td>\n",
       "      <td>76052101</td>\n",
       "      <td>0.0</td>\n",
       "      <td>1.0</td>\n",
       "      <td>SPY</td>\n",
       "    </tr>\n",
       "    <tr>\n",
       "      <th>1</th>\n",
       "      <td>2025-05-19T00:00:00.000Z</td>\n",
       "      <td>594.85</td>\n",
       "      <td>595.54</td>\n",
       "      <td>588.10</td>\n",
       "      <td>588.10</td>\n",
       "      <td>68168509</td>\n",
       "      <td>594.85</td>\n",
       "      <td>595.54</td>\n",
       "      <td>588.10</td>\n",
       "      <td>588.10</td>\n",
       "      <td>68168509</td>\n",
       "      <td>0.0</td>\n",
       "      <td>1.0</td>\n",
       "      <td>SPY</td>\n",
       "    </tr>\n",
       "  </tbody>\n",
       "</table>\n",
       "</div>"
      ],
      "text/plain": [
       "                       date   close    high     low    open    volume  \\\n",
       "0  2025-05-16T00:00:00.000Z  211.26  212.57  209.77  212.36  54737850   \n",
       "1  2025-05-19T00:00:00.000Z  208.78  209.48  204.26  207.91  46140527   \n",
       "0  2025-05-16T00:00:00.000Z  594.20  594.50  589.28  591.25  76052101   \n",
       "1  2025-05-19T00:00:00.000Z  594.85  595.54  588.10  588.10  68168509   \n",
       "\n",
       "   adjClose  adjHigh  adjLow  adjOpen  adjVolume  divCash  splitFactor ticker  \n",
       "0    211.26   212.57  209.77   212.36   54737850      0.0          1.0   AAPL  \n",
       "1    208.78   209.48  204.26   207.91   46140527      0.0          1.0   AAPL  \n",
       "0    594.20   594.50  589.28   591.25   76052101      0.0          1.0    SPY  \n",
       "1    594.85   595.54  588.10   588.10   68168509      0.0          1.0    SPY  "
      ]
     },
     "execution_count": 10,
     "metadata": {},
     "output_type": "execute_result"
    }
   ],
   "source": [
    "# Test\n",
    "start_date = datetime(year = 2025, month = 5, day = 16)\n",
    "end_date = datetime(year = 2025, month = 5, day = 19)\n",
    "tickers =  [\"AAPL\", \"SPY\"]\n",
    "download_tiingo_closing_prices(start_date, end_date, tickers)"
   ]
  },
  {
   "cell_type": "code",
   "execution_count": null,
   "id": "3efbf3d2",
   "metadata": {},
   "outputs": [
    {
     "ename": "HTTPError",
     "evalue": "404 Client Error: Not Found for url: https://api.tiingo.com/tiingo/daily/BLAHBLAH/prices?startDate=2025-05-16+00%3A00%3A00&endDate=2025-05-19+00%3A00%3A00&resampleFreq=daily&format=json&token=8f6adae2ff90b64814317d38d67878446f95e902",
     "output_type": "error",
     "traceback": [
      "\u001b[0;31m---------------------------------------------------------------------------\u001b[0m",
      "\u001b[0;31mHTTPError\u001b[0m                                 Traceback (most recent call last)",
      "Cell \u001b[0;32mIn[11], line 5\u001b[0m\n\u001b[1;32m      3\u001b[0m end_date \u001b[38;5;241m=\u001b[39m datetime(year \u001b[38;5;241m=\u001b[39m \u001b[38;5;241m2025\u001b[39m, month \u001b[38;5;241m=\u001b[39m \u001b[38;5;241m5\u001b[39m, day \u001b[38;5;241m=\u001b[39m \u001b[38;5;241m19\u001b[39m)\n\u001b[1;32m      4\u001b[0m tickers \u001b[38;5;241m=\u001b[39m  [\u001b[38;5;124m\"\u001b[39m\u001b[38;5;124mBLAHBLAH\u001b[39m\u001b[38;5;124m\"\u001b[39m]\n\u001b[0;32m----> 5\u001b[0m \u001b[43mdownload_tiingo_closing_prices\u001b[49m\u001b[43m(\u001b[49m\u001b[43mstart_date\u001b[49m\u001b[43m,\u001b[49m\u001b[43m \u001b[49m\u001b[43mend_date\u001b[49m\u001b[43m,\u001b[49m\u001b[43m \u001b[49m\u001b[43mtickers\u001b[49m\u001b[43m)\u001b[49m\n",
      "Cell \u001b[0;32mIn[9], line 22\u001b[0m, in \u001b[0;36mdownload_tiingo_closing_prices\u001b[0;34m(start_date, end_date, tickers)\u001b[0m\n\u001b[1;32m     13\u001b[0m params \u001b[38;5;241m=\u001b[39m {\n\u001b[1;32m     14\u001b[0m     \u001b[38;5;124m\"\u001b[39m\u001b[38;5;124mstartDate\u001b[39m\u001b[38;5;124m\"\u001b[39m: start_date,\n\u001b[1;32m     15\u001b[0m     \u001b[38;5;124m\"\u001b[39m\u001b[38;5;124mendDate\u001b[39m\u001b[38;5;124m\"\u001b[39m: end_date,\n\u001b[0;32m   (...)\u001b[0m\n\u001b[1;32m     18\u001b[0m     \u001b[38;5;124m\"\u001b[39m\u001b[38;5;124mtoken\u001b[39m\u001b[38;5;124m\"\u001b[39m: tiingo_api_token\n\u001b[1;32m     19\u001b[0m }\n\u001b[1;32m     21\u001b[0m response \u001b[38;5;241m=\u001b[39m requests\u001b[38;5;241m.\u001b[39mget(url, headers\u001b[38;5;241m=\u001b[39mheaders, params\u001b[38;5;241m=\u001b[39mparams)\n\u001b[0;32m---> 22\u001b[0m \u001b[43mresponse\u001b[49m\u001b[38;5;241;43m.\u001b[39;49m\u001b[43mraise_for_status\u001b[49m\u001b[43m(\u001b[49m\u001b[43m)\u001b[49m  \u001b[38;5;66;03m# always good for catching HTTP errors\u001b[39;00m\n\u001b[1;32m     24\u001b[0m \u001b[38;5;66;03m# response.json is a list of dict, where each dict is price/volume/ratio data for one business_date\u001b[39;00m\n\u001b[1;32m     25\u001b[0m df_payloads_for_one_ticker_between_start_end_dates \u001b[38;5;241m=\u001b[39m pd\u001b[38;5;241m.\u001b[39mDataFrame(response\u001b[38;5;241m.\u001b[39mjson())\n",
      "File \u001b[0;32m~/.local/lib/python3.10/site-packages/requests/models.py:1024\u001b[0m, in \u001b[0;36mResponse.raise_for_status\u001b[0;34m(self)\u001b[0m\n\u001b[1;32m   1019\u001b[0m     http_error_msg \u001b[38;5;241m=\u001b[39m (\n\u001b[1;32m   1020\u001b[0m         \u001b[38;5;124mf\u001b[39m\u001b[38;5;124m\"\u001b[39m\u001b[38;5;132;01m{\u001b[39;00m\u001b[38;5;28mself\u001b[39m\u001b[38;5;241m.\u001b[39mstatus_code\u001b[38;5;132;01m}\u001b[39;00m\u001b[38;5;124m Server Error: \u001b[39m\u001b[38;5;132;01m{\u001b[39;00mreason\u001b[38;5;132;01m}\u001b[39;00m\u001b[38;5;124m for url: \u001b[39m\u001b[38;5;132;01m{\u001b[39;00m\u001b[38;5;28mself\u001b[39m\u001b[38;5;241m.\u001b[39murl\u001b[38;5;132;01m}\u001b[39;00m\u001b[38;5;124m\"\u001b[39m\n\u001b[1;32m   1021\u001b[0m     )\n\u001b[1;32m   1023\u001b[0m \u001b[38;5;28;01mif\u001b[39;00m http_error_msg:\n\u001b[0;32m-> 1024\u001b[0m     \u001b[38;5;28;01mraise\u001b[39;00m HTTPError(http_error_msg, response\u001b[38;5;241m=\u001b[39m\u001b[38;5;28mself\u001b[39m)\n",
      "\u001b[0;31mHTTPError\u001b[0m: 404 Client Error: Not Found for url: https://api.tiingo.com/tiingo/daily/BLAHBLAH/prices?startDate=2025-05-16+00%3A00%3A00&endDate=2025-05-19+00%3A00%3A00&resampleFreq=daily&format=json&token=8f6adae2ff90b64814317d38d67878446f95e902"
     ]
    }
   ],
   "source": [
    "# Test for handling exceptions, i.e. - ticker is invalid\n",
    "# response.raise_for_status() raises \"HTTPError: 4040 Client Error\"\n",
    "start_date = datetime(year = 2025, month = 5, day = 16)\n",
    "end_date = datetime(year = 2025, month = 5, day = 19)\n",
    "tickers =  [\"BLAHBLAH\"]\n",
    "download_tiingo_closing_prices(start_date, end_date, tickers)"
   ]
  },
  {
   "cell_type": "code",
   "execution_count": null,
   "id": "b1234fae",
   "metadata": {},
   "outputs": [],
   "source": []
  }
 ],
 "metadata": {
  "kernelspec": {
   "display_name": "Python 3",
   "language": "python",
   "name": "python3"
  },
  "language_info": {
   "codemirror_mode": {
    "name": "ipython",
    "version": 3
   },
   "file_extension": ".py",
   "mimetype": "text/x-python",
   "name": "python",
   "nbconvert_exporter": "python",
   "pygments_lexer": "ipython3",
   "version": "3.10.12"
  }
 },
 "nbformat": 4,
 "nbformat_minor": 5
}
