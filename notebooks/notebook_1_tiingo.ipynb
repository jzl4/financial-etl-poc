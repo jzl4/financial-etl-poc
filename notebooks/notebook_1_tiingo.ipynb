{
 "cells": [
  {
   "cell_type": "markdown",
   "id": "918f6692",
   "metadata": {},
   "source": [
    "### Test trivial case, to see if I can access Tiingo's Restful API"
   ]
  },
  {
   "cell_type": "markdown",
   "id": "dc2b381c",
   "metadata": {},
   "source": [
    "### Tiingo Documentation:\n",
    "- Data rate limits for free tier: https://www.tiingo.com/about/pricing\n",
    "- How to get end-of-day prices: https://www.tiingo.com/documentation/end-of-day"
   ]
  },
  {
   "cell_type": "code",
   "execution_count": 1,
   "id": "1544a2e9",
   "metadata": {},
   "outputs": [
    {
     "data": {
      "text/plain": [
       "True"
      ]
     },
     "execution_count": 1,
     "metadata": {},
     "output_type": "execute_result"
    }
   ],
   "source": [
    "# Standard library imports\n",
    "import sys\n",
    "import os\n",
    "\n",
    "from dotenv import load_dotenv\n",
    "import requests\n",
    "\n",
    "# /home/ubuntu/financial-etl-poc/this_folder\n",
    "current_folder = os.getcwd()\n",
    "\n",
    "# /home/ubuntu/financial-etl-poc/\n",
    "project_root_folder = os.path.abspath(os.path.join(current_folder, \"..\"))\n",
    "sys.path.append(project_root_folder)\n",
    "\n",
    "# For loading credentials from .env under financial-etl-poc\n",
    "dotenv_path = os.path.join(project_root_folder, \".env\")\n",
    "load_dotenv(dotenv_path)"
   ]
  },
  {
   "cell_type": "code",
   "execution_count": null,
   "id": "4d2e184d",
   "metadata": {},
   "outputs": [
    {
     "data": {
      "text/plain": [
       "{'message': 'You successfully sent a request'}"
      ]
     },
     "execution_count": 2,
     "metadata": {},
     "output_type": "execute_result"
    }
   ],
   "source": [
    "tiingo_api_token = os.getenv(\"tiingo_api_token\")\n",
    "tiingo_url = f\"https://api.tiingo.com/api/test?token={tiingo_api_token}\"\n",
    "\n",
    "headers = {'Content-Type': 'application/json'}\n",
    "requestResponse = requests.get(tiingo_url, headers = headers)\n",
    "requestResponse.json()"
   ]
  },
  {
   "cell_type": "markdown",
   "id": "a0c52ced",
   "metadata": {},
   "source": [
    "### Test non-trivial case for one stock and a few dates"
   ]
  },
  {
   "cell_type": "code",
   "execution_count": null,
   "id": "d3033f2b",
   "metadata": {},
   "outputs": [
    {
     "data": {
      "text/plain": [
       "[{'date': '2024-06-07T00:00:00.000Z',\n",
       "  'close': 1208.88,\n",
       "  'high': 1216.9171,\n",
       "  'low': 1180.22,\n",
       "  'open': 1197.7,\n",
       "  'volume': 41238580,\n",
       "  'adjClose': 120.849084499,\n",
       "  'adjHigh': 121.6525357738,\n",
       "  'adjLow': 117.9840071036,\n",
       "  'adjOpen': 119.7314443985,\n",
       "  'adjVolume': 412385800,\n",
       "  'divCash': 0.0,\n",
       "  'splitFactor': 1.0}]"
      ]
     },
     "execution_count": 9,
     "metadata": {},
     "output_type": "execute_result"
    }
   ],
   "source": [
    "# Test to see how Tiingo handles dividends and stock splits\n",
    "# Nvidia was $120.89 on 2024-06-07 after adjustment. This was before a 10:1 stock split and a few dividend payments\n",
    "\n",
    "start_date = \"2024-06-07\"\n",
    "end_date = \"2024-06-07\"\n",
    "ticker = \"NVDA\"\n",
    "freq = \"daily\"\n",
    "format = \"json\"\n",
    "\n",
    "url = f\"https://api.tiingo.com/tiingo/daily/{ticker}/prices?startDate={start_date}&endDate={end_date}&resampleFreq={freq}&format={format}&token={tiingo_api_token}\"\n",
    "\n",
    "params = {\n",
    "    \"startDate\": start_date,\n",
    "    \"endDate\": end_date,\n",
    "    \"format\": \"csv\",\n",
    "    \"resampleFreq\": \"daily\"\n",
    "}\n",
    "\n",
    "headers = {'Content-Type': 'application/json'}\n",
    "\n",
    "response = requests.get(url, headers=headers)\n",
    "response.json()"
   ]
  },
  {
   "cell_type": "code",
   "execution_count": 13,
   "id": "e2cc5e3f",
   "metadata": {},
   "outputs": [
    {
     "data": {
      "text/plain": [
       "[{'date': '2024-06-07T00:00:00.000Z',\n",
       "  'close': 1208.88,\n",
       "  'high': 1216.9171,\n",
       "  'low': 1180.22,\n",
       "  'open': 1197.7,\n",
       "  'volume': 41238580,\n",
       "  'adjClose': 120.849084499,\n",
       "  'adjHigh': 121.6525357738,\n",
       "  'adjLow': 117.9840071036,\n",
       "  'adjOpen': 119.7314443985,\n",
       "  'adjVolume': 412385800,\n",
       "  'divCash': 0.0,\n",
       "  'splitFactor': 1.0},\n",
       " {'date': '2024-06-10T00:00:00.000Z',\n",
       "  'close': 121.79,\n",
       "  'high': 123.1,\n",
       "  'low': 117.01,\n",
       "  'open': 120.37,\n",
       "  'volume': 308134791,\n",
       "  'adjClose': 121.7507941329,\n",
       "  'adjHigh': 123.060372426,\n",
       "  'adjLow': 116.9723328803,\n",
       "  'adjOpen': 120.3312512503,\n",
       "  'adjVolume': 308134791,\n",
       "  'divCash': 0.0,\n",
       "  'splitFactor': 10.0},\n",
       " {'date': '2024-06-11T00:00:00.000Z',\n",
       "  'close': 120.91,\n",
       "  'high': 122.87,\n",
       "  'low': 118.74,\n",
       "  'open': 121.77,\n",
       "  'volume': 222551158,\n",
       "  'adjClose': 120.8810741978,\n",
       "  'adjHigh': 122.8406052988,\n",
       "  'adjLow': 118.7115933359,\n",
       "  'adjOpen': 121.7408684564,\n",
       "  'adjVolume': 222551158,\n",
       "  'divCash': 0.01,\n",
       "  'splitFactor': 1.0},\n",
       " {'date': '2024-06-12T00:00:00.000Z',\n",
       "  'close': 125.2,\n",
       "  'high': 126.88,\n",
       "  'low': 122.57,\n",
       "  'open': 123.06,\n",
       "  'volume': 299595001,\n",
       "  'adjClose': 125.1700478833,\n",
       "  'adjHigh': 126.8496459699,\n",
       "  'adjLow': 122.5406770691,\n",
       "  'adjOpen': 123.0305598444,\n",
       "  'adjVolume': 299595001,\n",
       "  'divCash': 0.0,\n",
       "  'splitFactor': 1.0}]"
      ]
     },
     "execution_count": 13,
     "metadata": {},
     "output_type": "execute_result"
    }
   ],
   "source": [
    "# Cleaner version\n",
    "start_date = \"2024-06-07\"\n",
    "end_date = \"2024-06-12\"\n",
    "ticker = \"NVDA\"\n",
    "\n",
    "url = f\"https://api.tiingo.com/tiingo/daily/{ticker}/prices\"\n",
    "\n",
    "params = {\n",
    "    \"startDate\": start_date,\n",
    "    \"endDate\": end_date,\n",
    "    \"resampleFreq\": \"daily\",\n",
    "    \"format\": \"json\",\n",
    "    \"token\": tiingo_api_token\n",
    "}\n",
    "\n",
    "headers = {'Content-Type': 'application/json'}\n",
    "\n",
    "response = requests.get(url, headers=headers, params=params)\n",
    "response.raise_for_status()  # always good for catching HTTP errors\n",
    "response.json()"
   ]
  },
  {
   "cell_type": "code",
   "execution_count": null,
   "id": "fd8b8f86",
   "metadata": {},
   "outputs": [],
   "source": []
  }
 ],
 "metadata": {
  "kernelspec": {
   "display_name": "Python 3",
   "language": "python",
   "name": "python3"
  },
  "language_info": {
   "codemirror_mode": {
    "name": "ipython",
    "version": 3
   },
   "file_extension": ".py",
   "mimetype": "text/x-python",
   "name": "python",
   "nbconvert_exporter": "python",
   "pygments_lexer": "ipython3",
   "version": "3.10.12"
  }
 },
 "nbformat": 4,
 "nbformat_minor": 5
}
