{
 "cells": [
  {
   "cell_type": "markdown",
   "id": "697397d7-d3f5-4af8-a2b8-623f9e416057",
   "metadata": {},
   "source": [
    "# This notebook is a POC for an ETL pipeline, where I load prices from yahoo finance into PostgreSQL staging table, transform it, and then load it into PostgreSQL production table"
   ]
  },
  {
   "cell_type": "markdown",
   "id": "117999dd-95d5-4c12-ab76-e28f4df7d06f",
   "metadata": {},
   "source": [
    "### Import Libraries"
   ]
  },
  {
   "cell_type": "code",
   "execution_count": 13,
   "id": "f56a1303-bd4c-4946-a122-3a119b79c194",
   "metadata": {},
   "outputs": [],
   "source": [
    "# Standard libraries\n",
    "import os\n",
    "import numpy as np\n",
    "import pandas as pd\n",
    "from datetime import datetime\n",
    "import json\n",
    "\n",
    "# Connect to AWS RDS\n",
    "from dotenv import load_dotenv\n",
    "import psycopg2\n",
    "from psycopg2.extensions import connection as Connection\n",
    "from psycopg2 import OperationalError, ProgrammingError, Error\n",
    "\n",
    "# Connect to yahoo finance's API\n",
    "import yfinance as yf"
   ]
  },
  {
   "cell_type": "markdown",
   "id": "7a0bd68a-87dd-4700-81ae-09a3acfe68e6",
   "metadata": {},
   "source": [
    "### Configuration & Constants"
   ]
  },
  {
   "cell_type": "code",
   "execution_count": 2,
   "id": "3e903e28-47f6-45ed-b017-39f450364562",
   "metadata": {},
   "outputs": [],
   "source": [
    "# Load .env file (searches in the current directory or parent)\n",
    "load_dotenv()\n",
    "\n",
    "# Access environment variables\n",
    "rds_host = os.getenv(\"rds_host\")\n",
    "rds_port = int(os.getenv(\"rds_port\"))\n",
    "rds_dbname = os.getenv(\"rds_dbname\")\n",
    "rds_username = os.getenv(\"rds_username\")\n",
    "rds_password = os.getenv(\"rds_password\")"
   ]
  },
  {
   "cell_type": "markdown",
   "id": "c555ca30-0518-4d24-9f18-a9f8fa9baea0",
   "metadata": {},
   "source": [
    "### Helper Functions - DB Connection"
   ]
  },
  {
   "cell_type": "code",
   "execution_count": 16,
   "id": "51f40b17-2a8d-4b12-8bcd-b14d01537408",
   "metadata": {},
   "outputs": [],
   "source": [
    "def connect_to_rds(rds_host: str, rds_port: int, rds_dbname: str, rds_username: str, rds_password: str) -> Connection:\n",
    "\n",
    "    try:\n",
    "        conn = psycopg2.connect(\n",
    "            host=rds_host,\n",
    "            port=rds_port,\n",
    "            dbname=rds_dbname,\n",
    "            user=rds_username,\n",
    "            password=rds_password\n",
    "        )\n",
    "        print(\"✅ Connected successfully!\")\n",
    "        return conn\n",
    "\n",
    "    except OperationalError as e:\n",
    "        print(\"❌ Operational error (e.g. bad credentials, unreachable host):\", e)\n",
    "        raise\n",
    "    except ProgrammingError as e:\n",
    "        print(\"❌ Programming error (e.g. bad DB name or SQL syntax):\", e)\n",
    "        raise\n",
    "    except Error as e:\n",
    "        print(\"❌ psycopg2 general error:\", e)\n",
    "        raise\n",
    "    except Exception as e:\n",
    "        print(\"❌ Unknown error:\", e)\n",
    "        raise        "
   ]
  },
  {
   "cell_type": "markdown",
   "id": "9cd4875c-61bc-454e-ad00-875d38f87843",
   "metadata": {},
   "source": [
    "### Start of Notebook"
   ]
  },
  {
   "cell_type": "code",
   "execution_count": 18,
   "id": "1d8df700-8843-4ee7-bc33-f249a8566aaf",
   "metadata": {
    "scrolled": true
   },
   "outputs": [
    {
     "name": "stdout",
     "output_type": "stream",
     "text": [
      "✅ Connected successfully!\n"
     ]
    }
   ],
   "source": [
    "conn = connect_to_rds(rds_host, rds_port, rds_dbname, rds_username, rds_password)\n",
    "cursor = conn.cursor()"
   ]
  },
  {
   "cell_type": "code",
   "execution_count": 26,
   "id": "2a0aa550-6b54-4301-900d-7ca48f55294d",
   "metadata": {},
   "outputs": [
    {
     "name": "stderr",
     "output_type": "stream",
     "text": [
      "[*********************100%***********************]  2 of 2 completed\n"
     ]
    }
   ],
   "source": [
    "# Pull SPY data\n",
    "df = yf.download([\"SPY\",\"QQQ\"], period=\"5d\", interval=\"1d\")"
   ]
  },
  {
   "cell_type": "code",
   "execution_count": 27,
   "id": "90695b1b-2884-43ec-8700-ca636a82b1f1",
   "metadata": {},
   "outputs": [
    {
     "data": {
      "text/html": [
       "<div>\n",
       "<style scoped>\n",
       "    .dataframe tbody tr th:only-of-type {\n",
       "        vertical-align: middle;\n",
       "    }\n",
       "\n",
       "    .dataframe tbody tr th {\n",
       "        vertical-align: top;\n",
       "    }\n",
       "\n",
       "    .dataframe thead tr th {\n",
       "        text-align: left;\n",
       "    }\n",
       "\n",
       "    .dataframe thead tr:last-of-type th {\n",
       "        text-align: right;\n",
       "    }\n",
       "</style>\n",
       "<table border=\"1\" class=\"dataframe\">\n",
       "  <thead>\n",
       "    <tr>\n",
       "      <th>Price</th>\n",
       "      <th colspan=\"2\" halign=\"left\">Close</th>\n",
       "      <th colspan=\"2\" halign=\"left\">High</th>\n",
       "      <th colspan=\"2\" halign=\"left\">Low</th>\n",
       "      <th colspan=\"2\" halign=\"left\">Open</th>\n",
       "      <th colspan=\"2\" halign=\"left\">Volume</th>\n",
       "    </tr>\n",
       "    <tr>\n",
       "      <th>Ticker</th>\n",
       "      <th>QQQ</th>\n",
       "      <th>SPY</th>\n",
       "      <th>QQQ</th>\n",
       "      <th>SPY</th>\n",
       "      <th>QQQ</th>\n",
       "      <th>SPY</th>\n",
       "      <th>QQQ</th>\n",
       "      <th>SPY</th>\n",
       "      <th>QQQ</th>\n",
       "      <th>SPY</th>\n",
       "    </tr>\n",
       "    <tr>\n",
       "      <th>Date</th>\n",
       "      <th></th>\n",
       "      <th></th>\n",
       "      <th></th>\n",
       "      <th></th>\n",
       "      <th></th>\n",
       "      <th></th>\n",
       "      <th></th>\n",
       "      <th></th>\n",
       "      <th></th>\n",
       "      <th></th>\n",
       "    </tr>\n",
       "  </thead>\n",
       "  <tbody>\n",
       "    <tr>\n",
       "      <th>2025-04-07</th>\n",
       "      <td>423.690002</td>\n",
       "      <td>504.380005</td>\n",
       "      <td>443.140015</td>\n",
       "      <td>523.169983</td>\n",
       "      <td>402.390015</td>\n",
       "      <td>481.799988</td>\n",
       "      <td>408.660004</td>\n",
       "      <td>489.190002</td>\n",
       "      <td>161557000</td>\n",
       "      <td>256611400</td>\n",
       "    </tr>\n",
       "    <tr>\n",
       "      <th>2025-04-08</th>\n",
       "      <td>416.059998</td>\n",
       "      <td>496.480011</td>\n",
       "      <td>443.140015</td>\n",
       "      <td>524.979980</td>\n",
       "      <td>409.790009</td>\n",
       "      <td>489.160004</td>\n",
       "      <td>438.160004</td>\n",
       "      <td>521.859985</td>\n",
       "      <td>101248100</td>\n",
       "      <td>165816600</td>\n",
       "    </tr>\n",
       "    <tr>\n",
       "      <th>2025-04-09</th>\n",
       "      <td>466.000000</td>\n",
       "      <td>548.619995</td>\n",
       "      <td>467.829987</td>\n",
       "      <td>548.619995</td>\n",
       "      <td>415.429993</td>\n",
       "      <td>493.049988</td>\n",
       "      <td>415.570007</td>\n",
       "      <td>493.440002</td>\n",
       "      <td>142876900</td>\n",
       "      <td>241867300</td>\n",
       "    </tr>\n",
       "    <tr>\n",
       "      <th>2025-04-10</th>\n",
       "      <td>446.179993</td>\n",
       "      <td>524.580017</td>\n",
       "      <td>455.589996</td>\n",
       "      <td>533.500000</td>\n",
       "      <td>432.630005</td>\n",
       "      <td>509.320007</td>\n",
       "      <td>453.559998</td>\n",
       "      <td>532.169983</td>\n",
       "      <td>108384100</td>\n",
       "      <td>162331200</td>\n",
       "    </tr>\n",
       "    <tr>\n",
       "      <th>2025-04-11</th>\n",
       "      <td>454.399994</td>\n",
       "      <td>533.940002</td>\n",
       "      <td>455.790009</td>\n",
       "      <td>536.429993</td>\n",
       "      <td>441.329987</td>\n",
       "      <td>520.070007</td>\n",
       "      <td>444.649994</td>\n",
       "      <td>523.010010</td>\n",
       "      <td>52417600</td>\n",
       "      <td>97741700</td>\n",
       "    </tr>\n",
       "  </tbody>\n",
       "</table>\n",
       "</div>"
      ],
      "text/plain": [
       "Price            Close                    High                     Low  \\\n",
       "Ticker             QQQ         SPY         QQQ         SPY         QQQ   \n",
       "Date                                                                     \n",
       "2025-04-07  423.690002  504.380005  443.140015  523.169983  402.390015   \n",
       "2025-04-08  416.059998  496.480011  443.140015  524.979980  409.790009   \n",
       "2025-04-09  466.000000  548.619995  467.829987  548.619995  415.429993   \n",
       "2025-04-10  446.179993  524.580017  455.589996  533.500000  432.630005   \n",
       "2025-04-11  454.399994  533.940002  455.790009  536.429993  441.329987   \n",
       "\n",
       "Price                         Open                 Volume             \n",
       "Ticker             SPY         QQQ         SPY        QQQ        SPY  \n",
       "Date                                                                  \n",
       "2025-04-07  481.799988  408.660004  489.190002  161557000  256611400  \n",
       "2025-04-08  489.160004  438.160004  521.859985  101248100  165816600  \n",
       "2025-04-09  493.049988  415.570007  493.440002  142876900  241867300  \n",
       "2025-04-10  509.320007  453.559998  532.169983  108384100  162331200  \n",
       "2025-04-11  520.070007  444.649994  523.010010   52417600   97741700  "
      ]
     },
     "execution_count": 27,
     "metadata": {},
     "output_type": "execute_result"
    }
   ],
   "source": [
    "df"
   ]
  },
  {
   "cell_type": "code",
   "execution_count": 24,
   "id": "807fbb59-aea6-4414-992b-bae2283487c8",
   "metadata": {},
   "outputs": [
    {
     "data": {
      "text/plain": [
       "RangeIndex(start=0, stop=5, step=1)"
      ]
     },
     "execution_count": 24,
     "metadata": {},
     "output_type": "execute_result"
    }
   ],
   "source": [
    "df.index"
   ]
  },
  {
   "cell_type": "code",
   "execution_count": 25,
   "id": "9ae825b4-871c-4553-b6c3-281624d3e51e",
   "metadata": {},
   "outputs": [
    {
     "data": {
      "text/plain": [
       "Index(['Date', 'Close', 'High', 'Low', 'Open', 'Volume'], dtype='object')"
      ]
     },
     "execution_count": 25,
     "metadata": {},
     "output_type": "execute_result"
    }
   ],
   "source": [
    "df.columns"
   ]
  },
  {
   "cell_type": "markdown",
   "id": "3dfcd13e-ca5c-4ef8-82d0-a9e3d4c9f9e8",
   "metadata": {},
   "source": [
    "Here is my vision for the ETL pipeline:\n",
    "- I want to create a historical backfill just once, upfront, for let's say 3 or 5 years of historical price data\n",
    "- But going forward, I want this ETL pipeline to run at the end of date, let's say after stock market, to load only that day's closing prices into my daily_price_staging table.  This is the ETL job that Airflow and Docker will handle\n",
    "- The ETL job should also check for conflicts, i.e. - if the (ticker, date) combination already exists in the database, it should handle that somehow.  I think it should have \"on conflict (key1, key2) do nothing\" and still send out an alert via Airflow saying something like \"Just as you know, there was a conflict in (ticker, date) insertion during today's ETL run today, we handled it, but FYI you should know this happened and maybe take a look\"\n",
    "\n",
    "Ref ChatGPT thread: https://chatgpt.com/c/67fa79e6-8f34-8001-bc98-c29adc5cac9d"
   ]
  },
  {
   "cell_type": "code",
   "execution_count": null,
   "id": "acc65383-8302-4577-b617-c35fc050d931",
   "metadata": {},
   "outputs": [],
   "source": []
  },
  {
   "cell_type": "code",
   "execution_count": 23,
   "id": "ae20b2fc-5cb0-4f34-8c2c-77f5852417a2",
   "metadata": {
    "scrolled": true
   },
   "outputs": [],
   "source": [
    "# Flatten MultiIndex columns\n",
    "df.columns.name = None  # remove name\n",
    "df.columns = [col[0] if isinstance(col, tuple) else col for col in df.columns]\n",
    "\n",
    "df.reset_index(inplace=True)"
   ]
  },
  {
   "cell_type": "code",
   "execution_count": 6,
   "id": "9dfc1c14-f5b8-446a-aff0-128abb147de3",
   "metadata": {},
   "outputs": [
    {
     "data": {
      "text/html": [
       "<div>\n",
       "<style scoped>\n",
       "    .dataframe tbody tr th:only-of-type {\n",
       "        vertical-align: middle;\n",
       "    }\n",
       "\n",
       "    .dataframe tbody tr th {\n",
       "        vertical-align: top;\n",
       "    }\n",
       "\n",
       "    .dataframe thead th {\n",
       "        text-align: right;\n",
       "    }\n",
       "</style>\n",
       "<table border=\"1\" class=\"dataframe\">\n",
       "  <thead>\n",
       "    <tr style=\"text-align: right;\">\n",
       "      <th></th>\n",
       "      <th>Date</th>\n",
       "      <th>Close</th>\n",
       "      <th>High</th>\n",
       "      <th>Low</th>\n",
       "      <th>Open</th>\n",
       "      <th>Volume</th>\n",
       "    </tr>\n",
       "  </thead>\n",
       "  <tbody>\n",
       "    <tr>\n",
       "      <th>0</th>\n",
       "      <td>2025-04-07</td>\n",
       "      <td>504.380005</td>\n",
       "      <td>523.169983</td>\n",
       "      <td>481.799988</td>\n",
       "      <td>489.190002</td>\n",
       "      <td>256611400</td>\n",
       "    </tr>\n",
       "    <tr>\n",
       "      <th>1</th>\n",
       "      <td>2025-04-08</td>\n",
       "      <td>496.480011</td>\n",
       "      <td>524.979980</td>\n",
       "      <td>489.160004</td>\n",
       "      <td>521.859985</td>\n",
       "      <td>165816600</td>\n",
       "    </tr>\n",
       "    <tr>\n",
       "      <th>2</th>\n",
       "      <td>2025-04-09</td>\n",
       "      <td>548.619995</td>\n",
       "      <td>548.619995</td>\n",
       "      <td>493.049988</td>\n",
       "      <td>493.440002</td>\n",
       "      <td>241867300</td>\n",
       "    </tr>\n",
       "    <tr>\n",
       "      <th>3</th>\n",
       "      <td>2025-04-10</td>\n",
       "      <td>524.580017</td>\n",
       "      <td>533.500000</td>\n",
       "      <td>509.320007</td>\n",
       "      <td>532.169983</td>\n",
       "      <td>162331200</td>\n",
       "    </tr>\n",
       "    <tr>\n",
       "      <th>4</th>\n",
       "      <td>2025-04-11</td>\n",
       "      <td>533.940002</td>\n",
       "      <td>536.429993</td>\n",
       "      <td>520.070007</td>\n",
       "      <td>523.010010</td>\n",
       "      <td>97741700</td>\n",
       "    </tr>\n",
       "  </tbody>\n",
       "</table>\n",
       "</div>"
      ],
      "text/plain": [
       "        Date       Close        High         Low        Open     Volume\n",
       "0 2025-04-07  504.380005  523.169983  481.799988  489.190002  256611400\n",
       "1 2025-04-08  496.480011  524.979980  489.160004  521.859985  165816600\n",
       "2 2025-04-09  548.619995  548.619995  493.049988  493.440002  241867300\n",
       "3 2025-04-10  524.580017  533.500000  509.320007  532.169983  162331200\n",
       "4 2025-04-11  533.940002  536.429993  520.070007  523.010010   97741700"
      ]
     },
     "execution_count": 6,
     "metadata": {},
     "output_type": "execute_result"
    }
   ],
   "source": [
    "df.head(n = 5)"
   ]
  },
  {
   "cell_type": "code",
   "execution_count": 7,
   "id": "89f35fad-0725-44c2-94d8-8579f2ba7114",
   "metadata": {},
   "outputs": [
    {
     "data": {
      "text/plain": [
       "Index(['Date', 'Close', 'High', 'Low', 'Open', 'Volume'], dtype='object')"
      ]
     },
     "execution_count": 7,
     "metadata": {},
     "output_type": "execute_result"
    }
   ],
   "source": [
    "df.columns"
   ]
  },
  {
   "cell_type": "code",
   "execution_count": 21,
   "id": "b8866f28-0c72-444a-ba09-214bf358851c",
   "metadata": {},
   "outputs": [
    {
     "name": "stdout",
     "output_type": "stream",
     "text": [
      "✅ Inserted SPY rows into staging table\n"
     ]
    }
   ],
   "source": [
    "# Insert each row\n",
    "for _, row in df.iterrows():\n",
    "    date = row['Date'].date()\n",
    "    close = float(row['Close'])\n",
    "    source_api = \"yfinance\"\n",
    "    ingestion_timestamp = datetime.utcnow()\n",
    "\n",
    "    # Handle non-serializable timestamp objects\n",
    "    row_dict = {k: (str(v) if isinstance(v, pd.Timestamp) else v) for k, v in row.to_dict().items()}\n",
    "    raw_payload = json.dumps(row_dict)\n",
    "\n",
    "    cursor.execute(\"\"\"\n",
    "        INSERT INTO spy_prices_staging (date, close, source_api, ingestion_timestamp, raw_payload)\n",
    "        VALUES (%s, %s, %s, %s, %s)\n",
    "        ON CONFLICT (date) DO NOTHING;\n",
    "    \"\"\", (date, close, source_api, ingestion_timestamp, raw_payload))\n",
    "\n",
    "conn.commit()\n",
    "print(\"✅ Inserted SPY rows into staging table\")"
   ]
  },
  {
   "cell_type": "code",
   "execution_count": 22,
   "id": "9c7e8d2f-19fa-4eca-8ba2-ec8151b8d18b",
   "metadata": {},
   "outputs": [
    {
     "name": "stdout",
     "output_type": "stream",
     "text": [
      "(datetime.date(2025, 4, 11), Decimal('533.9400024414062'), 'yfinance', datetime.datetime(2025, 4, 12, 3, 28, 35, 60819, tzinfo=datetime.timezone.utc), {'Low': 520.0700073242188, 'Date': '2025-04-11 00:00:00', 'High': 536.4299926757812, 'Open': 523.010009765625, 'Close': 533.9400024414062, 'Volume': 97741700})\n",
      "(datetime.date(2025, 4, 10), Decimal('524.5800170898438'), 'yfinance', datetime.datetime(2025, 4, 12, 3, 28, 35, 60299, tzinfo=datetime.timezone.utc), {'Low': 509.32000732421875, 'Date': '2025-04-10 00:00:00', 'High': 533.5, 'Open': 532.1699829101562, 'Close': 524.5800170898438, 'Volume': 162331200})\n",
      "(datetime.date(2025, 4, 9), Decimal('548.6199951171875'), 'yfinance', datetime.datetime(2025, 4, 12, 3, 28, 35, 59666, tzinfo=datetime.timezone.utc), {'Low': 493.04998779296875, 'Date': '2025-04-09 00:00:00', 'High': 548.6199951171875, 'Open': 493.44000244140625, 'Close': 548.6199951171875, 'Volume': 241867300})\n",
      "(datetime.date(2025, 4, 8), Decimal('496.4800109863281'), 'yfinance', datetime.datetime(2025, 4, 12, 3, 28, 35, 58986, tzinfo=datetime.timezone.utc), {'Low': 489.1600036621094, 'Date': '2025-04-08 00:00:00', 'High': 524.97998046875, 'Open': 521.8599853515625, 'Close': 496.4800109863281, 'Volume': 165816600})\n",
      "(datetime.date(2025, 4, 7), Decimal('504.3800048828125'), 'yfinance', datetime.datetime(2025, 4, 12, 3, 28, 35, 53452, tzinfo=datetime.timezone.utc), {'Low': 481.79998779296875, 'Date': '2025-04-07 00:00:00', 'High': 523.1699829101562, 'Open': 489.19000244140625, 'Close': 504.3800048828125, 'Volume': 256611400})\n"
     ]
    }
   ],
   "source": [
    "# Verify insertion worked\n",
    "cursor.execute(\"SELECT * FROM spy_prices_staging ORDER BY date DESC;\")\n",
    "rows = cursor.fetchall()\n",
    "\n",
    "for row in rows:\n",
    "    print(row)"
   ]
  },
  {
   "cell_type": "code",
   "execution_count": null,
   "id": "3b5031db-bbea-470d-b2da-403983720f64",
   "metadata": {},
   "outputs": [],
   "source": [
    "# Create a mock ETL transformation.  Just multiply prices by 2x and store into \"production\" table\n",
    "def transform_prices_by_2(df: pd.DataFrame) -> pd.DataFrame:\n",
    "    "
   ]
  },
  {
   "cell_type": "code",
   "execution_count": null,
   "id": "fc11c014-edcb-4880-9ca3-6f45a5f90892",
   "metadata": {},
   "outputs": [],
   "source": [
    "create_table_query = \"\"\"\n",
    "CREATE TABLE IF NOT EXISTS daily_prices_staging (\n",
    "    ticker TEXT NOT NULL,\n",
    "    date DATE NOT NULL,\n",
    "    price_close NUMERIC,\n",
    "    source_api TEXT,\n",
    "    ingestion_timestamp TIMESTAMPTZ DEFAULT NOW(),\n",
    "    raw_payload JSONB,\n",
    "    PRIMARY KEY (ticker, date)\n",
    ");\n",
    "\"\"\"\n",
    "\n",
    "cursor.execute(create_table_query)\n",
    "conn.commit()\n",
    "\n",
    "print(\"✅ Created new table: daily_prices_staging\")"
   ]
  },
  {
   "cell_type": "code",
   "execution_count": null,
   "id": "7271fec1-0c6d-474f-84c1-b798c74f261a",
   "metadata": {},
   "outputs": [],
   "source": []
  }
 ],
 "metadata": {
  "kernelspec": {
   "display_name": "Python 3 (ipykernel)",
   "language": "python",
   "name": "python3"
  },
  "language_info": {
   "codemirror_mode": {
    "name": "ipython",
    "version": 3
   },
   "file_extension": ".py",
   "mimetype": "text/x-python",
   "name": "python",
   "nbconvert_exporter": "python",
   "pygments_lexer": "ipython3",
   "version": "3.10.12"
  }
 },
 "nbformat": 4,
 "nbformat_minor": 5
}
