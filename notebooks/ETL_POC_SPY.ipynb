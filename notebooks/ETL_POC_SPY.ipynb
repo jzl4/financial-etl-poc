{
 "cells": [
  {
   "cell_type": "markdown",
   "id": "697397d7-d3f5-4af8-a2b8-623f9e416057",
   "metadata": {},
   "source": [
    "# This notebook is a POC for an ETL pipeline, where I load prices from yahoo finance into PostgreSQL staging table, transform it, and then load it into PostgreSQL production table"
   ]
  },
  {
   "cell_type": "markdown",
   "id": "117999dd-95d5-4c12-ab76-e28f4df7d06f",
   "metadata": {},
   "source": [
    "### Import Libraries"
   ]
  },
  {
   "cell_type": "code",
   "execution_count": 1,
   "id": "f56a1303-bd4c-4946-a122-3a119b79c194",
   "metadata": {},
   "outputs": [],
   "source": [
    "# Standard libraries\n",
    "import os\n",
    "import numpy as np\n",
    "import pandas as pd\n",
    "from datetime import datetime\n",
    "import json\n",
    "\n",
    "# Connect to AWS RDS\n",
    "from dotenv import load_dotenv\n",
    "import psycopg2\n",
    "from psycopg2.extensions import connection as Connection\n",
    "from psycopg2 import OperationalError, ProgrammingError, Error\n",
    "\n",
    "# Connect to yahoo finance's API\n",
    "import yfinance as yf"
   ]
  },
  {
   "cell_type": "markdown",
   "id": "7a0bd68a-87dd-4700-81ae-09a3acfe68e6",
   "metadata": {},
   "source": [
    "### Configuration & Constants"
   ]
  },
  {
   "cell_type": "code",
   "execution_count": 2,
   "id": "3e903e28-47f6-45ed-b017-39f450364562",
   "metadata": {},
   "outputs": [],
   "source": [
    "# Load .env file (searches in the current directory or parent)\n",
    "load_dotenv()\n",
    "\n",
    "# Access environment variables for connecting to my PostgreSQL database\n",
    "rds_host = os.getenv(\"rds_host\")\n",
    "rds_port = int(os.getenv(\"rds_port\"))\n",
    "rds_dbname = os.getenv(\"rds_dbname\")\n",
    "rds_username = os.getenv(\"rds_username\")\n",
    "rds_password = os.getenv(\"rds_password\")"
   ]
  },
  {
   "cell_type": "markdown",
   "id": "c555ca30-0518-4d24-9f18-a9f8fa9baea0",
   "metadata": {},
   "source": [
    "### Helper Functions - DB Connection"
   ]
  },
  {
   "cell_type": "code",
   "execution_count": 3,
   "id": "51f40b17-2a8d-4b12-8bcd-b14d01537408",
   "metadata": {},
   "outputs": [],
   "source": [
    "def connect_to_rds(rds_host: str, rds_port: int, rds_dbname: str, rds_username: str, rds_password: str) -> Connection:\n",
    "\n",
    "    try:\n",
    "        conn = psycopg2.connect(\n",
    "            host=rds_host,\n",
    "            port=rds_port,\n",
    "            dbname=rds_dbname,\n",
    "            user=rds_username,\n",
    "            password=rds_password\n",
    "        )\n",
    "        print(\"✅ Connected successfully!\")\n",
    "        return conn\n",
    "\n",
    "    except OperationalError as e:\n",
    "        print(\"❌ Operational error (e.g. bad credentials, unreachable host):\", e)\n",
    "        raise\n",
    "    except ProgrammingError as e:\n",
    "        print(\"❌ Programming error (e.g. bad DB name or SQL syntax):\", e)\n",
    "        raise\n",
    "    except Error as e:\n",
    "        print(\"❌ psycopg2 general error:\", e)\n",
    "        raise\n",
    "    except Exception as e:\n",
    "        print(\"❌ Unknown error:\", e)\n",
    "        raise        "
   ]
  },
  {
   "cell_type": "markdown",
   "id": "9cd4875c-61bc-454e-ad00-875d38f87843",
   "metadata": {},
   "source": [
    "### Set Up Connection"
   ]
  },
  {
   "cell_type": "code",
   "execution_count": 6,
   "id": "1d8df700-8843-4ee7-bc33-f249a8566aaf",
   "metadata": {
    "scrolled": true
   },
   "outputs": [
    {
     "name": "stdout",
     "output_type": "stream",
     "text": [
      "✅ Connected successfully!\n"
     ]
    }
   ],
   "source": [
    "conn = connect_to_rds(rds_host, rds_port, rds_dbname, rds_username, rds_password)\n",
    "cursor = conn.cursor()"
   ]
  },
  {
   "cell_type": "code",
   "execution_count": 9,
   "id": "18cab155-7dee-49eb-af1f-af76d202c1ef",
   "metadata": {},
   "outputs": [],
   "source": [
    "create_tbl_api_payloads_yfinance_daily = \"\"\"\n",
    "CREATE TABLE IF NOT EXISTS tbl_api_payloads_yfinance_daily (\n",
    "    business_date DATE NOT NULL,\n",
    "    ingestion_timestamp TIMESTAMPTZ DEFAULT NOW(),\n",
    "    raw_payload JSONB,\n",
    "    PRIMARY KEY (business_date)\n",
    ");\n",
    "\"\"\"\n",
    "\n",
    "cursor.execute(create_tbl_api_payloads_yfinance_daily)\n",
    "conn.commit()"
   ]
  },
  {
   "cell_type": "code",
   "execution_count": 10,
   "id": "ca85c628-7acc-49ec-9cdd-34fffba8f859",
   "metadata": {},
   "outputs": [],
   "source": [
    "tickers = [\"SPY\",\"QQQ\",\"GLD\"]\n",
    "start_date = '2025-04-01'\n",
    "end_date = '2025-04-11'"
   ]
  },
  {
   "cell_type": "code",
   "execution_count": 11,
   "id": "7dfab498-c736-4e4b-ae4c-1f25adf58917",
   "metadata": {},
   "outputs": [
    {
     "name": "stdout",
     "output_type": "stream",
     "text": [
      "YF.download() has changed argument auto_adjust default to True\n"
     ]
    },
    {
     "name": "stderr",
     "output_type": "stream",
     "text": [
      "[*********************100%***********************]  3 of 3 completed\n"
     ]
    }
   ],
   "source": [
    "df_yf_raw = yf.download(tickers, start = start_date, end = end_date, period = \"1d\", group_by = \"ticker\")"
   ]
  },
  {
   "cell_type": "code",
   "execution_count": 12,
   "id": "acc65383-8302-4577-b617-c35fc050d931",
   "metadata": {},
   "outputs": [
    {
     "data": {
      "text/html": [
       "<div>\n",
       "<style scoped>\n",
       "    .dataframe tbody tr th:only-of-type {\n",
       "        vertical-align: middle;\n",
       "    }\n",
       "\n",
       "    .dataframe tbody tr th {\n",
       "        vertical-align: top;\n",
       "    }\n",
       "\n",
       "    .dataframe thead tr th {\n",
       "        text-align: left;\n",
       "    }\n",
       "\n",
       "    .dataframe thead tr:last-of-type th {\n",
       "        text-align: right;\n",
       "    }\n",
       "</style>\n",
       "<table border=\"1\" class=\"dataframe\">\n",
       "  <thead>\n",
       "    <tr>\n",
       "      <th>Ticker</th>\n",
       "      <th colspan=\"5\" halign=\"left\">SPY</th>\n",
       "      <th colspan=\"5\" halign=\"left\">QQQ</th>\n",
       "      <th colspan=\"5\" halign=\"left\">GLD</th>\n",
       "    </tr>\n",
       "    <tr>\n",
       "      <th>Price</th>\n",
       "      <th>Open</th>\n",
       "      <th>High</th>\n",
       "      <th>Low</th>\n",
       "      <th>Close</th>\n",
       "      <th>Volume</th>\n",
       "      <th>Open</th>\n",
       "      <th>High</th>\n",
       "      <th>Low</th>\n",
       "      <th>Close</th>\n",
       "      <th>Volume</th>\n",
       "      <th>Open</th>\n",
       "      <th>High</th>\n",
       "      <th>Low</th>\n",
       "      <th>Close</th>\n",
       "      <th>Volume</th>\n",
       "    </tr>\n",
       "    <tr>\n",
       "      <th>Date</th>\n",
       "      <th></th>\n",
       "      <th></th>\n",
       "      <th></th>\n",
       "      <th></th>\n",
       "      <th></th>\n",
       "      <th></th>\n",
       "      <th></th>\n",
       "      <th></th>\n",
       "      <th></th>\n",
       "      <th></th>\n",
       "      <th></th>\n",
       "      <th></th>\n",
       "      <th></th>\n",
       "      <th></th>\n",
       "      <th></th>\n",
       "    </tr>\n",
       "  </thead>\n",
       "  <tbody>\n",
       "    <tr>\n",
       "      <th>2025-04-01</th>\n",
       "      <td>557.450012</td>\n",
       "      <td>562.940002</td>\n",
       "      <td>553.679993</td>\n",
       "      <td>560.969971</td>\n",
       "      <td>54609600</td>\n",
       "      <td>467.299988</td>\n",
       "      <td>473.630005</td>\n",
       "      <td>464.420013</td>\n",
       "      <td>472.700012</td>\n",
       "      <td>41156200</td>\n",
       "      <td>288.540009</td>\n",
       "      <td>289.130005</td>\n",
       "      <td>285.910004</td>\n",
       "      <td>287.570007</td>\n",
       "      <td>15923600</td>\n",
       "    </tr>\n",
       "    <tr>\n",
       "      <th>2025-04-02</th>\n",
       "      <td>555.049988</td>\n",
       "      <td>567.419983</td>\n",
       "      <td>554.809998</td>\n",
       "      <td>564.520020</td>\n",
       "      <td>76014500</td>\n",
       "      <td>466.119995</td>\n",
       "      <td>479.559998</td>\n",
       "      <td>465.859985</td>\n",
       "      <td>476.149994</td>\n",
       "      <td>49894500</td>\n",
       "      <td>288.279999</td>\n",
       "      <td>289.029999</td>\n",
       "      <td>287.359985</td>\n",
       "      <td>288.160004</td>\n",
       "      <td>11074800</td>\n",
       "    </tr>\n",
       "    <tr>\n",
       "      <th>2025-04-03</th>\n",
       "      <td>545.109985</td>\n",
       "      <td>547.969971</td>\n",
       "      <td>536.700012</td>\n",
       "      <td>536.700012</td>\n",
       "      <td>125986000</td>\n",
       "      <td>456.440002</td>\n",
       "      <td>460.070007</td>\n",
       "      <td>450.140015</td>\n",
       "      <td>450.660004</td>\n",
       "      <td>70456300</td>\n",
       "      <td>282.779999</td>\n",
       "      <td>289.089996</td>\n",
       "      <td>282.450012</td>\n",
       "      <td>286.420013</td>\n",
       "      <td>20524400</td>\n",
       "    </tr>\n",
       "    <tr>\n",
       "      <th>2025-04-04</th>\n",
       "      <td>523.669983</td>\n",
       "      <td>525.869995</td>\n",
       "      <td>505.059998</td>\n",
       "      <td>505.279999</td>\n",
       "      <td>217965100</td>\n",
       "      <td>438.140015</td>\n",
       "      <td>440.369995</td>\n",
       "      <td>422.670013</td>\n",
       "      <td>422.670013</td>\n",
       "      <td>117088400</td>\n",
       "      <td>283.640015</td>\n",
       "      <td>284.029999</td>\n",
       "      <td>278.019989</td>\n",
       "      <td>279.720001</td>\n",
       "      <td>21517200</td>\n",
       "    </tr>\n",
       "    <tr>\n",
       "      <th>2025-04-07</th>\n",
       "      <td>489.190002</td>\n",
       "      <td>523.169983</td>\n",
       "      <td>481.799988</td>\n",
       "      <td>504.380005</td>\n",
       "      <td>256611400</td>\n",
       "      <td>408.660004</td>\n",
       "      <td>443.140015</td>\n",
       "      <td>402.390015</td>\n",
       "      <td>423.690002</td>\n",
       "      <td>161557000</td>\n",
       "      <td>278.859985</td>\n",
       "      <td>280.140015</td>\n",
       "      <td>272.579987</td>\n",
       "      <td>273.709991</td>\n",
       "      <td>19807000</td>\n",
       "    </tr>\n",
       "    <tr>\n",
       "      <th>2025-04-08</th>\n",
       "      <td>521.859985</td>\n",
       "      <td>524.979980</td>\n",
       "      <td>489.160004</td>\n",
       "      <td>496.480011</td>\n",
       "      <td>165816600</td>\n",
       "      <td>438.160004</td>\n",
       "      <td>443.140015</td>\n",
       "      <td>409.790009</td>\n",
       "      <td>416.059998</td>\n",
       "      <td>101248100</td>\n",
       "      <td>277.869995</td>\n",
       "      <td>278.320007</td>\n",
       "      <td>274.239990</td>\n",
       "      <td>275.200012</td>\n",
       "      <td>12639500</td>\n",
       "    </tr>\n",
       "    <tr>\n",
       "      <th>2025-04-09</th>\n",
       "      <td>493.440002</td>\n",
       "      <td>548.619995</td>\n",
       "      <td>493.049988</td>\n",
       "      <td>548.619995</td>\n",
       "      <td>241867300</td>\n",
       "      <td>415.570007</td>\n",
       "      <td>467.829987</td>\n",
       "      <td>415.429993</td>\n",
       "      <td>466.000000</td>\n",
       "      <td>142876900</td>\n",
       "      <td>282.220001</td>\n",
       "      <td>285.869995</td>\n",
       "      <td>281.040009</td>\n",
       "      <td>285.380005</td>\n",
       "      <td>25342200</td>\n",
       "    </tr>\n",
       "    <tr>\n",
       "      <th>2025-04-10</th>\n",
       "      <td>532.169983</td>\n",
       "      <td>533.500000</td>\n",
       "      <td>509.320007</td>\n",
       "      <td>524.580017</td>\n",
       "      <td>162331200</td>\n",
       "      <td>453.559998</td>\n",
       "      <td>455.589996</td>\n",
       "      <td>432.630005</td>\n",
       "      <td>446.179993</td>\n",
       "      <td>108384100</td>\n",
       "      <td>288.809998</td>\n",
       "      <td>292.859985</td>\n",
       "      <td>287.230011</td>\n",
       "      <td>292.350006</td>\n",
       "      <td>19837800</td>\n",
       "    </tr>\n",
       "  </tbody>\n",
       "</table>\n",
       "</div>"
      ],
      "text/plain": [
       "Ticker             SPY                                                 \\\n",
       "Price             Open        High         Low       Close     Volume   \n",
       "Date                                                                    \n",
       "2025-04-01  557.450012  562.940002  553.679993  560.969971   54609600   \n",
       "2025-04-02  555.049988  567.419983  554.809998  564.520020   76014500   \n",
       "2025-04-03  545.109985  547.969971  536.700012  536.700012  125986000   \n",
       "2025-04-04  523.669983  525.869995  505.059998  505.279999  217965100   \n",
       "2025-04-07  489.190002  523.169983  481.799988  504.380005  256611400   \n",
       "2025-04-08  521.859985  524.979980  489.160004  496.480011  165816600   \n",
       "2025-04-09  493.440002  548.619995  493.049988  548.619995  241867300   \n",
       "2025-04-10  532.169983  533.500000  509.320007  524.580017  162331200   \n",
       "\n",
       "Ticker             QQQ                                                 \\\n",
       "Price             Open        High         Low       Close     Volume   \n",
       "Date                                                                    \n",
       "2025-04-01  467.299988  473.630005  464.420013  472.700012   41156200   \n",
       "2025-04-02  466.119995  479.559998  465.859985  476.149994   49894500   \n",
       "2025-04-03  456.440002  460.070007  450.140015  450.660004   70456300   \n",
       "2025-04-04  438.140015  440.369995  422.670013  422.670013  117088400   \n",
       "2025-04-07  408.660004  443.140015  402.390015  423.690002  161557000   \n",
       "2025-04-08  438.160004  443.140015  409.790009  416.059998  101248100   \n",
       "2025-04-09  415.570007  467.829987  415.429993  466.000000  142876900   \n",
       "2025-04-10  453.559998  455.589996  432.630005  446.179993  108384100   \n",
       "\n",
       "Ticker             GLD                                                \n",
       "Price             Open        High         Low       Close    Volume  \n",
       "Date                                                                  \n",
       "2025-04-01  288.540009  289.130005  285.910004  287.570007  15923600  \n",
       "2025-04-02  288.279999  289.029999  287.359985  288.160004  11074800  \n",
       "2025-04-03  282.779999  289.089996  282.450012  286.420013  20524400  \n",
       "2025-04-04  283.640015  284.029999  278.019989  279.720001  21517200  \n",
       "2025-04-07  278.859985  280.140015  272.579987  273.709991  19807000  \n",
       "2025-04-08  277.869995  278.320007  274.239990  275.200012  12639500  \n",
       "2025-04-09  282.220001  285.869995  281.040009  285.380005  25342200  \n",
       "2025-04-10  288.809998  292.859985  287.230011  292.350006  19837800  "
      ]
     },
     "execution_count": 12,
     "metadata": {},
     "output_type": "execute_result"
    }
   ],
   "source": [
    "df_yf_raw"
   ]
  },
  {
   "cell_type": "code",
   "execution_count": 13,
   "id": "e4f153a0-a383-4ae8-a972-283a27461680",
   "metadata": {},
   "outputs": [
    {
     "data": {
      "text/plain": [
       "DatetimeIndex(['2025-04-01', '2025-04-02', '2025-04-03', '2025-04-04',\n",
       "               '2025-04-07', '2025-04-08', '2025-04-09', '2025-04-10'],\n",
       "              dtype='datetime64[ns]', name='Date', freq=None)"
      ]
     },
     "execution_count": 13,
     "metadata": {},
     "output_type": "execute_result"
    }
   ],
   "source": [
    "df_yf_raw.index"
   ]
  },
  {
   "cell_type": "code",
   "execution_count": 14,
   "id": "9a5ebf63-7e5f-4d81-8864-521bc1929cf6",
   "metadata": {},
   "outputs": [
    {
     "data": {
      "text/plain": [
       "MultiIndex([('SPY',   'Open'),\n",
       "            ('SPY',   'High'),\n",
       "            ('SPY',    'Low'),\n",
       "            ('SPY',  'Close'),\n",
       "            ('SPY', 'Volume'),\n",
       "            ('QQQ',   'Open'),\n",
       "            ('QQQ',   'High'),\n",
       "            ('QQQ',    'Low'),\n",
       "            ('QQQ',  'Close'),\n",
       "            ('QQQ', 'Volume'),\n",
       "            ('GLD',   'Open'),\n",
       "            ('GLD',   'High'),\n",
       "            ('GLD',    'Low'),\n",
       "            ('GLD',  'Close'),\n",
       "            ('GLD', 'Volume')],\n",
       "           names=['Ticker', 'Price'])"
      ]
     },
     "execution_count": 14,
     "metadata": {},
     "output_type": "execute_result"
    }
   ],
   "source": [
    "df_yf_raw.columns"
   ]
  },
  {
   "cell_type": "code",
   "execution_count": 18,
   "id": "4d82d7f4-8bdf-4f45-82b5-8c9076bc4e52",
   "metadata": {},
   "outputs": [],
   "source": [
    "index_0 = df_yf_raw.index[0]\n",
    "# A single row is a Pandas series with multiIndex (Ticker, Price)\n",
    "df_yf_raw_0 = df_yf_raw.loc[index_0]"
   ]
  },
  {
   "cell_type": "code",
   "execution_count": 26,
   "id": "51ceee3f-91b7-417a-bb6f-5d67a11a9c1a",
   "metadata": {},
   "outputs": [
    {
     "data": {
      "text/plain": [
       "{'Close': {'GLD': 287.57000732421875,\n",
       "  'QQQ': 472.70001220703125,\n",
       "  'SPY': 560.969970703125},\n",
       " 'High': {'GLD': 289.1300048828125,\n",
       "  'QQQ': 473.6300048828125,\n",
       "  'SPY': 562.9400024414062},\n",
       " 'Low': {'GLD': 285.9100036621094,\n",
       "  'QQQ': 464.4200134277344,\n",
       "  'SPY': 553.6799926757812},\n",
       " 'Open': {'GLD': 288.5400085449219,\n",
       "  'QQQ': 467.29998779296875,\n",
       "  'SPY': 557.4500122070312},\n",
       " 'Volume': {'GLD': 15923600.0, 'QQQ': 41156200.0, 'SPY': 54609600.0}}"
      ]
     },
     "execution_count": 26,
     "metadata": {},
     "output_type": "execute_result"
    }
   ],
   "source": [
    "df_yf_raw_0.unstack().to_dict()"
   ]
  },
  {
   "cell_type": "code",
   "execution_count": null,
   "id": "2558aa80-dcf8-453c-81a9-23c23d69d93c",
   "metadata": {},
   "outputs": [],
   "source": []
  },
  {
   "cell_type": "code",
   "execution_count": null,
   "id": "65240d17-525c-41a1-b007-e25bf58f68a0",
   "metadata": {},
   "outputs": [],
   "source": []
  },
  {
   "cell_type": "code",
   "execution_count": 20,
   "id": "fc11c014-edcb-4880-9ca3-6f45a5f90892",
   "metadata": {},
   "outputs": [],
   "source": [
    "# The columns are MultiIndex [\"Ticker\", \"Price\"], so we need to flatten by converting ticker from column to row\n",
    "df_flattened = df_yf_raw.stack(level = \"Ticker\", future_stack = True).reset_index()"
   ]
  },
  {
   "cell_type": "code",
   "execution_count": 22,
   "id": "7271fec1-0c6d-474f-84c1-b798c74f261a",
   "metadata": {},
   "outputs": [
    {
     "data": {
      "text/html": [
       "<div>\n",
       "<style scoped>\n",
       "    .dataframe tbody tr th:only-of-type {\n",
       "        vertical-align: middle;\n",
       "    }\n",
       "\n",
       "    .dataframe tbody tr th {\n",
       "        vertical-align: top;\n",
       "    }\n",
       "\n",
       "    .dataframe thead th {\n",
       "        text-align: right;\n",
       "    }\n",
       "</style>\n",
       "<table border=\"1\" class=\"dataframe\">\n",
       "  <thead>\n",
       "    <tr style=\"text-align: right;\">\n",
       "      <th>Price</th>\n",
       "      <th>Date</th>\n",
       "      <th>Ticker</th>\n",
       "      <th>Open</th>\n",
       "      <th>High</th>\n",
       "      <th>Low</th>\n",
       "      <th>Close</th>\n",
       "      <th>Volume</th>\n",
       "    </tr>\n",
       "  </thead>\n",
       "  <tbody>\n",
       "    <tr>\n",
       "      <th>0</th>\n",
       "      <td>2025-04-01</td>\n",
       "      <td>SPY</td>\n",
       "      <td>557.450012</td>\n",
       "      <td>562.940002</td>\n",
       "      <td>553.679993</td>\n",
       "      <td>560.969971</td>\n",
       "      <td>54609600</td>\n",
       "    </tr>\n",
       "    <tr>\n",
       "      <th>1</th>\n",
       "      <td>2025-04-01</td>\n",
       "      <td>QQQ</td>\n",
       "      <td>467.299988</td>\n",
       "      <td>473.630005</td>\n",
       "      <td>464.420013</td>\n",
       "      <td>472.700012</td>\n",
       "      <td>41156200</td>\n",
       "    </tr>\n",
       "    <tr>\n",
       "      <th>2</th>\n",
       "      <td>2025-04-01</td>\n",
       "      <td>GLD</td>\n",
       "      <td>288.540009</td>\n",
       "      <td>289.130005</td>\n",
       "      <td>285.910004</td>\n",
       "      <td>287.570007</td>\n",
       "      <td>15923600</td>\n",
       "    </tr>\n",
       "    <tr>\n",
       "      <th>3</th>\n",
       "      <td>2025-04-02</td>\n",
       "      <td>SPY</td>\n",
       "      <td>555.049988</td>\n",
       "      <td>567.419983</td>\n",
       "      <td>554.809998</td>\n",
       "      <td>564.520020</td>\n",
       "      <td>76014500</td>\n",
       "    </tr>\n",
       "    <tr>\n",
       "      <th>4</th>\n",
       "      <td>2025-04-02</td>\n",
       "      <td>QQQ</td>\n",
       "      <td>466.119995</td>\n",
       "      <td>479.559998</td>\n",
       "      <td>465.859985</td>\n",
       "      <td>476.149994</td>\n",
       "      <td>49894500</td>\n",
       "    </tr>\n",
       "  </tbody>\n",
       "</table>\n",
       "</div>"
      ],
      "text/plain": [
       "Price       Date Ticker        Open        High         Low       Close  \\\n",
       "0     2025-04-01    SPY  557.450012  562.940002  553.679993  560.969971   \n",
       "1     2025-04-01    QQQ  467.299988  473.630005  464.420013  472.700012   \n",
       "2     2025-04-01    GLD  288.540009  289.130005  285.910004  287.570007   \n",
       "3     2025-04-02    SPY  555.049988  567.419983  554.809998  564.520020   \n",
       "4     2025-04-02    QQQ  466.119995  479.559998  465.859985  476.149994   \n",
       "\n",
       "Price    Volume  \n",
       "0      54609600  \n",
       "1      41156200  \n",
       "2      15923600  \n",
       "3      76014500  \n",
       "4      49894500  "
      ]
     },
     "execution_count": 22,
     "metadata": {},
     "output_type": "execute_result"
    }
   ],
   "source": [
    "df_flattened.head(n = 5)"
   ]
  },
  {
   "cell_type": "code",
   "execution_count": 23,
   "id": "730aa949-5914-4d02-882e-97c8be4db8b0",
   "metadata": {},
   "outputs": [
    {
     "data": {
      "text/plain": [
       "RangeIndex(start=0, stop=24, step=1)"
      ]
     },
     "execution_count": 23,
     "metadata": {},
     "output_type": "execute_result"
    }
   ],
   "source": [
    "df_flattened.index"
   ]
  },
  {
   "cell_type": "code",
   "execution_count": 25,
   "id": "33e8abd7-a42f-4a24-87bf-8b77fdc4e3a8",
   "metadata": {},
   "outputs": [
    {
     "data": {
      "text/plain": [
       "Index(['Date', 'Ticker', 'Open', 'High', 'Low', 'Close', 'Volume'], dtype='object', name='Price')"
      ]
     },
     "execution_count": 25,
     "metadata": {},
     "output_type": "execute_result"
    }
   ],
   "source": [
    "df_flattened.columns"
   ]
  },
  {
   "cell_type": "code",
   "execution_count": null,
   "id": "928e865e-8649-4a36-811e-10fe07821246",
   "metadata": {},
   "outputs": [],
   "source": [
    "create_price_table_staging = \"\"\"\n",
    "CREATE TABLE IF NOT EXISTS prices_staging (\n",
    "    ticker TEXT NOT NULL,\n",
    "    timestamp TIMESTAMPTZ NOT NULL,\n",
    "    price NUMERIC,\n",
    "    volume NUMERIC,\n",
    "    frequency TEXT DEFAULT 'daily',\n",
    "    source_api TEXT,\n",
    "    created_timestamp TIMESTAMPTZ DEFAULT NOW(),\n",
    "    raw_payload JSONB,\n",
    "    PRIMARY KEY (ticker, timestamp)\n",
    ");\n",
    "\"\"\"\n",
    "\n",
    "cursor.execute(create_price_table_staging)\n",
    "conn.commit()"
   ]
  }
 ],
 "metadata": {
  "kernelspec": {
   "display_name": "Python 3 (ipykernel)",
   "language": "python",
   "name": "python3"
  },
  "language_info": {
   "codemirror_mode": {
    "name": "ipython",
    "version": 3
   },
   "file_extension": ".py",
   "mimetype": "text/x-python",
   "name": "python",
   "nbconvert_exporter": "python",
   "pygments_lexer": "ipython3",
   "version": "3.10.12"
  }
 },
 "nbformat": 4,
 "nbformat_minor": 5
}
