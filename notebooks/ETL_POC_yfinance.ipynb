{
 "cells": [
  {
   "cell_type": "markdown",
   "id": "697397d7-d3f5-4af8-a2b8-623f9e416057",
   "metadata": {},
   "source": [
    "# This notebook is a POC for an ETL pipeline, where I load prices from yahoo finance into PostgreSQL staging table, transform it, and then load it into PostgreSQL production table"
   ]
  },
  {
   "cell_type": "markdown",
   "id": "117999dd-95d5-4c12-ab76-e28f4df7d06f",
   "metadata": {},
   "source": [
    "### Import Libraries"
   ]
  },
  {
   "cell_type": "code",
   "execution_count": 1,
   "id": "f56a1303-bd4c-4946-a122-3a119b79c194",
   "metadata": {},
   "outputs": [],
   "source": [
    "# Standard libraries\n",
    "import os\n",
    "import numpy as np\n",
    "import pandas as pd\n",
    "from datetime import datetime\n",
    "import json\n",
    "\n",
    "# Connect to AWS RDS\n",
    "from dotenv import load_dotenv\n",
    "import psycopg2\n",
    "from psycopg2.extensions import connection as Connection\n",
    "from psycopg2 import OperationalError, ProgrammingError, Error\n",
    "\n",
    "# Connect to yahoo finance's API\n",
    "import yfinance as yf\n",
    "\n",
    "# Suppress scientific notation globally\n",
    "pd.set_option('display.float_format', '{:,.2f}'.format)"
   ]
  },
  {
   "cell_type": "markdown",
   "id": "7a0bd68a-87dd-4700-81ae-09a3acfe68e6",
   "metadata": {},
   "source": [
    "### Configuration & Constants"
   ]
  },
  {
   "cell_type": "code",
   "execution_count": 2,
   "id": "3e903e28-47f6-45ed-b017-39f450364562",
   "metadata": {},
   "outputs": [],
   "source": [
    "# Load .env file (searches in the current directory or parent)\n",
    "load_dotenv()\n",
    "\n",
    "# Access environment variables for connecting to my PostgreSQL database\n",
    "rds_host = os.getenv(\"rds_host\")\n",
    "rds_port = int(os.getenv(\"rds_port\"))\n",
    "rds_dbname = os.getenv(\"rds_dbname\")\n",
    "rds_username = os.getenv(\"rds_username\")\n",
    "rds_password = os.getenv(\"rds_password\")"
   ]
  },
  {
   "cell_type": "markdown",
   "id": "c555ca30-0518-4d24-9f18-a9f8fa9baea0",
   "metadata": {},
   "source": [
    "### Helper Functions - DB Connection"
   ]
  },
  {
   "cell_type": "code",
   "execution_count": 3,
   "id": "51f40b17-2a8d-4b12-8bcd-b14d01537408",
   "metadata": {},
   "outputs": [],
   "source": [
    "def connect_to_rds(rds_host: str, rds_port: int, rds_dbname: str, rds_username: str, rds_password: str) -> Connection:\n",
    "    \"\"\"\n",
    "    Connect to AWS RDS database and returns a connection object for querying later\n",
    "    \"\"\"\n",
    "\n",
    "    try:\n",
    "        conn = psycopg2.connect(\n",
    "            host=rds_host,\n",
    "            port=rds_port,\n",
    "            dbname=rds_dbname,\n",
    "            user=rds_username,\n",
    "            password=rds_password\n",
    "        )\n",
    "        print(\"✅ Connected successfully!\")\n",
    "        return conn\n",
    "\n",
    "    except OperationalError as e:\n",
    "        print(\"❌ Operational error (e.g. bad credentials, unreachable host):\", e)\n",
    "        raise\n",
    "    except ProgrammingError as e:\n",
    "        print(\"❌ Programming error (e.g. bad DB name or SQL syntax):\", e)\n",
    "        raise\n",
    "    except Error as e:\n",
    "        print(\"❌ psycopg2 general error:\", e)\n",
    "        raise\n",
    "    except Exception as e:\n",
    "        print(\"❌ Unknown error:\", e)\n",
    "        raise        "
   ]
  },
  {
   "cell_type": "code",
   "execution_count": 27,
   "id": "8988be29-42fb-4012-a146-d4db2a3b2e96",
   "metadata": {},
   "outputs": [],
   "source": [
    "def sql_query_as_df(sql_query: str, cursor) -> pd.DataFrame:\n",
    "    \"\"\"\n",
    "    Given a SQL query (string format), return the query's results as a Pandas dataframe\n",
    "    \"\"\"\n",
    "    # Run query\n",
    "    cursor.execute(sql_query)\n",
    "    \n",
    "    # Fetch all rows\n",
    "    rows = cursor.fetchall()\n",
    "    \n",
    "    # Get column names from the cursor description\n",
    "    column_names = [desc[0] for desc in cursor.description]\n",
    "    \n",
    "    # Convert to DataFrame\n",
    "    df_from_query = pd.DataFrame(rows, columns=column_names)\n",
    "    \n",
    "    return df_from_query"
   ]
  },
  {
   "cell_type": "code",
   "execution_count": 39,
   "id": "a48dbd61-7ed6-4835-9688-5893eb8005a6",
   "metadata": {},
   "outputs": [],
   "source": [
    "def insert_yfinance_payload_by_date(\n",
    "    df_yahoo_finance_api: pd.DataFrame, \n",
    "    cursor: pg_cursor, \n",
    "    conn: connection, \n",
    "    table_name: str=\"tbl_api_payloads_yfinance_daily\"\n",
    "):\n",
    "    \"\"\"\n",
    "    Insert Pandas dataframe (containing yahoo finance API call) into PostgreSQL table tbl_api_payloads_yfinance_daily,\n",
    "    with each row of table containing a business_date's data\n",
    "    \"\"\"\n",
    "    for timestamp in df_yahoo_finance_api.index:\n",
    "        \n",
    "        # Ensure that row of yahoo_finance_api is actually a dataframe, not a series\n",
    "        row_of_df_yahoo_finance_api = df_yahoo_finance_api.loc[[timestamp]]\n",
    "        \n",
    "        # Ensures we have a list of list such as [[\"SPY\",\"Open\"],[\"SPY\",\"High\"],...].  Without orient=\"split\", it would be ('SPY', 'Open')...\n",
    "        json_payload = row_of_df_yahoo_finance_api.to_json(orient = \"split\")\n",
    "    \n",
    "        # Convert timestamp into date (without time component)\n",
    "        business_date = timestamp.date()\n",
    "        \n",
    "        cursor.execute(\n",
    "            f\"\"\"\n",
    "            INSERT INTO {table_name} (business_date, raw_payload)\n",
    "            VALUES (%s, %s)\n",
    "            ON CONFLICT (business_date) DO NOTHING;\n",
    "            \"\"\",\n",
    "            (business_date, json_payload)\n",
    "        )\n",
    "    \n",
    "    conn.commit()"
   ]
  },
  {
   "cell_type": "markdown",
   "id": "9cd4875c-61bc-454e-ad00-875d38f87843",
   "metadata": {},
   "source": [
    "### Set Up Connection"
   ]
  },
  {
   "cell_type": "code",
   "execution_count": 4,
   "id": "1d8df700-8843-4ee7-bc33-f249a8566aaf",
   "metadata": {
    "scrolled": true
   },
   "outputs": [
    {
     "name": "stdout",
     "output_type": "stream",
     "text": [
      "✅ Connected successfully!\n"
     ]
    }
   ],
   "source": [
    "conn = connect_to_rds(rds_host, rds_port, rds_dbname, rds_username, rds_password)\n",
    "cursor = conn.cursor()"
   ]
  },
  {
   "cell_type": "code",
   "execution_count": 5,
   "id": "18cab155-7dee-49eb-af1f-af76d202c1ef",
   "metadata": {},
   "outputs": [],
   "source": [
    "create_tbl_api_payloads_yfinance_daily = \"\"\"\n",
    "CREATE TABLE IF NOT EXISTS tbl_api_payloads_yfinance_daily (\n",
    "    business_date DATE NOT NULL,\n",
    "    ingestion_timestamp TIMESTAMPTZ DEFAULT NOW(),\n",
    "    raw_payload JSONB,\n",
    "    PRIMARY KEY (business_date)\n",
    ");\n",
    "\"\"\"\n",
    "\n",
    "cursor.execute(create_tbl_api_payloads_yfinance_daily)\n",
    "conn.commit()"
   ]
  },
  {
   "cell_type": "code",
   "execution_count": 6,
   "id": "ca85c628-7acc-49ec-9cdd-34fffba8f859",
   "metadata": {},
   "outputs": [],
   "source": [
    "tickers = [\"SPY\",\"QQQ\",\"GLD\"]\n",
    "start_date = '2025-04-01'\n",
    "end_date = '2025-04-11'"
   ]
  },
  {
   "cell_type": "code",
   "execution_count": 7,
   "id": "7dfab498-c736-4e4b-ae4c-1f25adf58917",
   "metadata": {},
   "outputs": [
    {
     "name": "stdout",
     "output_type": "stream",
     "text": [
      "YF.download() has changed argument auto_adjust default to True\n"
     ]
    },
    {
     "name": "stderr",
     "output_type": "stream",
     "text": [
      "[*********************100%***********************]  3 of 3 completed\n"
     ]
    }
   ],
   "source": [
    "df_yahoo_finance_api = yf.download(tickers, start = start_date, end = end_date, period = \"1d\", group_by = \"ticker\")"
   ]
  },
  {
   "cell_type": "code",
   "execution_count": 8,
   "id": "acc65383-8302-4577-b617-c35fc050d931",
   "metadata": {},
   "outputs": [
    {
     "data": {
      "text/html": [
       "<div>\n",
       "<style scoped>\n",
       "    .dataframe tbody tr th:only-of-type {\n",
       "        vertical-align: middle;\n",
       "    }\n",
       "\n",
       "    .dataframe tbody tr th {\n",
       "        vertical-align: top;\n",
       "    }\n",
       "\n",
       "    .dataframe thead tr th {\n",
       "        text-align: left;\n",
       "    }\n",
       "\n",
       "    .dataframe thead tr:last-of-type th {\n",
       "        text-align: right;\n",
       "    }\n",
       "</style>\n",
       "<table border=\"1\" class=\"dataframe\">\n",
       "  <thead>\n",
       "    <tr>\n",
       "      <th>Ticker</th>\n",
       "      <th colspan=\"5\" halign=\"left\">SPY</th>\n",
       "      <th colspan=\"5\" halign=\"left\">GLD</th>\n",
       "      <th colspan=\"5\" halign=\"left\">QQQ</th>\n",
       "    </tr>\n",
       "    <tr>\n",
       "      <th>Price</th>\n",
       "      <th>Open</th>\n",
       "      <th>High</th>\n",
       "      <th>Low</th>\n",
       "      <th>Close</th>\n",
       "      <th>Volume</th>\n",
       "      <th>Open</th>\n",
       "      <th>High</th>\n",
       "      <th>Low</th>\n",
       "      <th>Close</th>\n",
       "      <th>Volume</th>\n",
       "      <th>Open</th>\n",
       "      <th>High</th>\n",
       "      <th>Low</th>\n",
       "      <th>Close</th>\n",
       "      <th>Volume</th>\n",
       "    </tr>\n",
       "    <tr>\n",
       "      <th>Date</th>\n",
       "      <th></th>\n",
       "      <th></th>\n",
       "      <th></th>\n",
       "      <th></th>\n",
       "      <th></th>\n",
       "      <th></th>\n",
       "      <th></th>\n",
       "      <th></th>\n",
       "      <th></th>\n",
       "      <th></th>\n",
       "      <th></th>\n",
       "      <th></th>\n",
       "      <th></th>\n",
       "      <th></th>\n",
       "      <th></th>\n",
       "    </tr>\n",
       "  </thead>\n",
       "  <tbody>\n",
       "    <tr>\n",
       "      <th>2025-04-01</th>\n",
       "      <td>557.45</td>\n",
       "      <td>562.94</td>\n",
       "      <td>553.68</td>\n",
       "      <td>560.97</td>\n",
       "      <td>54609600</td>\n",
       "      <td>288.54</td>\n",
       "      <td>289.13</td>\n",
       "      <td>285.91</td>\n",
       "      <td>287.57</td>\n",
       "      <td>15923600</td>\n",
       "      <td>467.30</td>\n",
       "      <td>473.63</td>\n",
       "      <td>464.42</td>\n",
       "      <td>472.70</td>\n",
       "      <td>41156200</td>\n",
       "    </tr>\n",
       "    <tr>\n",
       "      <th>2025-04-02</th>\n",
       "      <td>555.05</td>\n",
       "      <td>567.42</td>\n",
       "      <td>554.81</td>\n",
       "      <td>564.52</td>\n",
       "      <td>76014500</td>\n",
       "      <td>288.28</td>\n",
       "      <td>289.03</td>\n",
       "      <td>287.36</td>\n",
       "      <td>288.16</td>\n",
       "      <td>11074800</td>\n",
       "      <td>466.12</td>\n",
       "      <td>479.56</td>\n",
       "      <td>465.86</td>\n",
       "      <td>476.15</td>\n",
       "      <td>49894500</td>\n",
       "    </tr>\n",
       "    <tr>\n",
       "      <th>2025-04-03</th>\n",
       "      <td>545.11</td>\n",
       "      <td>547.97</td>\n",
       "      <td>536.70</td>\n",
       "      <td>536.70</td>\n",
       "      <td>125986000</td>\n",
       "      <td>282.78</td>\n",
       "      <td>289.09</td>\n",
       "      <td>282.45</td>\n",
       "      <td>286.42</td>\n",
       "      <td>20524400</td>\n",
       "      <td>456.44</td>\n",
       "      <td>460.07</td>\n",
       "      <td>450.14</td>\n",
       "      <td>450.66</td>\n",
       "      <td>70456300</td>\n",
       "    </tr>\n",
       "    <tr>\n",
       "      <th>2025-04-04</th>\n",
       "      <td>523.67</td>\n",
       "      <td>525.87</td>\n",
       "      <td>505.06</td>\n",
       "      <td>505.28</td>\n",
       "      <td>217965100</td>\n",
       "      <td>283.64</td>\n",
       "      <td>284.03</td>\n",
       "      <td>278.02</td>\n",
       "      <td>279.72</td>\n",
       "      <td>21517200</td>\n",
       "      <td>438.14</td>\n",
       "      <td>440.37</td>\n",
       "      <td>422.67</td>\n",
       "      <td>422.67</td>\n",
       "      <td>117088400</td>\n",
       "    </tr>\n",
       "    <tr>\n",
       "      <th>2025-04-07</th>\n",
       "      <td>489.19</td>\n",
       "      <td>523.17</td>\n",
       "      <td>481.80</td>\n",
       "      <td>504.38</td>\n",
       "      <td>256611400</td>\n",
       "      <td>278.86</td>\n",
       "      <td>280.14</td>\n",
       "      <td>272.58</td>\n",
       "      <td>273.71</td>\n",
       "      <td>19807000</td>\n",
       "      <td>408.66</td>\n",
       "      <td>443.14</td>\n",
       "      <td>402.39</td>\n",
       "      <td>423.69</td>\n",
       "      <td>161557000</td>\n",
       "    </tr>\n",
       "    <tr>\n",
       "      <th>2025-04-08</th>\n",
       "      <td>521.86</td>\n",
       "      <td>524.98</td>\n",
       "      <td>489.16</td>\n",
       "      <td>496.48</td>\n",
       "      <td>165816600</td>\n",
       "      <td>277.87</td>\n",
       "      <td>278.32</td>\n",
       "      <td>274.24</td>\n",
       "      <td>275.20</td>\n",
       "      <td>12639500</td>\n",
       "      <td>438.16</td>\n",
       "      <td>443.14</td>\n",
       "      <td>409.79</td>\n",
       "      <td>416.06</td>\n",
       "      <td>101248100</td>\n",
       "    </tr>\n",
       "    <tr>\n",
       "      <th>2025-04-09</th>\n",
       "      <td>493.44</td>\n",
       "      <td>548.62</td>\n",
       "      <td>493.05</td>\n",
       "      <td>548.62</td>\n",
       "      <td>241867300</td>\n",
       "      <td>282.22</td>\n",
       "      <td>285.87</td>\n",
       "      <td>281.04</td>\n",
       "      <td>285.38</td>\n",
       "      <td>25342200</td>\n",
       "      <td>415.57</td>\n",
       "      <td>467.83</td>\n",
       "      <td>415.43</td>\n",
       "      <td>466.00</td>\n",
       "      <td>142876900</td>\n",
       "    </tr>\n",
       "    <tr>\n",
       "      <th>2025-04-10</th>\n",
       "      <td>532.17</td>\n",
       "      <td>533.50</td>\n",
       "      <td>509.32</td>\n",
       "      <td>524.58</td>\n",
       "      <td>162331200</td>\n",
       "      <td>288.81</td>\n",
       "      <td>292.86</td>\n",
       "      <td>287.23</td>\n",
       "      <td>292.35</td>\n",
       "      <td>19837800</td>\n",
       "      <td>453.56</td>\n",
       "      <td>455.59</td>\n",
       "      <td>432.63</td>\n",
       "      <td>446.18</td>\n",
       "      <td>108384100</td>\n",
       "    </tr>\n",
       "  </tbody>\n",
       "</table>\n",
       "</div>"
      ],
      "text/plain": [
       "Ticker        SPY                                    GLD                       \\\n",
       "Price        Open   High    Low  Close     Volume   Open   High    Low  Close   \n",
       "Date                                                                            \n",
       "2025-04-01 557.45 562.94 553.68 560.97   54609600 288.54 289.13 285.91 287.57   \n",
       "2025-04-02 555.05 567.42 554.81 564.52   76014500 288.28 289.03 287.36 288.16   \n",
       "2025-04-03 545.11 547.97 536.70 536.70  125986000 282.78 289.09 282.45 286.42   \n",
       "2025-04-04 523.67 525.87 505.06 505.28  217965100 283.64 284.03 278.02 279.72   \n",
       "2025-04-07 489.19 523.17 481.80 504.38  256611400 278.86 280.14 272.58 273.71   \n",
       "2025-04-08 521.86 524.98 489.16 496.48  165816600 277.87 278.32 274.24 275.20   \n",
       "2025-04-09 493.44 548.62 493.05 548.62  241867300 282.22 285.87 281.04 285.38   \n",
       "2025-04-10 532.17 533.50 509.32 524.58  162331200 288.81 292.86 287.23 292.35   \n",
       "\n",
       "Ticker                  QQQ                                  \n",
       "Price         Volume   Open   High    Low  Close     Volume  \n",
       "Date                                                         \n",
       "2025-04-01  15923600 467.30 473.63 464.42 472.70   41156200  \n",
       "2025-04-02  11074800 466.12 479.56 465.86 476.15   49894500  \n",
       "2025-04-03  20524400 456.44 460.07 450.14 450.66   70456300  \n",
       "2025-04-04  21517200 438.14 440.37 422.67 422.67  117088400  \n",
       "2025-04-07  19807000 408.66 443.14 402.39 423.69  161557000  \n",
       "2025-04-08  12639500 438.16 443.14 409.79 416.06  101248100  \n",
       "2025-04-09  25342200 415.57 467.83 415.43 466.00  142876900  \n",
       "2025-04-10  19837800 453.56 455.59 432.63 446.18  108384100  "
      ]
     },
     "execution_count": 8,
     "metadata": {},
     "output_type": "execute_result"
    }
   ],
   "source": [
    "df_yahoo_finance_api"
   ]
  },
  {
   "cell_type": "code",
   "execution_count": 9,
   "id": "e4f153a0-a383-4ae8-a972-283a27461680",
   "metadata": {},
   "outputs": [
    {
     "data": {
      "text/plain": [
       "DatetimeIndex(['2025-04-01', '2025-04-02', '2025-04-03', '2025-04-04',\n",
       "               '2025-04-07', '2025-04-08', '2025-04-09', '2025-04-10'],\n",
       "              dtype='datetime64[ns]', name='Date', freq=None)"
      ]
     },
     "execution_count": 9,
     "metadata": {},
     "output_type": "execute_result"
    }
   ],
   "source": [
    "df_yahoo_finance_api.index"
   ]
  },
  {
   "cell_type": "code",
   "execution_count": 10,
   "id": "9a5ebf63-7e5f-4d81-8864-521bc1929cf6",
   "metadata": {},
   "outputs": [
    {
     "data": {
      "text/plain": [
       "MultiIndex([('SPY',   'Open'),\n",
       "            ('SPY',   'High'),\n",
       "            ('SPY',    'Low'),\n",
       "            ('SPY',  'Close'),\n",
       "            ('SPY', 'Volume'),\n",
       "            ('GLD',   'Open'),\n",
       "            ('GLD',   'High'),\n",
       "            ('GLD',    'Low'),\n",
       "            ('GLD',  'Close'),\n",
       "            ('GLD', 'Volume'),\n",
       "            ('QQQ',   'Open'),\n",
       "            ('QQQ',   'High'),\n",
       "            ('QQQ',    'Low'),\n",
       "            ('QQQ',  'Close'),\n",
       "            ('QQQ', 'Volume')],\n",
       "           names=['Ticker', 'Price'])"
      ]
     },
     "execution_count": 10,
     "metadata": {},
     "output_type": "execute_result"
    }
   ],
   "source": [
    "df_yahoo_finance_api.columns"
   ]
  },
  {
   "cell_type": "code",
   "execution_count": 11,
   "id": "4d82d7f4-8bdf-4f45-82b5-8c9076bc4e52",
   "metadata": {},
   "outputs": [],
   "source": [
    "# Extract the first date\n",
    "index_0 = df_yahoo_finance_api.index[0]\n",
    "# A single row is a Pandas series with multiIndex (Ticker, Price)\n",
    "df_yf_raw_0 = df_yahoo_finance_api.loc[[index_0]]"
   ]
  },
  {
   "cell_type": "code",
   "execution_count": 12,
   "id": "73b25883-fc14-4220-96c3-b3748bf92f0f",
   "metadata": {},
   "outputs": [
    {
     "data": {
      "text/html": [
       "<div>\n",
       "<style scoped>\n",
       "    .dataframe tbody tr th:only-of-type {\n",
       "        vertical-align: middle;\n",
       "    }\n",
       "\n",
       "    .dataframe tbody tr th {\n",
       "        vertical-align: top;\n",
       "    }\n",
       "\n",
       "    .dataframe thead tr th {\n",
       "        text-align: left;\n",
       "    }\n",
       "\n",
       "    .dataframe thead tr:last-of-type th {\n",
       "        text-align: right;\n",
       "    }\n",
       "</style>\n",
       "<table border=\"1\" class=\"dataframe\">\n",
       "  <thead>\n",
       "    <tr>\n",
       "      <th>Ticker</th>\n",
       "      <th colspan=\"5\" halign=\"left\">SPY</th>\n",
       "      <th colspan=\"5\" halign=\"left\">GLD</th>\n",
       "      <th colspan=\"5\" halign=\"left\">QQQ</th>\n",
       "    </tr>\n",
       "    <tr>\n",
       "      <th>Price</th>\n",
       "      <th>Open</th>\n",
       "      <th>High</th>\n",
       "      <th>Low</th>\n",
       "      <th>Close</th>\n",
       "      <th>Volume</th>\n",
       "      <th>Open</th>\n",
       "      <th>High</th>\n",
       "      <th>Low</th>\n",
       "      <th>Close</th>\n",
       "      <th>Volume</th>\n",
       "      <th>Open</th>\n",
       "      <th>High</th>\n",
       "      <th>Low</th>\n",
       "      <th>Close</th>\n",
       "      <th>Volume</th>\n",
       "    </tr>\n",
       "    <tr>\n",
       "      <th>Date</th>\n",
       "      <th></th>\n",
       "      <th></th>\n",
       "      <th></th>\n",
       "      <th></th>\n",
       "      <th></th>\n",
       "      <th></th>\n",
       "      <th></th>\n",
       "      <th></th>\n",
       "      <th></th>\n",
       "      <th></th>\n",
       "      <th></th>\n",
       "      <th></th>\n",
       "      <th></th>\n",
       "      <th></th>\n",
       "      <th></th>\n",
       "    </tr>\n",
       "  </thead>\n",
       "  <tbody>\n",
       "    <tr>\n",
       "      <th>2025-04-01</th>\n",
       "      <td>557.45</td>\n",
       "      <td>562.94</td>\n",
       "      <td>553.68</td>\n",
       "      <td>560.97</td>\n",
       "      <td>54609600</td>\n",
       "      <td>288.54</td>\n",
       "      <td>289.13</td>\n",
       "      <td>285.91</td>\n",
       "      <td>287.57</td>\n",
       "      <td>15923600</td>\n",
       "      <td>467.30</td>\n",
       "      <td>473.63</td>\n",
       "      <td>464.42</td>\n",
       "      <td>472.70</td>\n",
       "      <td>41156200</td>\n",
       "    </tr>\n",
       "  </tbody>\n",
       "</table>\n",
       "</div>"
      ],
      "text/plain": [
       "Ticker        SPY                                   GLD                       \\\n",
       "Price        Open   High    Low  Close    Volume   Open   High    Low  Close   \n",
       "Date                                                                           \n",
       "2025-04-01 557.45 562.94 553.68 560.97  54609600 288.54 289.13 285.91 287.57   \n",
       "\n",
       "Ticker                  QQQ                                 \n",
       "Price         Volume   Open   High    Low  Close    Volume  \n",
       "Date                                                        \n",
       "2025-04-01  15923600 467.30 473.63 464.42 472.70  41156200  "
      ]
     },
     "execution_count": 12,
     "metadata": {},
     "output_type": "execute_result"
    }
   ],
   "source": [
    "df_yf_raw_0"
   ]
  },
  {
   "cell_type": "code",
   "execution_count": 13,
   "id": "0108f4a2-7328-4cb2-a7bd-dcfc883bc118",
   "metadata": {},
   "outputs": [
    {
     "data": {
      "text/plain": [
       "MultiIndex([('SPY',   'Open'),\n",
       "            ('SPY',   'High'),\n",
       "            ('SPY',    'Low'),\n",
       "            ('SPY',  'Close'),\n",
       "            ('SPY', 'Volume'),\n",
       "            ('GLD',   'Open'),\n",
       "            ('GLD',   'High'),\n",
       "            ('GLD',    'Low'),\n",
       "            ('GLD',  'Close'),\n",
       "            ('GLD', 'Volume'),\n",
       "            ('QQQ',   'Open'),\n",
       "            ('QQQ',   'High'),\n",
       "            ('QQQ',    'Low'),\n",
       "            ('QQQ',  'Close'),\n",
       "            ('QQQ', 'Volume')],\n",
       "           names=['Ticker', 'Price'])"
      ]
     },
     "execution_count": 13,
     "metadata": {},
     "output_type": "execute_result"
    }
   ],
   "source": [
    "df_yf_raw_0.columns"
   ]
  },
  {
   "cell_type": "code",
   "execution_count": 14,
   "id": "8a81f62e-7a9a-487f-beae-af7110833f79",
   "metadata": {},
   "outputs": [
    {
     "data": {
      "text/plain": [
       "'{\"columns\":[[\"SPY\",\"Open\"],[\"SPY\",\"High\"],[\"SPY\",\"Low\"],[\"SPY\",\"Close\"],[\"SPY\",\"Volume\"],[\"GLD\",\"Open\"],[\"GLD\",\"High\"],[\"GLD\",\"Low\"],[\"GLD\",\"Close\"],[\"GLD\",\"Volume\"],[\"QQQ\",\"Open\"],[\"QQQ\",\"High\"],[\"QQQ\",\"Low\"],[\"QQQ\",\"Close\"],[\"QQQ\",\"Volume\"]],\"index\":[1743465600000],\"data\":[[557.450012207,562.9400024414,553.6799926758,560.9699707031,54609600,288.5400085449,289.1300048828,285.9100036621,287.5700073242,15923600,467.299987793,473.6300048828,464.4200134277,472.700012207,41156200]]}'"
      ]
     },
     "execution_count": 14,
     "metadata": {},
     "output_type": "execute_result"
    }
   ],
   "source": [
    "df_json = df_yf_raw_0.to_json(orient='split')\n",
    "df_json"
   ]
  },
  {
   "cell_type": "markdown",
   "id": "06dd325d-4500-4e58-9afd-81ed62c9ebf0",
   "metadata": {},
   "source": [
    "### Create a function to write to the \"bronze\" table"
   ]
  },
  {
   "cell_type": "code",
   "execution_count": 15,
   "id": "c2473573-cebd-4967-8110-eaacac788238",
   "metadata": {},
   "outputs": [
    {
     "data": {
      "text/plain": [
       "Timestamp('2025-04-01 00:00:00')"
      ]
     },
     "execution_count": 15,
     "metadata": {},
     "output_type": "execute_result"
    }
   ],
   "source": [
    "index_0"
   ]
  },
  {
   "cell_type": "code",
   "execution_count": 40,
   "id": "054287f1-f649-40c5-9602-5679fd59b2f0",
   "metadata": {},
   "outputs": [],
   "source": [
    "# To do: we need to make this function better, i.e. - error handling, logging, etc.\n",
    "insert_yfinance_payload_by_date(df_yahoo_finance_api, cursor, conn, \"tbl_api_payloads_yfinance_daily\")"
   ]
  },
  {
   "cell_type": "code",
   "execution_count": 41,
   "id": "eed6c11e-3df3-4163-bac7-0882ef63f45a",
   "metadata": {},
   "outputs": [
    {
     "data": {
      "text/html": [
       "<div>\n",
       "<style scoped>\n",
       "    .dataframe tbody tr th:only-of-type {\n",
       "        vertical-align: middle;\n",
       "    }\n",
       "\n",
       "    .dataframe tbody tr th {\n",
       "        vertical-align: top;\n",
       "    }\n",
       "\n",
       "    .dataframe thead th {\n",
       "        text-align: right;\n",
       "    }\n",
       "</style>\n",
       "<table border=\"1\" class=\"dataframe\">\n",
       "  <thead>\n",
       "    <tr style=\"text-align: right;\">\n",
       "      <th></th>\n",
       "      <th>business_date</th>\n",
       "      <th>ingestion_timestamp</th>\n",
       "      <th>raw_payload</th>\n",
       "    </tr>\n",
       "  </thead>\n",
       "  <tbody>\n",
       "    <tr>\n",
       "      <th>0</th>\n",
       "      <td>2025-04-01</td>\n",
       "      <td>2025-04-17 18:25:52.444728+00:00</td>\n",
       "      <td>{'data': [[557.450012207, 562.9400024414, 553....</td>\n",
       "    </tr>\n",
       "    <tr>\n",
       "      <th>1</th>\n",
       "      <td>2025-04-02</td>\n",
       "      <td>2025-04-17 18:25:52.444728+00:00</td>\n",
       "      <td>{'data': [[555.049987793, 567.4199829102, 554....</td>\n",
       "    </tr>\n",
       "    <tr>\n",
       "      <th>2</th>\n",
       "      <td>2025-04-03</td>\n",
       "      <td>2025-04-17 18:25:52.444728+00:00</td>\n",
       "      <td>{'data': [[545.1099853516, 547.9699707031, 536...</td>\n",
       "    </tr>\n",
       "    <tr>\n",
       "      <th>3</th>\n",
       "      <td>2025-04-04</td>\n",
       "      <td>2025-04-17 18:25:52.444728+00:00</td>\n",
       "      <td>{'data': [[523.6699829102, 525.8699951172, 505...</td>\n",
       "    </tr>\n",
       "    <tr>\n",
       "      <th>4</th>\n",
       "      <td>2025-04-07</td>\n",
       "      <td>2025-04-17 18:25:52.444728+00:00</td>\n",
       "      <td>{'data': [[489.1900024414, 523.1699829102, 481...</td>\n",
       "    </tr>\n",
       "    <tr>\n",
       "      <th>5</th>\n",
       "      <td>2025-04-08</td>\n",
       "      <td>2025-04-17 18:25:52.444728+00:00</td>\n",
       "      <td>{'data': [[521.8599853516, 524.9799804688, 489...</td>\n",
       "    </tr>\n",
       "    <tr>\n",
       "      <th>6</th>\n",
       "      <td>2025-04-09</td>\n",
       "      <td>2025-04-17 18:25:52.444728+00:00</td>\n",
       "      <td>{'data': [[493.4400024414, 548.6199951172, 493...</td>\n",
       "    </tr>\n",
       "    <tr>\n",
       "      <th>7</th>\n",
       "      <td>2025-04-10</td>\n",
       "      <td>2025-04-17 18:25:52.444728+00:00</td>\n",
       "      <td>{'data': [[532.1699829102, 533.5, 509.32000732...</td>\n",
       "    </tr>\n",
       "  </tbody>\n",
       "</table>\n",
       "</div>"
      ],
      "text/plain": [
       "  business_date              ingestion_timestamp  \\\n",
       "0    2025-04-01 2025-04-17 18:25:52.444728+00:00   \n",
       "1    2025-04-02 2025-04-17 18:25:52.444728+00:00   \n",
       "2    2025-04-03 2025-04-17 18:25:52.444728+00:00   \n",
       "3    2025-04-04 2025-04-17 18:25:52.444728+00:00   \n",
       "4    2025-04-07 2025-04-17 18:25:52.444728+00:00   \n",
       "5    2025-04-08 2025-04-17 18:25:52.444728+00:00   \n",
       "6    2025-04-09 2025-04-17 18:25:52.444728+00:00   \n",
       "7    2025-04-10 2025-04-17 18:25:52.444728+00:00   \n",
       "\n",
       "                                         raw_payload  \n",
       "0  {'data': [[557.450012207, 562.9400024414, 553....  \n",
       "1  {'data': [[555.049987793, 567.4199829102, 554....  \n",
       "2  {'data': [[545.1099853516, 547.9699707031, 536...  \n",
       "3  {'data': [[523.6699829102, 525.8699951172, 505...  \n",
       "4  {'data': [[489.1900024414, 523.1699829102, 481...  \n",
       "5  {'data': [[521.8599853516, 524.9799804688, 489...  \n",
       "6  {'data': [[493.4400024414, 548.6199951172, 493...  \n",
       "7  {'data': [[532.1699829102, 533.5, 509.32000732...  "
      ]
     },
     "execution_count": 41,
     "metadata": {},
     "output_type": "execute_result"
    }
   ],
   "source": [
    "view_table_query = \"\"\"\n",
    "SELECT * FROM tbl_api_payloads_yfinance_daily;\n",
    "\"\"\"\n",
    "\n",
    "df_view = sql_query_as_df(sql_query = view_table_query, cursor = cursor)\n",
    "df_view"
   ]
  },
  {
   "cell_type": "markdown",
   "id": "73314785-fddd-4291-a6b8-d9411bc05054",
   "metadata": {},
   "source": [
    "### How to recover the original API call object"
   ]
  },
  {
   "cell_type": "code",
   "execution_count": 42,
   "id": "3046c051-6799-486e-bf4d-1ae2d5320b7a",
   "metadata": {},
   "outputs": [],
   "source": [
    "# To do: we need a function for recovering the original API payload from yfinance, given a dataframe from tbl_api_payloads_yfinance_daily\n",
    "# To do: we also need to create an ETL pipeline next to go from bronze table tbl_api_payloads_yfinance_daily to silver table blah_blah_staging"
   ]
  },
  {
   "cell_type": "code",
   "execution_count": 34,
   "id": "ca84f72f-1ff4-4417-be25-452a80322808",
   "metadata": {},
   "outputs": [
    {
     "data": {
      "text/plain": [
       "business_date                       object\n",
       "ingestion_timestamp    datetime64[ns, UTC]\n",
       "raw_payload                         object\n",
       "dtype: object"
      ]
     },
     "execution_count": 34,
     "metadata": {},
     "output_type": "execute_result"
    }
   ],
   "source": [
    "df_view.dtypes"
   ]
  },
  {
   "cell_type": "code",
   "execution_count": 37,
   "id": "ea8d2429-ae6f-40bf-b24e-e89f66da32e4",
   "metadata": {},
   "outputs": [
    {
     "data": {
      "text/plain": [
       "{'data': [[557.450012207,\n",
       "   562.9400024414,\n",
       "   553.6799926758,\n",
       "   560.9699707031,\n",
       "   54609600,\n",
       "   288.5400085449,\n",
       "   289.1300048828,\n",
       "   285.9100036621,\n",
       "   287.5700073242,\n",
       "   15923600,\n",
       "   467.299987793,\n",
       "   473.6300048828,\n",
       "   464.4200134277,\n",
       "   472.700012207,\n",
       "   41156200]],\n",
       " 'index': [1743465600000],\n",
       " 'columns': [['SPY', 'Open'],\n",
       "  ['SPY', 'High'],\n",
       "  ['SPY', 'Low'],\n",
       "  ['SPY', 'Close'],\n",
       "  ['SPY', 'Volume'],\n",
       "  ['GLD', 'Open'],\n",
       "  ['GLD', 'High'],\n",
       "  ['GLD', 'Low'],\n",
       "  ['GLD', 'Close'],\n",
       "  ['GLD', 'Volume'],\n",
       "  ['QQQ', 'Open'],\n",
       "  ['QQQ', 'High'],\n",
       "  ['QQQ', 'Low'],\n",
       "  ['QQQ', 'Close'],\n",
       "  ['QQQ', 'Volume']]}"
      ]
     },
     "execution_count": 37,
     "metadata": {},
     "output_type": "execute_result"
    }
   ],
   "source": [
    "df_view[\"raw_payload\"][0]"
   ]
  },
  {
   "cell_type": "code",
   "execution_count": null,
   "id": "99f3b8b8-9210-4605-bf61-de830777cd39",
   "metadata": {},
   "outputs": [],
   "source": []
  },
  {
   "cell_type": "code",
   "execution_count": 31,
   "id": "c260c1fb-74cc-4381-bee8-172a35514b72",
   "metadata": {},
   "outputs": [
    {
     "data": {
      "text/plain": [
       "'{\"columns\":[[\"SPY\",\"Open\"],[\"SPY\",\"High\"],[\"SPY\",\"Low\"],[\"SPY\",\"Close\"],[\"SPY\",\"Volume\"],[\"GLD\",\"Open\"],[\"GLD\",\"High\"],[\"GLD\",\"Low\"],[\"GLD\",\"Close\"],[\"GLD\",\"Volume\"],[\"QQQ\",\"Open\"],[\"QQQ\",\"High\"],[\"QQQ\",\"Low\"],[\"QQQ\",\"Close\"],[\"QQQ\",\"Volume\"]],\"index\":[1743465600000],\"data\":[[557.450012207,562.9400024414,553.6799926758,560.9699707031,54609600,288.5400085449,289.1300048828,285.9100036621,287.5700073242,15923600,467.299987793,473.6300048828,464.4200134277,472.700012207,41156200]]}'"
      ]
     },
     "execution_count": 31,
     "metadata": {},
     "output_type": "execute_result"
    }
   ],
   "source": [
    "df_json"
   ]
  },
  {
   "cell_type": "code",
   "execution_count": 30,
   "id": "aa582bc5-33a8-4df5-b2aa-fd0a4e035346",
   "metadata": {},
   "outputs": [
    {
     "name": "stderr",
     "output_type": "stream",
     "text": [
      "/tmp/ipykernel_2741/1482399823.py:1: FutureWarning: Passing literal json to 'read_json' is deprecated and will be removed in a future version. To read from a literal string, wrap it in a 'StringIO' object.\n",
      "  df_back = pd.read_json(df_json, orient='split')\n"
     ]
    },
    {
     "data": {
      "text/html": [
       "<div>\n",
       "<style scoped>\n",
       "    .dataframe tbody tr th:only-of-type {\n",
       "        vertical-align: middle;\n",
       "    }\n",
       "\n",
       "    .dataframe tbody tr th {\n",
       "        vertical-align: top;\n",
       "    }\n",
       "\n",
       "    .dataframe thead tr th {\n",
       "        text-align: left;\n",
       "    }\n",
       "</style>\n",
       "<table border=\"1\" class=\"dataframe\">\n",
       "  <thead>\n",
       "    <tr>\n",
       "      <th>Ticker</th>\n",
       "      <th colspan=\"5\" halign=\"left\">SPY</th>\n",
       "      <th colspan=\"5\" halign=\"left\">GLD</th>\n",
       "      <th colspan=\"5\" halign=\"left\">QQQ</th>\n",
       "    </tr>\n",
       "    <tr>\n",
       "      <th>Price</th>\n",
       "      <th>Open</th>\n",
       "      <th>High</th>\n",
       "      <th>Low</th>\n",
       "      <th>Close</th>\n",
       "      <th>Volume</th>\n",
       "      <th>Open</th>\n",
       "      <th>High</th>\n",
       "      <th>Low</th>\n",
       "      <th>Close</th>\n",
       "      <th>Volume</th>\n",
       "      <th>Open</th>\n",
       "      <th>High</th>\n",
       "      <th>Low</th>\n",
       "      <th>Close</th>\n",
       "      <th>Volume</th>\n",
       "    </tr>\n",
       "  </thead>\n",
       "  <tbody>\n",
       "    <tr>\n",
       "      <th>2025-04-01</th>\n",
       "      <td>557.45</td>\n",
       "      <td>562.94</td>\n",
       "      <td>553.68</td>\n",
       "      <td>560.97</td>\n",
       "      <td>54609600</td>\n",
       "      <td>288.54</td>\n",
       "      <td>289.13</td>\n",
       "      <td>285.91</td>\n",
       "      <td>287.57</td>\n",
       "      <td>15923600</td>\n",
       "      <td>467.30</td>\n",
       "      <td>473.63</td>\n",
       "      <td>464.42</td>\n",
       "      <td>472.70</td>\n",
       "      <td>41156200</td>\n",
       "    </tr>\n",
       "  </tbody>\n",
       "</table>\n",
       "</div>"
      ],
      "text/plain": [
       "Ticker        SPY                                   GLD                       \\\n",
       "Price        Open   High    Low  Close    Volume   Open   High    Low  Close   \n",
       "2025-04-01 557.45 562.94 553.68 560.97  54609600 288.54 289.13 285.91 287.57   \n",
       "\n",
       "Ticker                  QQQ                                 \n",
       "Price         Volume   Open   High    Low  Close    Volume  \n",
       "2025-04-01  15923600 467.30 473.63 464.42 472.70  41156200  "
      ]
     },
     "execution_count": 30,
     "metadata": {},
     "output_type": "execute_result"
    }
   ],
   "source": [
    "df_back = pd.read_json(df_json, orient='split')\n",
    "df_back.columns = pd.MultiIndex.from_tuples(df_back.columns, names=['Ticker', 'Price'])\n",
    "df_back"
   ]
  },
  {
   "cell_type": "code",
   "execution_count": null,
   "id": "2558aa80-dcf8-453c-81a9-23c23d69d93c",
   "metadata": {},
   "outputs": [],
   "source": []
  },
  {
   "cell_type": "code",
   "execution_count": null,
   "id": "65240d17-525c-41a1-b007-e25bf58f68a0",
   "metadata": {},
   "outputs": [],
   "source": []
  },
  {
   "cell_type": "code",
   "execution_count": null,
   "id": "928e865e-8649-4a36-811e-10fe07821246",
   "metadata": {},
   "outputs": [],
   "source": [
    "create_price_table_staging = \"\"\"\n",
    "CREATE TABLE IF NOT EXISTS prices_staging (\n",
    "    ticker TEXT NOT NULL,\n",
    "    timestamp TIMESTAMPTZ NOT NULL,\n",
    "    price NUMERIC,\n",
    "    volume NUMERIC,\n",
    "    frequency TEXT DEFAULT 'daily',\n",
    "    source_api TEXT,\n",
    "    created_timestamp TIMESTAMPTZ DEFAULT NOW(),\n",
    "    raw_payload JSONB,\n",
    "    PRIMARY KEY (ticker, timestamp)\n",
    ");\n",
    "\"\"\"\n",
    "\n",
    "cursor.execute(create_price_table_staging)\n",
    "conn.commit()"
   ]
  },
  {
   "cell_type": "markdown",
   "id": "97954aee-25ed-4b38-8e74-6e7efcdf9d7f",
   "metadata": {},
   "source": [
    "Okay, please summary what we are doing in each of the 3 stages: bronze, silver, and gold tables for me.  To my knowledge (and correct me if I am wrong):\n",
    "- Raw API payload is 3D, dimensionalized over: (ticker, price/volume/etc, date)\n",
    "- Bronze (tbl_api_payload_yfinance_daily): we are still re-shaping the raw API payload, because the rows of bronze table are keyed on date, so each row/date has a json structure containing (ticker, price/volume/etc).  Additionally, because we cannot store multi-indices in a json directly, we also have to flatten/unroll the multi-index into rows of keys of (ticker, price/volume/etc) mapping to a value such as $100\n",
    "- Silver (tbl_prices_daily_staging or something like that): Now, we're moved 1 more dimension over into the key, so the key is now (date, ticker) and maps to a value which is (price/volume/etc)\n",
    "- Gold (tbl_prices_daily_prod or something like that): still the same dimensions, keyed on (date, ticker) mapping to a (price/volume/etc), but we've adjusted for dividends, stock splits, etc such that the gold table's values can be directly fed into a machine learning algorithm and/or financial engineering models"
   ]
  },
  {
   "cell_type": "code",
   "execution_count": null,
   "id": "c1238b2a-8fcb-4bdd-a765-1fddf9d9ca03",
   "metadata": {},
   "outputs": [],
   "source": []
  }
 ],
 "metadata": {
  "kernelspec": {
   "display_name": "Python 3 (ipykernel)",
   "language": "python",
   "name": "python3"
  },
  "language_info": {
   "codemirror_mode": {
    "name": "ipython",
    "version": 3
   },
   "file_extension": ".py",
   "mimetype": "text/x-python",
   "name": "python",
   "nbconvert_exporter": "python",
   "pygments_lexer": "ipython3",
   "version": "3.10.12"
  }
 },
 "nbformat": 4,
 "nbformat_minor": 5
}
