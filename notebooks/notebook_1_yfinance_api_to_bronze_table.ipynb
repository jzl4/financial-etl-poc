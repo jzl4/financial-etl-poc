{
 "cells": [
  {
   "cell_type": "markdown",
   "id": "697397d7-d3f5-4af8-a2b8-623f9e416057",
   "metadata": {},
   "source": [
    "# Notebook 1 - Development work for pulling data from yahoo finance's API and loading it into bronze table tbl_api_payloads_yfinance_daily"
   ]
  },
  {
   "cell_type": "markdown",
   "id": "117999dd-95d5-4c12-ab76-e28f4df7d06f",
   "metadata": {},
   "source": [
    "### Import Libraries"
   ]
  },
  {
   "cell_type": "code",
   "execution_count": 1,
   "id": "f56a1303-bd4c-4946-a122-3a119b79c194",
   "metadata": {},
   "outputs": [],
   "source": [
    "# Standard libraries\n",
    "import os\n",
    "import numpy as np\n",
    "import pandas as pd\n",
    "from datetime import datetime\n",
    "import json\n",
    "\n",
    "# Typing\n",
    "from typing import Tuple, List, Set\n",
    "\n",
    "# Connect to AWS RDS\n",
    "from dotenv import load_dotenv\n",
    "import psycopg2\n",
    "from psycopg2.extensions import connection as Connection\n",
    "from psycopg2.extensions import cursor as Cursor\n",
    "from psycopg2 import OperationalError, ProgrammingError, Error\n",
    "\n",
    "# Connect to yahoo finance's API\n",
    "import yfinance as yf\n",
    "\n",
    "# Suppress scientific notation globally\n",
    "pd.set_option('display.float_format', '{:,.2f}'.format)"
   ]
  },
  {
   "cell_type": "markdown",
   "id": "7a0bd68a-87dd-4700-81ae-09a3acfe68e6",
   "metadata": {},
   "source": [
    "### Configuration & Constants"
   ]
  },
  {
   "cell_type": "code",
   "execution_count": 2,
   "id": "3e903e28-47f6-45ed-b017-39f450364562",
   "metadata": {},
   "outputs": [],
   "source": [
    "# Load .env file (searches in the current directory or parent)\n",
    "load_dotenv()\n",
    "\n",
    "# Access environment variables for connecting to my PostgreSQL database\n",
    "rds_host = os.getenv(\"rds_host\")\n",
    "rds_port = int(os.getenv(\"rds_port\"))\n",
    "rds_dbname = os.getenv(\"rds_dbname\")\n",
    "rds_username = os.getenv(\"rds_username\")\n",
    "rds_password = os.getenv(\"rds_password\")"
   ]
  },
  {
   "cell_type": "markdown",
   "id": "c555ca30-0518-4d24-9f18-a9f8fa9baea0",
   "metadata": {},
   "source": [
    "### Helper Functions - DB Connection"
   ]
  },
  {
   "cell_type": "code",
   "execution_count": 3,
   "id": "51f40b17-2a8d-4b12-8bcd-b14d01537408",
   "metadata": {},
   "outputs": [],
   "source": [
    "def connect_to_rds(rds_host: str, rds_port: int, rds_dbname: str, rds_username: str, rds_password: str) -> Tuple[Connection, Cursor]:\n",
    "    \"\"\"\n",
    "    Connect to AWS RDS database and returns a connection object for querying later\n",
    "    \"\"\"\n",
    "\n",
    "    try:\n",
    "        conn = psycopg2.connect(\n",
    "            host=rds_host,\n",
    "            port=rds_port,\n",
    "            dbname=rds_dbname,\n",
    "            user=rds_username,\n",
    "            password=rds_password\n",
    "        )\n",
    "        cursor = conn.cursor()\n",
    "        print(\"✅ Connected successfully!\")\n",
    "        return conn, cursor\n",
    "\n",
    "    except OperationalError as e:\n",
    "        print(\"❌ Operational error (e.g. bad credentials, unreachable host):\", e)\n",
    "        raise\n",
    "    except ProgrammingError as e:\n",
    "        print(\"❌ Programming error (e.g. bad DB name or SQL syntax):\", e)\n",
    "        raise\n",
    "    except Error as e:\n",
    "        print(\"❌ psycopg2 general error:\", e)\n",
    "        raise\n",
    "    except Exception as e:\n",
    "        print(\"❌ Unknown error:\", e)\n",
    "        raise        "
   ]
  },
  {
   "cell_type": "code",
   "execution_count": 4,
   "id": "8988be29-42fb-4012-a146-d4db2a3b2e96",
   "metadata": {},
   "outputs": [],
   "source": [
    "def sql_query_as_df(sql_query: str, cursor) -> pd.DataFrame:\n",
    "    \"\"\"\n",
    "    Given a SQL query (string format), return the query's results as a Pandas dataframe\n",
    "    \"\"\"\n",
    "    # Run query\n",
    "    cursor.execute(sql_query)\n",
    "    \n",
    "    # Fetch all rows\n",
    "    rows = cursor.fetchall()\n",
    "    \n",
    "    # Get column names from the cursor description\n",
    "    column_names = [desc[0] for desc in cursor.description]\n",
    "    \n",
    "    # Convert to DataFrame\n",
    "    df_from_query = pd.DataFrame(rows, columns=column_names)\n",
    "    \n",
    "    return df_from_query"
   ]
  },
  {
   "cell_type": "code",
   "execution_count": 5,
   "id": "11ff93dc-9737-4c8f-abff-ab37b1508e96",
   "metadata": {},
   "outputs": [],
   "source": [
    "def create_tbl_api_payloads_yfinance_daily(cursor, conn) -> None:\n",
    "    \"\"\"\n",
    "    Create the tbl_api_payloads_yfinance_daily table if it doesn't already exist.\n",
    "    \"\"\"\n",
    "    create_table_sql = \"\"\"\n",
    "    CREATE TABLE IF NOT EXISTS tbl_api_payloads_yfinance_daily (\n",
    "        business_date DATE NOT NULL,\n",
    "        ingestion_timestamp TIMESTAMPTZ DEFAULT NOW(),\n",
    "        raw_payload JSONB,\n",
    "        PRIMARY KEY (business_date)\n",
    "    );\n",
    "    \"\"\"\n",
    "    cursor.execute(create_table_sql)\n",
    "    conn.commit()"
   ]
  },
  {
   "cell_type": "code",
   "execution_count": 6,
   "id": "55bef314-afd2-4149-85a1-cb1e1749ca26",
   "metadata": {},
   "outputs": [],
   "source": [
    "def insert_yfinance_payload_by_date(\n",
    "    df_yahoo_finance_api: pd.DataFrame, \n",
    "    cursor: Cursor, \n",
    "    conn: Connection, \n",
    "    table_name: str=\"tbl_api_payloads_yfinance_daily\"\n",
    "):\n",
    "    \"\"\"\n",
    "    Insert Pandas dataframe (containing yahoo finance API call) into PostgreSQL table tbl_api_payloads_yfinance_daily,\n",
    "    with each row of table containing a business_date's data\n",
    "    TODO: implement reverse transformer, which extracts from tbl_api_payloads_yfinance_daily and\n",
    "        re-creates the original multi-index dataframe from the yfinance API calls.  Useful for future audit/debugging purposes, but not required now\n",
    "    TODO: add exception handling, retry logic\n",
    "    TODO: Log how many rows were inserted vs skipped\n",
    "    TODO: Add unit test using a mock Postgres or sqlite test instance\n",
    "    TODO: Hook into audit table (record insert status + timestamp)\n",
    "    \"\"\"\n",
    "    \n",
    "    for timestamp in df_yahoo_finance_api.index:\n",
    "        \n",
    "        # Ensure that row of yahoo_finance_api is actually a dataframe, not a series\n",
    "        row_of_df_yahoo_finance_api = df_yahoo_finance_api.loc[[timestamp]]\n",
    "        \n",
    "        # Ensures we have a list of list such as [[\"SPY\",\"Open\"],[\"SPY\",\"High\"],...].  Without orient=\"split\", it would be ('SPY', 'Open')...\n",
    "        json_payload = row_of_df_yahoo_finance_api.to_json(orient = \"split\")\n",
    "    \n",
    "        # Convert timestamp into date (without time component)\n",
    "        business_date = timestamp.date()\n",
    "        \n",
    "        cursor.execute(\n",
    "            f\"\"\"\n",
    "            INSERT INTO {table_name} (business_date, raw_payload)\n",
    "            VALUES (%s, %s)\n",
    "            ON CONFLICT (business_date) DO NOTHING;\n",
    "            \"\"\",\n",
    "            (business_date, json_payload)\n",
    "        )\n",
    "    \n",
    "    conn.commit()"
   ]
  },
  {
   "cell_type": "markdown",
   "id": "19224bde-5cc0-4af7-8280-889a050d13d3",
   "metadata": {},
   "source": [
    "### Tickers and Dates for Experiment"
   ]
  },
  {
   "cell_type": "code",
   "execution_count": 7,
   "id": "6d8cd1a2-1f0f-4e23-9fb9-9b38bf2b2a80",
   "metadata": {},
   "outputs": [],
   "source": [
    "tickers = [\"SPY\",\"QQQ\",\"GLD\"]\n",
    "start_date = '2025-04-01'\n",
    "end_date = '2025-04-11'"
   ]
  },
  {
   "cell_type": "markdown",
   "id": "9cd4875c-61bc-454e-ad00-875d38f87843",
   "metadata": {},
   "source": [
    "### Call Yahoo Finance API to load some stock prices"
   ]
  },
  {
   "cell_type": "code",
   "execution_count": 8,
   "id": "1d8df700-8843-4ee7-bc33-f249a8566aaf",
   "metadata": {
    "scrolled": true
   },
   "outputs": [
    {
     "name": "stdout",
     "output_type": "stream",
     "text": [
      "✅ Connected successfully!\n"
     ]
    }
   ],
   "source": [
    "conn, cursor = connect_to_rds(rds_host, rds_port, rds_dbname, rds_username, rds_password)"
   ]
  },
  {
   "cell_type": "code",
   "execution_count": 9,
   "id": "18cab155-7dee-49eb-af1f-af76d202c1ef",
   "metadata": {},
   "outputs": [],
   "source": [
    "create_tbl_api_payloads_yfinance_daily(cursor, conn)"
   ]
  },
  {
   "cell_type": "code",
   "execution_count": 10,
   "id": "7dfab498-c736-4e4b-ae4c-1f25adf58917",
   "metadata": {},
   "outputs": [
    {
     "name": "stdout",
     "output_type": "stream",
     "text": [
      "YF.download() has changed argument auto_adjust default to True\n"
     ]
    },
    {
     "name": "stderr",
     "output_type": "stream",
     "text": [
      "[*********************100%***********************]  3 of 3 completed\n"
     ]
    }
   ],
   "source": [
    "df_yahoo_finance_api = yf.download(tickers, start = start_date, end = end_date, period = \"1d\", group_by = \"ticker\")"
   ]
  },
  {
   "cell_type": "code",
   "execution_count": 11,
   "id": "dd30d8ba-3aa4-4f9d-a63d-a44025e296f1",
   "metadata": {},
   "outputs": [
    {
     "data": {
      "text/html": [
       "<div>\n",
       "<style scoped>\n",
       "    .dataframe tbody tr th:only-of-type {\n",
       "        vertical-align: middle;\n",
       "    }\n",
       "\n",
       "    .dataframe tbody tr th {\n",
       "        vertical-align: top;\n",
       "    }\n",
       "\n",
       "    .dataframe thead tr th {\n",
       "        text-align: left;\n",
       "    }\n",
       "\n",
       "    .dataframe thead tr:last-of-type th {\n",
       "        text-align: right;\n",
       "    }\n",
       "</style>\n",
       "<table border=\"1\" class=\"dataframe\">\n",
       "  <thead>\n",
       "    <tr>\n",
       "      <th>Ticker</th>\n",
       "      <th colspan=\"5\" halign=\"left\">SPY</th>\n",
       "      <th colspan=\"5\" halign=\"left\">GLD</th>\n",
       "      <th colspan=\"5\" halign=\"left\">QQQ</th>\n",
       "    </tr>\n",
       "    <tr>\n",
       "      <th>Price</th>\n",
       "      <th>Open</th>\n",
       "      <th>High</th>\n",
       "      <th>Low</th>\n",
       "      <th>Close</th>\n",
       "      <th>Volume</th>\n",
       "      <th>Open</th>\n",
       "      <th>High</th>\n",
       "      <th>Low</th>\n",
       "      <th>Close</th>\n",
       "      <th>Volume</th>\n",
       "      <th>Open</th>\n",
       "      <th>High</th>\n",
       "      <th>Low</th>\n",
       "      <th>Close</th>\n",
       "      <th>Volume</th>\n",
       "    </tr>\n",
       "    <tr>\n",
       "      <th>Date</th>\n",
       "      <th></th>\n",
       "      <th></th>\n",
       "      <th></th>\n",
       "      <th></th>\n",
       "      <th></th>\n",
       "      <th></th>\n",
       "      <th></th>\n",
       "      <th></th>\n",
       "      <th></th>\n",
       "      <th></th>\n",
       "      <th></th>\n",
       "      <th></th>\n",
       "      <th></th>\n",
       "      <th></th>\n",
       "      <th></th>\n",
       "    </tr>\n",
       "  </thead>\n",
       "  <tbody>\n",
       "    <tr>\n",
       "      <th>2025-04-01</th>\n",
       "      <td>557.45</td>\n",
       "      <td>562.94</td>\n",
       "      <td>553.68</td>\n",
       "      <td>560.97</td>\n",
       "      <td>54609600</td>\n",
       "      <td>288.54</td>\n",
       "      <td>289.13</td>\n",
       "      <td>285.91</td>\n",
       "      <td>287.57</td>\n",
       "      <td>15923600</td>\n",
       "      <td>467.30</td>\n",
       "      <td>473.63</td>\n",
       "      <td>464.42</td>\n",
       "      <td>472.70</td>\n",
       "      <td>41156200</td>\n",
       "    </tr>\n",
       "    <tr>\n",
       "      <th>2025-04-02</th>\n",
       "      <td>555.05</td>\n",
       "      <td>567.42</td>\n",
       "      <td>554.81</td>\n",
       "      <td>564.52</td>\n",
       "      <td>76014500</td>\n",
       "      <td>288.28</td>\n",
       "      <td>289.03</td>\n",
       "      <td>287.36</td>\n",
       "      <td>288.16</td>\n",
       "      <td>11074800</td>\n",
       "      <td>466.12</td>\n",
       "      <td>479.56</td>\n",
       "      <td>465.86</td>\n",
       "      <td>476.15</td>\n",
       "      <td>49894500</td>\n",
       "    </tr>\n",
       "    <tr>\n",
       "      <th>2025-04-03</th>\n",
       "      <td>545.11</td>\n",
       "      <td>547.97</td>\n",
       "      <td>536.70</td>\n",
       "      <td>536.70</td>\n",
       "      <td>125986000</td>\n",
       "      <td>282.78</td>\n",
       "      <td>289.09</td>\n",
       "      <td>282.45</td>\n",
       "      <td>286.42</td>\n",
       "      <td>20524400</td>\n",
       "      <td>456.44</td>\n",
       "      <td>460.07</td>\n",
       "      <td>450.14</td>\n",
       "      <td>450.66</td>\n",
       "      <td>70456300</td>\n",
       "    </tr>\n",
       "    <tr>\n",
       "      <th>2025-04-04</th>\n",
       "      <td>523.67</td>\n",
       "      <td>525.87</td>\n",
       "      <td>505.06</td>\n",
       "      <td>505.28</td>\n",
       "      <td>217965100</td>\n",
       "      <td>283.64</td>\n",
       "      <td>284.03</td>\n",
       "      <td>278.02</td>\n",
       "      <td>279.72</td>\n",
       "      <td>21517200</td>\n",
       "      <td>438.14</td>\n",
       "      <td>440.37</td>\n",
       "      <td>422.67</td>\n",
       "      <td>422.67</td>\n",
       "      <td>117088400</td>\n",
       "    </tr>\n",
       "    <tr>\n",
       "      <th>2025-04-07</th>\n",
       "      <td>489.19</td>\n",
       "      <td>523.17</td>\n",
       "      <td>481.80</td>\n",
       "      <td>504.38</td>\n",
       "      <td>256611400</td>\n",
       "      <td>278.86</td>\n",
       "      <td>280.14</td>\n",
       "      <td>272.58</td>\n",
       "      <td>273.71</td>\n",
       "      <td>19807000</td>\n",
       "      <td>408.66</td>\n",
       "      <td>443.14</td>\n",
       "      <td>402.39</td>\n",
       "      <td>423.69</td>\n",
       "      <td>161557000</td>\n",
       "    </tr>\n",
       "  </tbody>\n",
       "</table>\n",
       "</div>"
      ],
      "text/plain": [
       "Ticker        SPY                                    GLD                       \\\n",
       "Price        Open   High    Low  Close     Volume   Open   High    Low  Close   \n",
       "Date                                                                            \n",
       "2025-04-01 557.45 562.94 553.68 560.97   54609600 288.54 289.13 285.91 287.57   \n",
       "2025-04-02 555.05 567.42 554.81 564.52   76014500 288.28 289.03 287.36 288.16   \n",
       "2025-04-03 545.11 547.97 536.70 536.70  125986000 282.78 289.09 282.45 286.42   \n",
       "2025-04-04 523.67 525.87 505.06 505.28  217965100 283.64 284.03 278.02 279.72   \n",
       "2025-04-07 489.19 523.17 481.80 504.38  256611400 278.86 280.14 272.58 273.71   \n",
       "\n",
       "Ticker                  QQQ                                  \n",
       "Price         Volume   Open   High    Low  Close     Volume  \n",
       "Date                                                         \n",
       "2025-04-01  15923600 467.30 473.63 464.42 472.70   41156200  \n",
       "2025-04-02  11074800 466.12 479.56 465.86 476.15   49894500  \n",
       "2025-04-03  20524400 456.44 460.07 450.14 450.66   70456300  \n",
       "2025-04-04  21517200 438.14 440.37 422.67 422.67  117088400  \n",
       "2025-04-07  19807000 408.66 443.14 402.39 423.69  161557000  "
      ]
     },
     "execution_count": 11,
     "metadata": {},
     "output_type": "execute_result"
    }
   ],
   "source": [
    "df_yahoo_finance_api.head(n = 5)"
   ]
  },
  {
   "cell_type": "code",
   "execution_count": 12,
   "id": "f22ab0c2-35dc-40f0-8313-4104d5a855cc",
   "metadata": {},
   "outputs": [
    {
     "data": {
      "text/plain": [
       "DatetimeIndex(['2025-04-01', '2025-04-02', '2025-04-03', '2025-04-04',\n",
       "               '2025-04-07', '2025-04-08', '2025-04-09', '2025-04-10'],\n",
       "              dtype='datetime64[ns]', name='Date', freq=None)"
      ]
     },
     "execution_count": 12,
     "metadata": {},
     "output_type": "execute_result"
    }
   ],
   "source": [
    "df_yahoo_finance_api.index"
   ]
  },
  {
   "cell_type": "code",
   "execution_count": 13,
   "id": "2ced3fa0-800c-4252-ae2f-068fa74fa172",
   "metadata": {},
   "outputs": [
    {
     "data": {
      "text/plain": [
       "MultiIndex([('SPY',   'Open'),\n",
       "            ('SPY',   'High'),\n",
       "            ('SPY',    'Low'),\n",
       "            ('SPY',  'Close'),\n",
       "            ('SPY', 'Volume'),\n",
       "            ('GLD',   'Open'),\n",
       "            ('GLD',   'High'),\n",
       "            ('GLD',    'Low'),\n",
       "            ('GLD',  'Close'),\n",
       "            ('GLD', 'Volume'),\n",
       "            ('QQQ',   'Open'),\n",
       "            ('QQQ',   'High'),\n",
       "            ('QQQ',    'Low'),\n",
       "            ('QQQ',  'Close'),\n",
       "            ('QQQ', 'Volume')],\n",
       "           names=['Ticker', 'Price'])"
      ]
     },
     "execution_count": 13,
     "metadata": {},
     "output_type": "execute_result"
    }
   ],
   "source": [
    "df_yahoo_finance_api.columns"
   ]
  },
  {
   "cell_type": "markdown",
   "id": "06dd325d-4500-4e58-9afd-81ed62c9ebf0",
   "metadata": {},
   "source": [
    "### Create a function to write results of yahoo finance API call to the \"bronze\" table"
   ]
  },
  {
   "cell_type": "code",
   "execution_count": 14,
   "id": "054287f1-f649-40c5-9602-5679fd59b2f0",
   "metadata": {},
   "outputs": [],
   "source": [
    "insert_yfinance_payload_by_date(df_yahoo_finance_api, cursor, conn, \"tbl_api_payloads_yfinance_daily\")"
   ]
  },
  {
   "cell_type": "code",
   "execution_count": 15,
   "id": "eed6c11e-3df3-4163-bac7-0882ef63f45a",
   "metadata": {},
   "outputs": [
    {
     "data": {
      "text/html": [
       "<div>\n",
       "<style scoped>\n",
       "    .dataframe tbody tr th:only-of-type {\n",
       "        vertical-align: middle;\n",
       "    }\n",
       "\n",
       "    .dataframe tbody tr th {\n",
       "        vertical-align: top;\n",
       "    }\n",
       "\n",
       "    .dataframe thead th {\n",
       "        text-align: right;\n",
       "    }\n",
       "</style>\n",
       "<table border=\"1\" class=\"dataframe\">\n",
       "  <thead>\n",
       "    <tr style=\"text-align: right;\">\n",
       "      <th></th>\n",
       "      <th>business_date</th>\n",
       "      <th>ingestion_timestamp</th>\n",
       "      <th>raw_payload</th>\n",
       "    </tr>\n",
       "  </thead>\n",
       "  <tbody>\n",
       "    <tr>\n",
       "      <th>0</th>\n",
       "      <td>2025-04-01</td>\n",
       "      <td>2025-04-17 18:25:52.444728+00:00</td>\n",
       "      <td>{'data': [[557.450012207, 562.9400024414, 553....</td>\n",
       "    </tr>\n",
       "    <tr>\n",
       "      <th>1</th>\n",
       "      <td>2025-04-02</td>\n",
       "      <td>2025-04-17 18:25:52.444728+00:00</td>\n",
       "      <td>{'data': [[555.049987793, 567.4199829102, 554....</td>\n",
       "    </tr>\n",
       "    <tr>\n",
       "      <th>2</th>\n",
       "      <td>2025-04-03</td>\n",
       "      <td>2025-04-17 18:25:52.444728+00:00</td>\n",
       "      <td>{'data': [[545.1099853516, 547.9699707031, 536...</td>\n",
       "    </tr>\n",
       "    <tr>\n",
       "      <th>3</th>\n",
       "      <td>2025-04-04</td>\n",
       "      <td>2025-04-17 18:25:52.444728+00:00</td>\n",
       "      <td>{'data': [[523.6699829102, 525.8699951172, 505...</td>\n",
       "    </tr>\n",
       "    <tr>\n",
       "      <th>4</th>\n",
       "      <td>2025-04-07</td>\n",
       "      <td>2025-04-17 18:25:52.444728+00:00</td>\n",
       "      <td>{'data': [[489.1900024414, 523.1699829102, 481...</td>\n",
       "    </tr>\n",
       "  </tbody>\n",
       "</table>\n",
       "</div>"
      ],
      "text/plain": [
       "  business_date              ingestion_timestamp  \\\n",
       "0    2025-04-01 2025-04-17 18:25:52.444728+00:00   \n",
       "1    2025-04-02 2025-04-17 18:25:52.444728+00:00   \n",
       "2    2025-04-03 2025-04-17 18:25:52.444728+00:00   \n",
       "3    2025-04-04 2025-04-17 18:25:52.444728+00:00   \n",
       "4    2025-04-07 2025-04-17 18:25:52.444728+00:00   \n",
       "\n",
       "                                         raw_payload  \n",
       "0  {'data': [[557.450012207, 562.9400024414, 553....  \n",
       "1  {'data': [[555.049987793, 567.4199829102, 554....  \n",
       "2  {'data': [[545.1099853516, 547.9699707031, 536...  \n",
       "3  {'data': [[523.6699829102, 525.8699951172, 505...  \n",
       "4  {'data': [[489.1900024414, 523.1699829102, 481...  "
      ]
     },
     "execution_count": 15,
     "metadata": {},
     "output_type": "execute_result"
    }
   ],
   "source": [
    "view_table_query = \"\"\"\n",
    "SELECT * FROM tbl_api_payloads_yfinance_daily\n",
    "LIMIT 5;\n",
    "\"\"\"\n",
    "df_view = sql_query_as_df(sql_query = view_table_query, cursor = cursor)\n",
    "df_view"
   ]
  },
  {
   "cell_type": "code",
   "execution_count": 33,
   "id": "2558aa80-dcf8-453c-81a9-23c23d69d93c",
   "metadata": {},
   "outputs": [
    {
     "data": {
      "text/plain": [
       "{'data': [[557.450012207,\n",
       "   562.9400024414,\n",
       "   553.6799926758,\n",
       "   560.9699707031,\n",
       "   54609600,\n",
       "   288.5400085449,\n",
       "   289.1300048828,\n",
       "   285.9100036621,\n",
       "   287.5700073242,\n",
       "   15923600,\n",
       "   467.299987793,\n",
       "   473.6300048828,\n",
       "   464.4200134277,\n",
       "   472.700012207,\n",
       "   41156200]],\n",
       " 'index': [1743465600000],\n",
       " 'columns': [['SPY', 'Open'],\n",
       "  ['SPY', 'High'],\n",
       "  ['SPY', 'Low'],\n",
       "  ['SPY', 'Close'],\n",
       "  ['SPY', 'Volume'],\n",
       "  ['GLD', 'Open'],\n",
       "  ['GLD', 'High'],\n",
       "  ['GLD', 'Low'],\n",
       "  ['GLD', 'Close'],\n",
       "  ['GLD', 'Volume'],\n",
       "  ['QQQ', 'Open'],\n",
       "  ['QQQ', 'High'],\n",
       "  ['QQQ', 'Low'],\n",
       "  ['QQQ', 'Close'],\n",
       "  ['QQQ', 'Volume']]}"
      ]
     },
     "execution_count": 33,
     "metadata": {},
     "output_type": "execute_result"
    }
   ],
   "source": [
    "df_view[\"raw_payload\"][0]"
   ]
  },
  {
   "cell_type": "markdown",
   "id": "29e1e464-5ef3-4b0d-ae7d-5bb5f314d29a",
   "metadata": {},
   "source": [
    "### Create an ETL Pipeline to send data from \"bronze\" (raw payloads) to \"silver\" (staging) table "
   ]
  },
  {
   "cell_type": "code",
   "execution_count": 35,
   "id": "928e865e-8649-4a36-811e-10fe07821246",
   "metadata": {},
   "outputs": [],
   "source": [
    "create_price_table_staging = \"\"\"\n",
    "CREATE TABLE IF NOT EXISTS tbl_yfinance_prices_daily_staging (\n",
    "    ticker TEXT NOT NULL,\n",
    "    business_date DATE NOT NULL,\n",
    "    price_open NUMERIC,\n",
    "    price_low NUMERIC,\n",
    "    price_high NUMERIC,\n",
    "    price_close NUMERIC,\n",
    "    volume NUMERIC,\n",
    "    created_timestamp TIMESTAMPTZ DEFAULT NOW(),\n",
    "    PRIMARY KEY (ticker, business_date)\n",
    ");\n",
    "\"\"\"\n",
    "\n",
    "cursor.execute(create_price_table_staging)\n",
    "conn.commit()"
   ]
  },
  {
   "cell_type": "code",
   "execution_count": 36,
   "id": "e5a671a6-7b70-4fdd-983e-71073b6733fa",
   "metadata": {},
   "outputs": [],
   "source": [
    "## To do: After that, I need to create an ETL pipe from bronze table tbl_api_payloads_yfinance_daily  to silver table tbl_prices_daily_staging, and wrap this inside of Docker and Airflow"
   ]
  },
  {
   "cell_type": "markdown",
   "id": "97954aee-25ed-4b38-8e74-6e7efcdf9d7f",
   "metadata": {},
   "source": [
    "Okay, please summary what we are doing in each of the 3 stages: bronze, silver, and gold tables for me.  To my knowledge (and correct me if I am wrong):\n",
    "- Raw API payload is 3D, dimensionalized over: (ticker, price/volume/etc, date)\n",
    "- Bronze (tbl_api_payload_yfinance_daily): we are still re-shaping the raw API payload, because the rows of bronze table are keyed on date, so each row/date has a json structure containing (ticker, price/volume/etc).  Additionally, because we cannot store multi-indices in a json directly, we also have to flatten/unroll the multi-index into rows of keys of (ticker, price/volume/etc) mapping to a value such as $100\n",
    "- Silver (tbl_prices_daily_staging or something like that): Now, we're moved 1 more dimension over into the key, so the key is now (date, ticker) and maps to a value which is (price/volume/etc)\n",
    "- Gold (tbl_prices_daily_prod or something like that): still the same dimensions, keyed on (date, ticker) mapping to a (price/volume/etc), but we've adjusted for dividends, stock splits, etc such that the gold table's values can be directly fed into a machine learning algorithm and/or financial engineering models"
   ]
  },
  {
   "cell_type": "code",
   "execution_count": null,
   "id": "c1238b2a-8fcb-4bdd-a765-1fddf9d9ca03",
   "metadata": {},
   "outputs": [],
   "source": []
  }
 ],
 "metadata": {
  "kernelspec": {
   "display_name": "Python 3 (ipykernel)",
   "language": "python",
   "name": "python3"
  },
  "language_info": {
   "codemirror_mode": {
    "name": "ipython",
    "version": 3
   },
   "file_extension": ".py",
   "mimetype": "text/x-python",
   "name": "python",
   "nbconvert_exporter": "python",
   "pygments_lexer": "ipython3",
   "version": "3.10.12"
  }
 },
 "nbformat": 4,
 "nbformat_minor": 5
}
